{
 "cells": [
  {
   "cell_type": "markdown",
   "id": "ca39e054",
   "metadata": {
    "colab_type": "text",
    "id": "view-in-github"
   },
   "source": [
    "<a href=\"https://colab.research.google.com/github/folsomcp/specpolFlow/blob/main/tutorials/Tutorial1.ipynb\" target=\"_parent\"><img src=\"https://colab.research.google.com/assets/colab-badge.svg\" alt=\"Open In Colab\"/></a>"
   ]
  },
  {
   "cell_type": "markdown",
   "id": "b611b96d",
   "metadata": {
    "id": "b611b96d"
   },
   "source": [
    "# Importing specpolFlow into Colab for tutorial\n",
    "\n",
    "Note -- For tutorials to work with Sphinx, the first cell needs to be in markdown, and need a level 1 header (eg. # Title)"
   ]
  },
  {
   "cell_type": "markdown",
   "id": "5ZlkLs80yf5i",
   "metadata": {
    "id": "5ZlkLs80yf5i"
   },
   "source": [
    "For Google Colab, clone the repository into the Colab. If you are working locally and have a cloned version of the package in your PYTHONPATH, you can ignore the cell below."
   ]
  },
  {
   "cell_type": "code",
   "execution_count": 1,
   "id": "5868a49f",
   "metadata": {
    "colab": {
     "base_uri": "https://localhost:8080/"
    },
    "id": "5868a49f",
    "outputId": "d9b940f6-3fb2-4d7c-f9dd-681d5013392a"
   },
   "outputs": [
    {
     "name": "stdout",
     "output_type": "stream",
     "text": [
      "Cloning into 'specpolFlow'...\n",
      "remote: Enumerating objects: 115, done.\u001b[K\n",
      "remote: Counting objects: 100% (115/115), done.\u001b[K\n",
      "remote: Compressing objects: 100% (101/101), done.\u001b[K\n",
      "remote: Total 115 (delta 13), reused 108 (delta 11), pack-reused 0\u001b[K\n",
      "Receiving objects: 100% (115/115), 5.88 MiB | 21.36 MiB/s, done.\n",
      "Resolving deltas: 100% (13/13), done.\n"
     ]
    }
   ],
   "source": [
    "!git clone https://github.com/folsomcp/specpolFlow"
   ]
  },
  {
   "cell_type": "markdown",
   "id": "rx0ZFjNUzaFV",
   "metadata": {
    "id": "rx0ZFjNUzaFV"
   },
   "source": [
    "Importing packages"
   ]
  },
  {
   "cell_type": "code",
   "execution_count": 2,
   "id": "xVZkjkUIzb1t",
   "metadata": {
    "colab": {
     "base_uri": "https://localhost:8080/"
    },
    "id": "xVZkjkUIzb1t",
    "outputId": "7cf31c22-ec6f-40d5-be75-1ef80a778fb9"
   },
   "outputs": [
    {
     "name": "stdout",
     "output_type": "stream",
     "text": [
      "loading specpolFlow package\n"
     ]
    }
   ],
   "source": [
    "import specpolFlow as pol"
   ]
  },
  {
   "cell_type": "markdown",
   "id": "0Mg495cVzGHD",
   "metadata": {
    "id": "0Mg495cVzGHD"
   },
   "source": [
    "This cell below is to pull the repo again if I made some changes (without have to reset the runtime)"
   ]
  },
  {
   "cell_type": "code",
   "execution_count": 3,
   "id": "LFFqHR4_zHXw",
   "metadata": {
    "colab": {
     "base_uri": "https://localhost:8080/"
    },
    "id": "LFFqHR4_zHXw",
    "outputId": "e0a6cea5-589e-49b3-c4c5-88cb90f47778"
   },
   "outputs": [
    {
     "name": "stdout",
     "output_type": "stream",
     "text": [
      "/content/specpolFlow\n",
      "Already up to date.\n",
      "/content\n",
      "loading specpolFlow package\n"
     ]
    },
    {
     "data": {
      "text/plain": [
       "<module 'specpolFlow' from '/content/specpolFlow/__init__.py'>"
      ]
     },
     "execution_count": 3,
     "metadata": {},
     "output_type": "execute_result"
    }
   ],
   "source": [
    "%cd /content/specpolFlow\n",
    "!git pull\n",
    "%cd ..\n",
    "\n",
    "import importlib # This is in case I made modification to the module, to force reloading\n",
    "importlib.reload(pol)"
   ]
  },
  {
   "cell_type": "markdown",
   "id": "8e554acf",
   "metadata": {
    "id": "8e554acf"
   },
   "source": [
    "## Example 1: accessing the docstrings in a function\n",
    "\n",
    "This is to show that the package has loaded correctly, and we can pull a docstring from a function"
   ]
  },
  {
   "cell_type": "code",
   "execution_count": 4,
   "id": "0cfe0efe",
   "metadata": {
    "colab": {
     "base_uri": "https://localhost:8080/"
    },
    "id": "0cfe0efe",
    "outputId": "412cf32c-3112-4e7f-c5b0-6320b9952d70"
   },
   "outputs": [
    {
     "name": "stdout",
     "output_type": "stream",
     "text": [
      "Help on function read_lsd in module specpolFlow.io:\n",
      "\n",
      "read_lsd(file)\n",
      "    function that reads in a lsd profile.\n",
      "    \n",
      "    The LSD profiles are in the 'Donati' .s format.\n",
      "    The function is currently empty -- this was just to show how to documentation works.\n",
      "    \n",
      "    :param file: the file containing the LSD profile\n",
      "    :rtype: returns a... (depends on the format we want for the other tools)\n",
      "\n"
     ]
    }
   ],
   "source": [
    "help(pol.io.read_lsd)"
   ]
  },
  {
   "cell_type": "code",
   "execution_count": null,
   "id": "5KhJIUbtz0mR",
   "metadata": {
    "id": "5KhJIUbtz0mR"
   },
   "outputs": [],
   "source": []
  }
 ],
 "metadata": {
  "colab": {
   "include_colab_link": true,
   "name": "Tutorial1.ipynb",
   "provenance": []
  },
  "kernelspec": {
   "display_name": "Python 3",
   "language": "python",
   "name": "python3"
  },
  "language_info": {
   "codemirror_mode": {
    "name": "ipython",
    "version": 3
   },
   "file_extension": ".py",
   "mimetype": "text/x-python",
   "name": "python",
   "nbconvert_exporter": "python",
   "pygments_lexer": "ipython3",
   "version": "3.8.8"
  }
 },
 "nbformat": 4,
 "nbformat_minor": 5
}
