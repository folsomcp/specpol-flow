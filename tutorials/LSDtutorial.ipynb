{
 "cells": [
  {
   "cell_type": "markdown",
   "id": "149e6520",
   "metadata": {},
   "source": [
    "# Demonstration of the LSD class"
   ]
  },
  {
   "cell_type": "markdown",
   "id": "bf2378ca",
   "metadata": {},
   "source": [
    "In this tutorial, we highlight the basic functionality of the LSD class. This includes loading in LSD profiles, making quick graphs, slicing the data, and slightly more advanced capabilities such as normalizing the profiles and changing the LSD weights (wpol and wint in LSD)."
   ]
  },
  {
   "cell_type": "markdown",
   "metadata": {},
   "source": [
    "# 0. Importing Necessary Packages"
   ]
  },
  {
   "cell_type": "code",
   "execution_count": null,
   "id": "5955b855",
   "metadata": {},
   "outputs": [],
   "source": [
    "import specpolFlow.iolsd as iolsd\n",
    "import matplotlib.pyplot as plt\n",
    "import numpy as np"
   ]
  },
  {
   "cell_type": "markdown",
   "id": "2aa10f89",
   "metadata": {},
   "source": [
    "# 1. Loading and displaying LSD profiles"
   ]
  },
  {
   "cell_type": "code",
   "execution_count": null,
   "id": "0c431321",
   "metadata": {},
   "outputs": [],
   "source": [
    "# iolsd.read_lsd is used to read lsd data into an object\n",
    "lsd1 = iolsd.read_lsd('CalculateBz_tutorialfiles/SampleLSD.s')"
   ]
  },
  {
   "cell_type": "markdown",
   "id": "6e78ee49",
   "metadata": {},
   "source": [
    "The variables inside the lsd profile are arrays of values, including:\n",
    "* vel - the velocity grid \n",
    "* specI & specSigI - the Stokes I profile and its uncertainties\n",
    "* specV & specSigV - the Stokes V polarization profile and its uncertainties\n",
    "* specN1 & specSigN1 - the Null1 profile and its uncertainties\n",
    "* specN2 & specSigN2 - the (optional) Null2 profile and its uncertainties \n",
    "* header - the header of the file that was read to create the lsd_prof"
   ]
  },
  {
   "cell_type": "code",
   "execution_count": null,
   "id": "f83da647",
   "metadata": {},
   "outputs": [],
   "source": [
    "# iolsd.plot_lsd is used to plot lsd data. \n",
    "# figsize is an optional argument which changes the size of the image created\n",
    "# the default size is (10,10)\n",
    "fig, ax = lsd1.plot(figsize=(10,10))"
   ]
  },
  {
   "cell_type": "markdown",
   "id": "bd3d50e8",
   "metadata": {},
   "source": [
    "# 2. Slicing LSD profiles\n",
    "You are ble to select subsections of lsd data in the same way you do with arrays (I.e. [start:stop]). Below, we have shown how to slice `lsd1` from indices 10 to 50; this is renamed as `lsdslice`."
   ]
  },
  {
   "cell_type": "code",
   "execution_count": null,
   "id": "b826ca52",
   "metadata": {},
   "outputs": [],
   "source": [
    "lsdslice = lsd1[10:50]\n",
    "fig, ax = lsdslice.plot(figsize=(5,5))\n",
    "\n",
    "# this will create an lsd profile with all data points where vel>0 and vel<100\n",
    "lsdpos = lsd1[lsd1.vel>0]\n",
    "lsdpos = lsdpos[lsdpos.vel<100]\n",
    "fig, ax = lsdpos.plot(figsize=(5,5))\n",
    "\n",
    "# you can also return the length of the LSD profile using\n",
    "print(lsdpos.npix)\n",
    "# or\n",
    "print(len(lsdpos))"
   ]
  },
  {
   "cell_type": "markdown",
   "id": "e943f609",
   "metadata": {},
   "source": [
    "# 3. Normalization, weights, and velocity shifts\n",
    "We can normalize a LSD profile to a different continuum. From this, the Stokes parameters and the error bars are recomputed accordingly. Two methods for adjusting the LSD weights are shown below; one uses old and new wint and wpol values (this uses the `set_weights` function) and the other uses a scale facor (uses `scale`). Finally, to apply a radial velocity shift to the LSD profile, you will use `vshift` and the value in km/s you want to shift the profile by."
   ]
  },
  {
   "cell_type": "code",
   "execution_count": null,
   "id": "e27c6f32",
   "metadata": {},
   "outputs": [],
   "source": [
    "lsdnorm = lsd1.norm(0.95)\n",
    "\n",
    "lsdnorm.plot(figsize=(5,5))"
   ]
  },
  {
   "cell_type": "code",
   "execution_count": null,
   "id": "c327d337",
   "metadata": {},
   "outputs": [],
   "source": [
    "# We can also adjust the LSD weights two ways. \n",
    "\n",
    "# 1. if you want to adjust to a new wint and wpol from old ones:\n",
    "wint_old = 0.1\n",
    "wpol_old = 60 \n",
    "wint_new = 0.2\n",
    "wpol_new = 120\n",
    "\n",
    "newlsd = lsd1.set_weights(wint_old, wpol_old, wint_new, wpol_new)\n",
    "newlsd.plot(figsize=(5,5))\n",
    "\n",
    "# 2. If you have already calculated the scale factors to go from old to new, you can simply do:\n",
    "scale_int = 2.0\n",
    "scale_pol = 2.0\n",
    "\n",
    "newlsd = lsd1.scale(scale_int, scale_pol)\n",
    "newlsd.plot(figsize=(5,5))\n",
    "\n",
    "# (In fact, the set_weigths function just calls the scale function with new/old.)"
   ]
  },
  {
   "cell_type": "code",
   "execution_count": null,
   "id": "a89487ab",
   "metadata": {},
   "outputs": [],
   "source": [
    "# Finally, you can apply a radial velocity shift to the LSD profile. \n",
    "\n",
    "lsd1.vshift(50.0).plot(figsize=(5,5))\n",
    "\n",
    "# Note that in the above line, I did not save the shifted profile to a new variable\n",
    "# lsd1.vshift() returns a LSD object, on which I called the plot function\n",
    "# This whole command returns a figure that I could further manipulate with:\n",
    "# ax, fig = lsd1.vshift(50.0).plot(figsize=(5,5))\n",
    "# To save the shifted LSD profile, one could set it equal to a new variable such as:\n",
    "# newlsd = lsd1.vshift(50.0)"
   ]
  }
 ],
 "metadata": {
  "interpreter": {
   "hash": "294a0b9bfc79ce88e29f56e11670a78bb3a231581d3d3954ad0b1fa1a01a617d"
  },
  "kernelspec": {
   "display_name": "Python 3.9.7 64-bit ('base': conda)",
   "name": "python3"
  },
  "language_info": {
   "codemirror_mode": {
    "name": "ipython",
    "version": 3
   },
   "file_extension": ".py",
   "mimetype": "text/x-python",
   "name": "python",
   "nbconvert_exporter": "python",
   "pygments_lexer": "ipython3",
   "version": "3.9.7"
  },
  "vscode": {
   "interpreter": {
    "hash": "0d105923ff2751b07541a5477823aa5d88058b2fa83b28e1bf4a447aeb52c9df"
   }
  }
 },
 "nbformat": 4,
 "nbformat_minor": 5
}
