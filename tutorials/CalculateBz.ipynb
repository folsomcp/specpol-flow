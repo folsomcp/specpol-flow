{
 "cells": [
  {
   "cell_type": "markdown",
   "id": "04ec56bf",
   "metadata": {},
   "source": [
    "# Calculating the longitudinal field\n",
    "\n",
    "(In construction. Status: developing the Bz function in here, to be ported to a module afterward)"
   ]
  },
  {
   "cell_type": "code",
   "execution_count": null,
   "id": "4d8301f5",
   "metadata": {},
   "outputs": [],
   "source": []
  }
 ],
 "metadata": {
  "kernelspec": {
   "display_name": "Python 3",
   "language": "python",
   "name": "python3"
  },
  "language_info": {
   "codemirror_mode": {
    "name": "ipython",
    "version": 3
   },
   "file_extension": ".py",
   "mimetype": "text/x-python",
   "name": "python",
   "nbconvert_exporter": "python",
   "pygments_lexer": "ipython3",
   "version": "3.8.8"
  }
 },
 "nbformat": 4,
 "nbformat_minor": 5
}
