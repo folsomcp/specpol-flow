{
 "cells": [
  {
   "cell_type": "markdown",
   "id": "e88ea9f7",
   "metadata": {},
   "source": [
    "# Calculating the longitudinal field (Bz) and False Alarm Probability (FAP)"
   ]
  },
  {
   "cell_type": "markdown",
   "id": "7448ccfb",
   "metadata": {},
   "source": [
    "The calculation of the longitudinal field from a Stokes V line profile is done using:\n",
    "\n",
    "$$B_{||} = \\frac{1}{g_\\mathrm{eff} \\lambda_{B,\\mathrm{const}} \\lambda_o c}\\frac{\\int vV(v)dv}{\\int (1-I(v))dv},$$\n",
    "\n",
    "where $I$ and $V$ are in fact $V/I_c$ and $I/I_c$, and\n",
    "\n",
    "$$\\lambda_{B,\\mathrm{const}} = \\frac{e}{4\\pi m_e c^2} = 4.67\\times 10^{-13} \\mathrm{Angstrom}^{-1} \\mathrm{G}^{-1}$$\n",
    "\n",
    "Note that the `Bz` function presented here requires $\\lambda_o$ to be given as a astropy unit quantity (e.g. `500*u.nm` or `5000*u.AA`), and the unit conversion is handled by the unit package to give a result in magnetic field (Gauss) units. \n",
    "\n",
    "We assume that the LSD profile passed to the function is not an astropy unit quantity, and we assume that it is in km/s. Thus if you would like to make a `Bz` calculation on an individual line profile on a wavelength scale, you will have to convert to km/s first. \n",
    "\n",
    "We also compute the False Alarm Probability (FAP) of a signal in Stokes V and the null profile, over the same velocity range used in the Bz calculation. The FAP is the p-value corresponding to the probability of getting a devitation from V=0 that results into a $\\chi^2$ equal or larger to the one observed. \n",
    "* For a definitive detection, FAP < $10^{-5}$\n",
    "* For a marginal detection, FAP < $10^{-3}$"
   ]
  },
  {
   "cell_type": "markdown",
   "metadata": {},
   "source": [
    "# 0. Importing Necessary Packages"
   ]
  },
  {
   "cell_type": "code",
   "execution_count": null,
   "id": "1be23f05",
   "metadata": {},
   "outputs": [],
   "source": [
    "import specpolFlow as pol\n",
    "import astropy.units as u\n",
    "import pandas as pd\n",
    "import copy"
   ]
  },
  {
   "cell_type": "markdown",
   "id": "65cfd3e1",
   "metadata": {},
   "source": [
    "# 1. Example with one LSD profile"
   ]
  },
  {
   "cell_type": "markdown",
   "id": "873792ad",
   "metadata": {},
   "source": [
    "To start, we first load in an LSD profile and use the built-in plotting routine to visualize the Stokes V, I, and null profile."
   ]
  },
  {
   "cell_type": "code",
   "execution_count": null,
   "id": "4a9d7bcd",
   "metadata": {},
   "outputs": [],
   "source": [
    "lsd = pol.iolsd.read_lsd('CalculateBz_tutorialfiles/SampleLSD.s')\n",
    "fig, ax = lsd.plot()"
   ]
  },
  {
   "cell_type": "markdown",
   "id": "495fe452",
   "metadata": {},
   "source": [
    "To calculate Bz, we simply call the `calcBz` function. In this example, we have the Bz routine display a diagnostic graph. The result is returned as a dictionary, which can be easily converted to a Pandas dataframe, which is also displayed. \n",
    "\n",
    "NOTE: In old LSD profiles that do not have a Null2 column, the LSD class replaces N2 with zeros (like the example above). In this case, Bz will have a RuntimeWarning. "
   ]
  },
  {
   "cell_type": "code",
   "execution_count": null,
   "id": "44621989",
   "metadata": {},
   "outputs": [],
   "source": [
    "Bz, fig = pol.bz.calcBz(lsd, norm='auto', cog='I', \n",
    "                   velrange=[0,100],bzwidth=30, \n",
    "                   geff=1.2, lambda0=5000*u.AA,\n",
    "                   plot=True, )    \n",
    "\n",
    "Bz = pd.DataFrame(data=[Bz])\n",
    "\n",
    "# simple display of the pandas dataframe\n",
    "Bz.style"
   ]
  },
  {
   "cell_type": "markdown",
   "id": "7decd559",
   "metadata": {},
   "source": [
    "For more information on how to manipulate a dataframe, we recommend you look over the [Pandas documentation](https://pandas.pydata.org/docs/user_guide/index.html). Below, we demonstrate how to quickly extract a particular value from the dataframe."
   ]
  },
  {
   "cell_type": "code",
   "execution_count": null,
   "id": "2f0aa29d",
   "metadata": {},
   "outputs": [],
   "source": [
    "# To extract the entry for the Bz column:\n",
    "print(Bz.at[0,\"V bz (G)\"])\n",
    "\n",
    "# The 0 is the index of the row (there is only one row)"
   ]
  },
  {
   "cell_type": "markdown",
   "id": "1c8b2c5b",
   "metadata": {},
   "source": [
    "# 2. Looping over Bz calculations for a single result table. "
   ]
  },
  {
   "cell_type": "markdown",
   "id": "ee9e4237",
   "metadata": {},
   "source": [
    "Below, we loop over a list of LSD profiles, concatenate all of the resulting Pandas dataframe rows into a single column, and add a column with the name of the stars. This process is helpful if you are want to calculate Bz for multiple stars at the same time."
   ]
  },
  {
   "cell_type": "code",
   "execution_count": null,
   "id": "18551a32",
   "metadata": {},
   "outputs": [],
   "source": [
    "files = ['SampleLSD.s', 'SampleLSD2.s']\n",
    "\n",
    "\n",
    "for i in range(0,2):\n",
    "    # loading the LSD profile\n",
    "    print('### {}'.format(files[i]))\n",
    "    lsd = pol.iolsd.read_lsd('CalculateBz_tutorialfiles/{}'.format(files[i]))\n",
    "    Bz = pol.bz.calcBz(lsd, cog='I', velrange=[0,100], plot=False,\n",
    "      bzwidth=30, lambda0=5000*u.AA ) \n",
    "    Bz = pd.DataFrame(data=[Bz])\n",
    "    if i==0:\n",
    "        Bz_table=copy.copy(Bz)\n",
    "    else:\n",
    "        Bz_table = pd.concat([Bz_table, Bz], ignore_index = True)\n",
    "        \n",
    "#Let's add a column to the table with the filename\n",
    "Bz_table.insert(0, \"Filename\", files, True)\n",
    "\n",
    "# You can add a row to the table with the names of the LSD profiles. \n",
    "names = ['HD1', 'HD2']\n",
    "Bz_table.insert(0, \"Star\", names, True)\n",
    "\n",
    "#display the table\n",
    "Bz_table.style"
   ]
  },
  {
   "cell_type": "markdown",
   "id": "6b606242",
   "metadata": {},
   "source": [
    "To save this table as an ascii file, csv file, or whatever file is best suited to your needs please see the [Pandas documentation](https://pandas.pydata.org/docs/user_guide/index.html). Below, we save the table as a csv file."
   ]
  },
  {
   "cell_type": "code",
   "execution_count": null,
   "id": "a32d7002",
   "metadata": {},
   "outputs": [],
   "source": [
    "Bz_table.to_csv('BzTable.csv')"
   ]
  },
  {
   "cell_type": "markdown",
   "id": "1a3f31f4",
   "metadata": {},
   "source": [
    "You can access individual entries in the dataframe as shown above, but you can also extract rows and columns. Here are a few examples of this:"
   ]
  },
  {
   "cell_type": "code",
   "execution_count": null,
   "id": "cb62fc85",
   "metadata": {},
   "outputs": [],
   "source": [
    "# Get the row for HD2 only:\n",
    "HD2 = Bz_table[Bz_table[\"Star\"]=='HD2']\n",
    "HD2.style"
   ]
  },
  {
   "cell_type": "code",
   "execution_count": null,
   "id": "90b94d39",
   "metadata": {},
   "outputs": [],
   "source": [
    "# Get the column for the Ic and cog values\n",
    "Subset = Bz_table[[\"Ic\", \"cog\"]]\n",
    "Subset.style"
   ]
  },
  {
   "cell_type": "code",
   "execution_count": null,
   "id": "999ff296",
   "metadata": {},
   "outputs": [],
   "source": [
    "# turn this into a numpy array\n",
    "arr = Subset.to_numpy()\n",
    "print(arr)"
   ]
  }
 ],
 "metadata": {
  "interpreter": {
   "hash": "294a0b9bfc79ce88e29f56e11670a78bb3a231581d3d3954ad0b1fa1a01a617d"
  },
  "kernelspec": {
   "display_name": "Python 3.9.7 64-bit ('base': conda)",
   "name": "python3"
  },
  "language_info": {
   "codemirror_mode": {
    "name": "ipython",
    "version": 3
   },
   "file_extension": ".py",
   "mimetype": "text/x-python",
   "name": "python",
   "nbconvert_exporter": "python",
   "pygments_lexer": "ipython3",
   "version": "3.9.7"
  },
  "vscode": {
   "interpreter": {
    "hash": "af2072cb1e17796a0a619fb3438ddbe0c9ebc338bddec6f0bb88f17f16309048"
   }
  }
 },
 "nbformat": 4,
 "nbformat_minor": 5
}
