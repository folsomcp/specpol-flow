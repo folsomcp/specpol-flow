{
 "cells": [
  {
   "cell_type": "markdown",
   "id": "e88ea9f7",
   "metadata": {},
   "source": [
    "# Calculating the longitudinal field\n",
    "\n",
    "(In construction. Status: developing the Bz function in here, to be ported to a module afterward)"
   ]
  },
  {
   "cell_type": "code",
   "execution_count": 1,
   "id": "1be23f05",
   "metadata": {},
   "outputs": [
    {
     "name": "stdout",
     "output_type": "stream",
     "text": [
      "loading specpolFlow package\n",
      "importing specpolFlow.iolsd\n"
     ]
    }
   ],
   "source": [
    "import specpolFlow as pol\n",
    "import matplotlib.pyplot as plt\n",
    "import numpy as np"
   ]
  },
  {
   "cell_type": "code",
   "execution_count": 6,
   "id": "93e784a9",
   "metadata": {},
   "outputs": [
    {
     "name": "stdout",
     "output_type": "stream",
     "text": [
      "loading specpolFlow package\n"
     ]
    },
    {
     "data": {
      "text/plain": [
       "<module 'specpolFlow' from '/Users/vpetit/ASTRO/programme/specpolFlow/__init__.py'>"
      ]
     },
     "execution_count": 6,
     "metadata": {},
     "output_type": "execute_result"
    }
   ],
   "source": [
    "import importlib # This is in case I made modification to the module, to force reloading\n",
    "importlib.reload(pol)"
   ]
  },
  {
   "cell_type": "markdown",
   "id": "873792ad",
   "metadata": {},
   "source": [
    "Loading a LSD profile"
   ]
  },
  {
   "cell_type": "code",
   "execution_count": 2,
   "id": "4a9d7bcd",
   "metadata": {},
   "outputs": [],
   "source": [
    "lsd = pol.iolsd.read_lsd('SampleData/SampleLSD.s')"
   ]
  },
  {
   "cell_type": "code",
   "execution_count": 5,
   "id": "00bbc3fe",
   "metadata": {},
   "outputs": [
    {
     "ename": "NameError",
     "evalue": "name 'lsd_prof_robin' is not defined",
     "output_type": "error",
     "traceback": [
      "\u001b[0;31m---------------------------------------------------------------------------\u001b[0m",
      "\u001b[0;31mNameError\u001b[0m                                 Traceback (most recent call last)",
      "\u001b[0;32m<ipython-input-5-5b800a78c609>\u001b[0m in \u001b[0;36m<module>\u001b[0;34m\u001b[0m\n\u001b[1;32m     23\u001b[0m \u001b[0;34m\u001b[0m\u001b[0m\n\u001b[1;32m     24\u001b[0m \u001b[0;34m\u001b[0m\u001b[0m\n\u001b[0;32m---> 25\u001b[0;31m \u001b[0mfig\u001b[0m\u001b[0;34m,\u001b[0m \u001b[0max\u001b[0m \u001b[0;34m=\u001b[0m \u001b[0mplot_lsd\u001b[0m\u001b[0;34m(\u001b[0m\u001b[0mlsd\u001b[0m\u001b[0;34m[\u001b[0m\u001b[0;36m0\u001b[0m\u001b[0;34m:\u001b[0m\u001b[0mint\u001b[0m\u001b[0;34m(\u001b[0m\u001b[0mlen\u001b[0m\u001b[0;34m(\u001b[0m\u001b[0mlsd\u001b[0m\u001b[0;34m)\u001b[0m\u001b[0;34m/\u001b[0m\u001b[0;36m2\u001b[0m\u001b[0;34m)\u001b[0m\u001b[0;34m]\u001b[0m\u001b[0;34m)\u001b[0m\u001b[0;34m\u001b[0m\u001b[0;34m\u001b[0m\u001b[0m\n\u001b[0m\u001b[1;32m     26\u001b[0m \u001b[0;31m#for item in ax:\u001b[0m\u001b[0;34m\u001b[0m\u001b[0;34m\u001b[0m\u001b[0;34m\u001b[0m\u001b[0m\n\u001b[1;32m     27\u001b[0m \u001b[0;31m#    item.set_xlim(0,100)\u001b[0m\u001b[0;34m\u001b[0m\u001b[0;34m\u001b[0m\u001b[0;34m\u001b[0m\u001b[0m\n",
      "\u001b[0;32m~/ASTRO/programme/specpolFlow/iolsd.py\u001b[0m in \u001b[0;36m__getitem__\u001b[0;34m(self, key)\u001b[0m\n\u001b[1;32m    117\u001b[0m         \u001b[0;32melse\u001b[0m\u001b[0;34m:\u001b[0m\u001b[0;34m\u001b[0m\u001b[0;34m\u001b[0m\u001b[0m\n\u001b[1;32m    118\u001b[0m             \u001b[0mheader_s\u001b[0m \u001b[0;34m=\u001b[0m \u001b[0;34m\"\"\u001b[0m\u001b[0;34m\u001b[0m\u001b[0;34m\u001b[0m\u001b[0m\n\u001b[0;32m--> 119\u001b[0;31m         \u001b[0mslice_prof\u001b[0m \u001b[0;34m=\u001b[0m \u001b[0mlsd_prof_robin\u001b[0m\u001b[0;34m(\u001b[0m\u001b[0mvel_s\u001b[0m\u001b[0;34m,\u001b[0m \u001b[0mspecI_s\u001b[0m\u001b[0;34m,\u001b[0m \u001b[0mspecSigI_s\u001b[0m\u001b[0;34m,\u001b[0m \u001b[0mspecV_s\u001b[0m\u001b[0;34m,\u001b[0m \u001b[0mspecSigV_s\u001b[0m\u001b[0;34m,\u001b[0m \u001b[0mspecN1_s\u001b[0m\u001b[0;34m,\u001b[0m \u001b[0mspecSigN1_s\u001b[0m\u001b[0;34m,\u001b[0m \u001b[0mspecN2_s\u001b[0m\u001b[0;34m,\u001b[0m \u001b[0mspecSigN2_s\u001b[0m\u001b[0;34m,\u001b[0m \u001b[0mheader_s\u001b[0m\u001b[0;34m)\u001b[0m\u001b[0;34m\u001b[0m\u001b[0;34m\u001b[0m\u001b[0m\n\u001b[0m\u001b[1;32m    120\u001b[0m         \u001b[0;32mreturn\u001b[0m \u001b[0mslice_prof\u001b[0m\u001b[0;34m\u001b[0m\u001b[0;34m\u001b[0m\u001b[0m\n\u001b[1;32m    121\u001b[0m \u001b[0;34m\u001b[0m\u001b[0m\n",
      "\u001b[0;31mNameError\u001b[0m: name 'lsd_prof_robin' is not defined"
     ]
    }
   ],
   "source": [
    "def plot_lsd(lsd, figsize=(10,10), **kwargs):\n",
    "    '''Plot the LSD profile\n",
    "    \n",
    "    :param lsd: a lsd object\n",
    "    :rtype: returns an fig, ax matplotlib container. \n",
    "    '''\n",
    "    \n",
    "    fig, ax = plt.subplots(4,1,figsize=figsize,sharex=True)\n",
    "        \n",
    "    ax[3].errorbar(lsd.vel, lsd.specI, yerr=lsd.specSigI, xerr=None, fmt='o', ms=3,ecolor='0.5',c='k',**kwargs)\n",
    "    ax[2].errorbar(lsd.vel, lsd.specN1, yerr=lsd.specSigN1, xerr=None, fmt='o', ms=3,ecolor='0.5',c='k',**kwargs)\n",
    "    ax[1].errorbar(lsd.vel, lsd.specN2, yerr=lsd.specSigN2, xerr=None, fmt='o', ms=3,ecolor='0.5',c='k',**kwargs)\n",
    "    ax[0].errorbar(lsd.vel, lsd.specV, yerr=lsd.specSigV, xerr=None, fmt='o', ms=3, ecolor='0.5',c='k',**kwargs)\n",
    "    plt.subplots_adjust(hspace=.0)\n",
    "    ax[3].set_xlabel('Velocity (km/s)')\n",
    "    ax[3].set_ylabel('I')\n",
    "    ax[2].set_ylabel('N1')\n",
    "    ax[1].set_ylabel('N2')\n",
    "    ax[0].set_ylabel('V')\n",
    "    \n",
    "\n",
    "    return(fig, ax)\n",
    "\n",
    "\n",
    "fig, ax = plot_lsd(lsd[0:int(len(lsd)/2)])\n",
    "#for item in ax: \n",
    "#    item.set_xlim(0,100)"
   ]
  },
  {
   "cell_type": "code",
   "execution_count": 38,
   "id": "23d50cbf",
   "metadata": {},
   "outputs": [
    {
     "data": {
      "text/plain": [
       "0.00015536"
      ]
     },
     "execution_count": 38,
     "metadata": {},
     "output_type": "execute_result"
    }
   ],
   "source": [
    "lsd.specV[0]"
   ]
  },
  {
   "cell_type": "code",
   "execution_count": 47,
   "id": "91bd0b49",
   "metadata": {},
   "outputs": [],
   "source": [
    "## just a quick fix to trim\n",
    "## will be changed in the class later?\n",
    "def trimLSD(lsd, velrange):\n",
    "    mask = np.logical_and(lsd.vel>=velrange[0], lsd.vel<=velrange[1])\n",
    "    npix = mask.sum()\n",
    "    #create an empty LSD object\n",
    "    lsdtrim = pol.iolsd.lsd_prof()\n",
    "    lsdtrim.npix=npix\n",
    "    lsdtrim.vel = lsd.vel[mask]\n",
    "    lsdtrim.specI     = lsd.specI[mask]\n",
    "    lsdtrim.specSigI  = lsd.specSigI[mask]\n",
    "    lsdtrim.specV     = lsd.specV[mask]\n",
    "    lsdtrim.specSigV  = lsd.specSigV[mask]\n",
    "    lsdtrim.specN1    = lsd.specN1[mask]\n",
    "    lsdtrim.specSigN1 = lsd.specSigN1[mask]\n",
    "    lsdtrim.specN2    = lsd.specN2[mask]\n",
    "    lsdtrim.specSigN2 = lsd.specSigN2[mask]\n",
    "    lsdtrim.header = lsd.header\n",
    "    return(lsdtrim)    "
   ]
  },
  {
   "cell_type": "code",
   "execution_count": null,
   "id": "44621989",
   "metadata": {},
   "outputs": [],
   "source": [
    "def calcBz(lsd, cog='I', velrange=None, plot=True):\n",
    "    '''Calculate the Bz of an LSD profile\n",
    "    \n",
    "    :param lsd: lsd object (input)\n",
    "    :param cog: choice of value, of calculation method for the center of gravity.\n",
    "    :param plot: whether or not a graph is displayed. \n",
    "    '''\n",
    "\n",
    "    if range =! None:\n",
    "        lsd_in = trimLSD(lsd, velrange)\n",
    "    else:\n",
    "        lsd_in=lsd\n",
    "    \n",
    "    \n",
    "    if plot:\n",
    "        fig, ax = plot_lsd(lsd)\n",
    "        # for the plot, calculate and display all of the possible methods\n",
    "        # for calculating the cog. \n",
    "        \n",
    "\n",
    "    # Check ig cog is a string.\n",
    "    if isinstance(cog, str):\n",
    "        # calculate the cog for the chosen method\n",
    "        print('Not there yet...')\n",
    "    else:\n",
    "        cog_val=cog\n",
    "        \n",
    "    \n",
    "    \n",
    "        \n",
    "    \n",
    "    "
   ]
  }
 ],
 "metadata": {
  "kernelspec": {
   "display_name": "Python 3",
   "language": "python",
   "name": "python3"
  },
  "language_info": {
   "codemirror_mode": {
    "name": "ipython",
    "version": 3
   },
   "file_extension": ".py",
   "mimetype": "text/x-python",
   "name": "python",
   "nbconvert_exporter": "python",
   "pygments_lexer": "ipython3",
   "version": "3.8.8"
  }
 },
 "nbformat": 4,
 "nbformat_minor": 5
}
