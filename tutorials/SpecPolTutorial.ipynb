{
 "cells": [
  {
   "attachments": {},
   "cell_type": "markdown",
   "metadata": {},
   "source": [
    "# Using SpecPolFlow: Example $\\xi^1$ CMa (HD 46328)"
   ]
  },
  {
   "attachments": {},
   "cell_type": "markdown",
   "metadata": {},
   "source": [
    "<img src=\"specpolFlow_tutorialfiles/diagram4.png\" align: center width=\"1000px\">\n",
    "\n",
    "In the below code, we will walk through how to use [SpecPolFlow](https://github.com/folsomcp/specpolFlow) (with the use of [LSDpy](https://github.com/folsomcp/LSDpy)) with the spectra and polarization data of the magnetic B star $\\xi^1$ CMa (HD 46328) ([Erba et al. 2021](https://doi.org/10.1093/mnras/stab1454)), (ESPaDOnS). The code has the following structure:\n",
    "1. Star Selection\n",
    "2. Import packages\n",
    "3. Creating the LSD Line Mask\n",
    "4. Cleaning Line Mask\n",
    "5. Creating LSD Profile\n",
    "6. Extracting $B_{\\text{z}}$\n",
    "\n",
    "For additional information on the uses and outputs of either code, please consult their respective GitHubs linked above."
   ]
  },
  {
   "attachments": {},
   "cell_type": "markdown",
   "metadata": {},
   "source": [
    "# 1. Star Selection\n",
    "0. To use this tutorial, you must start with a normalized spectrum (.s file). If you do not have a .s file (you have .fits or .p files), please see our normalization tutorial for [normPlot](https://github.com/folsomcp/normPlot).\n",
    "1. Collect .s file. For this example, we provide the file (hd46328_test_1.s)(ObsId: 2378216p). \n",
    "2. Collect important stellar parameters ($T_{\\text{eff}}$, log $_g$ , $v\\sin i$, observation specific radial velocities). These are provided below: \n",
    "    * $T_{\\text{eff}} = 27000$ K\n",
    "    * $\\log g = 3.5$ (cgs)\n",
    "    * $v\\sin i  = 15$ km $\\text{s}^{-1}$\n",
    "    * $\\text{RV} = 12$ km $\\text{s}^{-1}$\n",
    "3. Next we will need to obtain a list of atomic and molecular transition parameters for $\\xi^1$ CMa from the Vienna Atomic Line Database (VALD) ([Ryabchikova et al. 2015](https://ui.adsabs.harvard.edu/abs/2015PhyS...90e4005R/abstract)). The long list for this star is provided (LongList_T27000G35.dat), however, to retrieve a VALD long list, one can click the \"Extract Stellar\" button on the [VALD website](http://vald.astro.uu.se/).  Note that you need to register an email to access the site. The following input was used to obtain the example long list:\n",
    "    * Starting wavelength: 3700  $\\text{\\AA}$\n",
    "    * Ending wavelength: 9000  $\\text{\\AA}$\n",
    "    * Detection threshold: 0.01 (line depths shallower than this threshold are not included)\n",
    "    * Microturbulence: 2 km $\\text{s}^{-1}$\n",
    "    * $T_{\\text{eff}} = 27000$ K\n",
    "    * $\\log g = 3.5$ (cgs)\n",
    "    * Chemical Composition: 0.0 [Fe/H] (Solar)\n",
    "    * Long format\n",
    "    * Linelist configuration: Default\n",
    "\n",
    "The long list file is a text file consisting of a header line containing information on the wavelength range of the list, as well as other information about the content of the file. Each spectral line has four rows of information in the file: the first row contains the most relevant information for making the mask, but the format is rather unpleasant to use. The line mask has a much more simplistic format that makes it easier to parse and manipulate. Additionally, the line mask calculates the effective Landé factor for each of the lines. \n",
    "    \n",
    "\n",
    "   "
   ]
  },
  {
   "cell_type": "code",
   "execution_count": null,
   "metadata": {},
   "outputs": [],
   "source": [
    "\n",
    "# remove these once they're published\n",
    "!git clone https://github.com/folsomcp/specpolFlow\n",
    "!git clone https://github.com/folsomcp/LSDpy"
   ]
  },
  {
   "attachments": {},
   "cell_type": "markdown",
   "metadata": {},
   "source": [
    "# 2. Importing Necessary Packages\n",
    "Now that all outside data (.s and .dat files) has been obtained, the process of extracting the Bz can begin."
   ]
  },
  {
   "cell_type": "code",
   "execution_count": null,
   "metadata": {},
   "outputs": [],
   "source": [
    "import numpy as np\n",
    "import pandas as pd\n",
    "import astropy.units as u\n",
    "import astropy.constants as const\n",
    "import specpolFlow as pol\n",
    "import LSDpy"
   ]
  },
  {
   "attachments": {},
   "cell_type": "markdown",
   "metadata": {},
   "source": [
    "# 3. Creating LSD Line Mask\n",
    "\n",
    "To convert the VALD long list into a mask, one needs to call the `make_mask` function using the .dat long list. The user will need to specify the location and name of the output file, `depthCutoff`, and `atomsOnly` (`atomsOnly` = True excludes H lines). This will create a .mask file."
   ]
  },
  {
   "cell_type": "code",
   "execution_count": null,
   "metadata": {},
   "outputs": [],
   "source": [
    "\n",
    "file_name = 'specpolFlow_tutorialfiles/LongList_T27000G35.dat'\n",
    "file_output = 'specpolFlow_tutorialfiles/test_output/T27000G35_depth0.02.mask'\n",
    "mask_file = pol.makeMask.make_mask(file_name, file_output, depthCutoff = 0.02, atomsOnly = True)\n",
    "\n",
    "spectrum = 'specpolFlow_tutorialfiles/hd46328_test_1.s'"
   ]
  },
  {
   "attachments": {},
   "cell_type": "markdown",
   "metadata": {},
   "source": [
    "# 4. Cleaning Line Mask \n",
    "Next, we remove sections in the mask that we do not want affecting the LSD profile. These include regions 100 km $\\text{s}^{-1}$ (specific to this example) around the Balmer series and Balmer gap, around the H-jump, and in areas of telluric contamination. We remove these sections because the lines are either of the wrong shape or the data is contaminated by the atmosphere; both would negativley effect later processing.\n",
    "\n",
    "First the `default_exclude_regions` function takes in the velocity range that you want to exclude and outputs a python dictionary with two elements, WLStart and WLFinish, both of which are arrays. Then the `clean_model_mask` removes the lines within regions specified by the `default_exclude_regions` output. It takes in the path of the input and output line masks, and the dictionary with the excluded regions. It will then output the new line mask as a .mask file at the specified path. The user supplies the line mask created in the previous step and the function outputs the cleaned outputs with user-specified parameters. The new line mask will be a .mask file at the specified path.\n",
    "\n",
    "\n"
   ]
  },
  {
   "cell_type": "code",
   "execution_count": null,
   "metadata": {},
   "outputs": [],
   "source": [
    "#Location of the output file\n",
    "clean_mask = 'specpolFlow_tutorialfiles/test_output/hd46328_test_depth0.02_clean.mask'"
   ]
  },
  {
   "cell_type": "code",
   "execution_count": null,
   "metadata": {},
   "outputs": [],
   "source": [
    "# inputs\n",
    "# user manual for telleric regions\n",
    "velrange = 400 # units are in km/s\n",
    "excluded_regions = pol.cleanMask.default_exclude_regions(velrange)\n",
    "excluded_regions"
   ]
  },
  {
   "cell_type": "code",
   "execution_count": null,
   "metadata": {},
   "outputs": [],
   "source": [
    "# visualization of excluded regions\n",
    "pd.DataFrame(excluded_regions)"
   ]
  },
  {
   "cell_type": "code",
   "execution_count": null,
   "metadata": {},
   "outputs": [],
   "source": [
    "# run cleanmask fuction\n",
    "pol.cleanMask.clean_model_mask(file_output, clean_mask, excluded_regions)"
   ]
  },
  {
   "cell_type": "code",
   "execution_count": null,
   "metadata": {},
   "outputs": [],
   "source": [
    "# for Spectrum and excluded regions visualization\n",
    "pol.cleanMask.Excluded_Regions_Visual(spectrum, clean_mask, excluded_regions)   "
   ]
  },
  {
   "attachments": {},
   "cell_type": "markdown",
   "metadata": {},
   "source": [
    "# 5. Create LSD Profile\n",
    "Least-Squares Deconvolution (LSD) is a cross-correlation technique for computing the weighted average of selected spectral lines ([Donati et al. 1992](https://ui.adsabs.harvard.edu/abs/1997MNRAS.291..658D/abstract)). From [LSDpy](https://github.com/folsomcp/LSDpy), we use the default conditions:\n",
    "* normDepth = 0.2 — normalized line depth\n",
    "* normLande = 1.2 — normalized effective Lande factor\n",
    "* normWave = 500.0 — normalized wavelength\n",
    "* removeContPol = 1 — flag for whether the continuum polarization is subtracted from the LSD profile (0 = no, 1 = yes)\n",
    "* trimMask = 0 — flag for whether very closely spaced lines should be removed from the line mask (0 = no, 1 = yes)\n",
    "* sigmaClipIter = 0 — number of iterations for sigma clipping, rejecting possible pad pixels based on the fit to Stokes I\n",
    "* sigmaClip = 500 — if sigma cliping, reject pixels where the observation differs from the model by more than this number of sigma\n",
    "* interpMode = 1 — mode for interpolating the model on to the observation during LSD (0 = nearest neighbor, 1 = linear interpolation)\n",
    "\n",
    "To capture the entire line profile, the range of the LSD profile is set to be 100 km $s^{-1}$ for this star. Additionally, the pixel size should be set relative to the resolution of the original data; for ESPaDOnS data, one should not go below $2.6$ km/s per pixel. In a case where the line profile is very broad, it may be advantageous to use larger pixels but make sure the profile has enough data. For our example, we use the ESPaDOnS lower threshold of $2.6$ km $s^{-1}$ per pixel.\n",
    "\n",
    "When calling `main`, specify the file (.s file) and mask (.mask file). In the below code, we also input a name and location of the outfile (.lsd) but you can choose to display this information without an outfile by calling the variable associated with `lsdpy.main`, which is `lsdoutput` in this example. Outputs here include average observed velocity spacing, number of data points, reduced $\\chi^2$ for Stokes V, Stokes I, and N1. For all outputs from this function and additional information on the utilities of the LSD class, see [LSDpy](https://github.com/folsomcp/LSDpy)."
   ]
  },
  {
   "cell_type": "code",
   "execution_count": null,
   "metadata": {},
   "outputs": [],
   "source": [
    "outfile = 'specpolFlow_tutorialfiles/test_output/hd46328_test_1.lsd'\n",
    "\n",
    "\n",
    "lsdoutput = LSDpy.lsdpy.main(observation = spectrum, mask = clean_mask, outName = outfile, \n",
    "           velStart =- 100.0, velEnd = 100.0, velPixel = 2.6, \n",
    "           normDepth = 0.2, normLande = 1.2, normWave = 500.0,\n",
    "           removeContPol = 1, trimMask = 0, sigmaClipIter = 0, sigmaClip = 500, \n",
    "           interpMode = 1, fSaveModelS = 0, outModelName = '',\n",
    "           fLSDPlotImg = 0, fSavePlotImg = 0, outPlotImgName = '')"
   ]
  },
  {
   "cell_type": "code",
   "execution_count": null,
   "metadata": {},
   "outputs": [],
   "source": [
    "lsd = pol.iolsd.read_lsd(outfile)\n",
    "lsd.plot()"
   ]
  },
  {
   "attachments": {},
   "cell_type": "markdown",
   "metadata": {},
   "source": [
    "# 6. Calculate $B_z$ from LSD Profile\n",
    "\n",
    "To calculate Bz we will be using the `calc_Bz` function which takes in the following:\n",
    "* lsd - the LSD profile to be used\n",
    "* cog - the center of gravity. This can either be set manually or calculated from one of the built in functions below.\n",
    "    * I (from Stokes I)\n",
    "    * IV (from Stokes I times V)\n",
    "    * V (from Stokes V)\n",
    "    * min (minimum of profile)\n",
    "* velrange - the total range over which will be considered in the Bz calculation. This includes the line itself as well as a little extra on either side\n",
    "* plot - a flag that determines if an output plot will be automatically generated\n",
    "* bzwidth - the range over which the Bz will be calculated. This show just include the line itself. If given a single number it will center the range on the cog value.\n",
    "\n",
    "In the first example we are manually setting the velocity range and Bz width, however it is often useful to set the velocity range slightly larger than the vsini and shifted to be centered on the cog value. By these standards, for this example, velrange _*would*_ be `velrange=[12-1.5*vsini,12+1.5*vsini]` and bzwidth _*would*_ be `bzwidth=vsini`. \n",
    "\n",
    "In the second example the cog value is being set automatically using the I method. \n",
    "\n",
    "The function will then output a dictionary with the following outputs:\n",
    "* Ic: continuum value used for normalization\n",
    "* Cog: the center of gravity value\n",
    "* Bzwidth min (km $s^{-1}$): Lower bound of the Bz width\n",
    "* Bzwidth max (km $s^{-1}$): Upper bound of Bz width\n",
    "* V bz (G): Bz calculated from Stokes V profile\n",
    "* V bz sig (G): standard deviation\n",
    "* V FAP: false alarm probability [FAP (Donati et al. 1997)](https://ui.adsabs.harvard.edu/abs/1997MNRAS.291..658D/abstract). Definite detection (DD) is defined as having a FAP $< 10^{-5}$. A non-detection (ND) is defined as having a FAP $> 10^{-3}$. FAPs between $10^{-5}$ and $10^{-3}$ are defined as a marginal detection (MD).\n",
    "* Null calculations - N1 and N2 are two different methods for null profile calculations; N1 is most commonly used.\n",
    "    * N1 bz (G): Bz calculated from the Null 1 profile\n",
    "    * N1 bz sig (G): standard deviation\n",
    "    * N1 FAP: false alarm probability of Null 1 Bz measurement\n",
    "    * N2 bz (G): Bz calculated from the Null 2 profile\n",
    "    * N2 bz sig (G): standard deviation\n",
    "    * N2 FAP: false alarm probability of Null 2 Bz measurement\n",
    "    \n",
    "To see additional capabilities of the Bz function, see [SpecPolFlow](https://github.com/folsomcp/specpolFlow) or for a more detailed tutorial, see the [Bz tutorial](https://github.com/folsomcp/specpolFlow/blob/main/tutorials/CalculateBz.ipynb)."
   ]
  },
  {
   "cell_type": "code",
   "execution_count": null,
   "metadata": {},
   "outputs": [],
   "source": [
    "# Bz calculation using manual cog selection\n",
    "vrad = 12\n",
    "velrange = [-18,42] # the velocity range over which the center line is found\n",
    "bzwidth = 20 # this is the width about the center line used to calculate Bz\n",
    "\n",
    "lsd = pol.iolsd.read_lsd(outfile)\n",
    "Bz, fig = pol.bz.calcBz(lsd = lsd, cog = vrad, velrange = velrange, plot = True, bzwidth = bzwidth)"
   ]
  },
  {
   "cell_type": "code",
   "execution_count": null,
   "metadata": {},
   "outputs": [],
   "source": [
    "# The below dataframe contains the defaults outputs \n",
    "pd.DataFrame([Bz])"
   ]
  },
  {
   "cell_type": "code",
   "execution_count": null,
   "metadata": {},
   "outputs": [],
   "source": [
    "#Bz calculation using automatic cog selection (I)\n",
    "vsini = 15\n",
    "vrad = 12\n",
    "\n",
    "lsd = pol.iolsd.read_lsd(outfile)\n",
    "Bz, fig = pol.bz.calcBz(lsd = lsd, cog = 'I', velrange = [(vrad-1.5*vsini),(vrad+1.5*vsini)], plot = True, bzwidth = vsini)"
   ]
  },
  {
   "cell_type": "code",
   "execution_count": null,
   "metadata": {},
   "outputs": [],
   "source": [
    "pd.DataFrame([Bz])"
   ]
  }
 ],
 "metadata": {
  "interpreter": {
   "hash": "9096a9325c2238f7c7dc859512855e0a5faf2c2a2da4d3afd5e85813d7c6875b"
  },
  "kernelspec": {
   "display_name": "Python 3.9.7 64-bit ('SpecPolFlow': conda)",
   "name": "python3"
  },
  "language_info": {
   "codemirror_mode": {
    "name": "ipython",
    "version": 3
   },
   "file_extension": ".py",
   "mimetype": "text/x-python",
   "name": "python",
   "nbconvert_exporter": "python",
   "pygments_lexer": "ipython3",
   "version": "3.9.7"
  },
  "orig_nbformat": 4,
  "vscode": {
   "interpreter": {
    "hash": "221cf745a50752b1f54fb96d9f0ca2b5ce0ad225ce1a0de0735da9d247361018"
   }
  }
 },
 "nbformat": 4,
 "nbformat_minor": 2
}
