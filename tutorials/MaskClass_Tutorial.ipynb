{
 "cells": [
  {
   "attachments": {},
   "cell_type": "markdown",
   "metadata": {},
   "source": [
    "# Mask Tutorial\n",
    "\n",
    "In this tutorial, we go over the importance of masks, as well as how they are made and used. "
   ]
  },
  {
   "cell_type": "code",
   "execution_count": 4,
   "metadata": {},
   "outputs": [],
   "source": [
    "import specpolFlow as pol\n",
    "import matplotlib.pyplot as plt\n",
    "import numpy as np\n",
    "import pandas as pd"
   ]
  },
  {
   "attachments": {},
   "cell_type": "markdown",
   "metadata": {},
   "source": [
    "## 0. What is a Mask?\n",
    "\n",
    "Analytically, a mask is a function with dirac deltas at wavelengths corresponding to specific spectral line. The amplitude of the dirac delta function corresponds to the line depth. Numerically, a mask is an array of zeros with a depth at the center of each line. Thus, the mask tells us the location and depth of all lines in a spectrum but does not tell us about the shape of the lines of the spectrum as a whole.\n",
    "\n",
    "## 1. Why do we care?\n",
    "\n",
    "Given an LSD profile and a mask, we can convolve the LSD profile with the mask to get the spectrum. Typically though, we have the spectrum and a mask but want the LSD profile. This process of going from a spectrum and a line mask to a LSD profile can be done by doing the reverse operation called a deconvolution. We need a mask to help us weigh each spectral line in the spectrum so that they can be averaged together in an LSD.\n",
    "\n",
    "Note that the hydrogen lines are automatically exluded when `atomsOnly` is `True`. This is done since the hydrogen lines have different shape than all the other lines in the spectrum due to their broad wings.\n",
    "\n",
    "## 2. Mask Creation\n",
    "\n",
    "To create a mask we will use the `make_mask` function. The function has the following inputs:\n",
    "* lineListFile - name of the file containing the line list\n",
    "* maskFile - name of the file to write the output mask to\n",
    "* depthCutoff - only include lines in the mask that are deeper than this value\n",
    "* wlStart - optional, use only lines with wavelengths above this\n",
    "* wlEnd - optional, use only lines with wavelengths below this\n",
    "* landeStart - optional, use only lines with effective Lande factors above this\n",
    "* landeEnd - optional, use only lines with effective Lande factors below this\n",
    "* elementsUsed - optional, list of elements to include in the mask creation\n",
    "* elementsExclude - optional, list of elements to exlude from the mask creation\n",
    "* atomsOnly - only include atomic lines (no molecular lines and no H-lines)\n",
    "* includeNoLande - include lines in the mask even if they don't have an effective Lande factor given\n",
    "* DefaultLande - the value for the effective Lande factor to use in the case that a line has no listed effective Lande factor \n",
    "\n",
    "For most cases you will only use the top three inputs and `atomsOnly`. The input line list is a VALD line list file and is obtained from the VALD website. More details about VALD is given in `SpecpolTutorial.ipynb`. The `make_mask` function will automatically attempt to calculate the effective Lande factor for lines where it is not given, however if one is unable to be calculated it will be excluded if `includeNoLande` is `False` or it will equal `DefaultLande` if `includeNoLande` is `True`.\n",
    "\n",
    "In the example case used below, we are using all atomic lines in the line list except ones without effective Lande factors and the H-lines. \n"
   ]
  },
  {
   "cell_type": "code",
   "execution_count": 8,
   "metadata": {},
   "outputs": [
    {
     "name": "stdout",
     "output_type": "stream",
     "text": [
      "missing Lande factors for 160 lines (skipped) from:\n",
      "['He 2', 'O 2']\n",
      "skipped all lines for species:\n",
      "['H 1']\n"
     ]
    }
   ],
   "source": [
    "LineList_file_name = 'OneObservationFlow_tutorialfiles/LongList_T27000G35.dat'\n",
    "Mask_file_name = 'OneObservationFlow_tutorialfiles/test_output/T27000G35_depth0.02.mask'\n",
    "\n",
    "mask_clean = pol.make_mask(LineList_file_name, Mask_file_name, depthCutoff = 0.02, atomsOnly = True)"
   ]
  },
  {
   "attachments": {},
   "cell_type": "markdown",
   "metadata": {},
   "source": [
    "## 3. Mask Cleaning\n",
    "\n",
    "Once we have our mask, we need to clean it. Mask cleaning is the removal of lines that we don't want to be used in the LSD profile. Typically, excluded lines include all lines within the Telluric regions as well as lines within the H wings. Lines within the Telluric regions are contaminated by Earth's atmosphere and thus are not useable. Lines in the H wings are blended with Hydrogen lines thus they are contaminated and unusable since they have a different shape (will effect averaging). Additionally, when dealing with stars with emission, care should be taken to exclude the emission lines if they have different shapes.\n",
    "\n",
    "In this tutorial, we will use some already defined regions to clean the mask (see the ExcludeMaskRegion_Tutorial for more details)."
   ]
  },
  {
   "cell_type": "code",
   "execution_count": 7,
   "metadata": {},
   "outputs": [
    {
     "data": {
      "text/html": [
       "<div>\n",
       "<style scoped>\n",
       "    .dataframe tbody tr th:only-of-type {\n",
       "        vertical-align: middle;\n",
       "    }\n",
       "\n",
       "    .dataframe tbody tr th {\n",
       "        vertical-align: top;\n",
       "    }\n",
       "\n",
       "    .dataframe thead th {\n",
       "        text-align: right;\n",
       "    }\n",
       "</style>\n",
       "<table border=\"1\" class=\"dataframe\">\n",
       "  <thead>\n",
       "    <tr style=\"text-align: right;\">\n",
       "      <th></th>\n",
       "      <th>start</th>\n",
       "      <th>stop</th>\n",
       "      <th>type</th>\n",
       "    </tr>\n",
       "  </thead>\n",
       "  <tbody>\n",
       "    <tr>\n",
       "      <th>0</th>\n",
       "      <td>654.967529</td>\n",
       "      <td>657.594471</td>\n",
       "      <td>Halpha</td>\n",
       "    </tr>\n",
       "    <tr>\n",
       "      <th>1</th>\n",
       "      <td>485.167047</td>\n",
       "      <td>487.112953</td>\n",
       "      <td>Hbeta</td>\n",
       "    </tr>\n",
       "    <tr>\n",
       "      <th>2</th>\n",
       "      <td>433.181299</td>\n",
       "      <td>434.918701</td>\n",
       "      <td>Hgamma</td>\n",
       "    </tr>\n",
       "    <tr>\n",
       "      <th>3</th>\n",
       "      <td>409.349092</td>\n",
       "      <td>410.990908</td>\n",
       "      <td>Hdelta</td>\n",
       "    </tr>\n",
       "    <tr>\n",
       "      <th>4</th>\n",
       "      <td>396.215430</td>\n",
       "      <td>397.804570</td>\n",
       "      <td>Hepsilon</td>\n",
       "    </tr>\n",
       "    <tr>\n",
       "      <th>5</th>\n",
       "      <td>360.000000</td>\n",
       "      <td>392.000000</td>\n",
       "      <td>Hjump</td>\n",
       "    </tr>\n",
       "    <tr>\n",
       "      <th>6</th>\n",
       "      <td>587.500000</td>\n",
       "      <td>592.000000</td>\n",
       "      <td>telluric</td>\n",
       "    </tr>\n",
       "    <tr>\n",
       "      <th>7</th>\n",
       "      <td>627.500000</td>\n",
       "      <td>632.500000</td>\n",
       "      <td>telluric</td>\n",
       "    </tr>\n",
       "    <tr>\n",
       "      <th>8</th>\n",
       "      <td>686.000000</td>\n",
       "      <td>705.300000</td>\n",
       "      <td>telluric</td>\n",
       "    </tr>\n",
       "    <tr>\n",
       "      <th>9</th>\n",
       "      <td>717.000000</td>\n",
       "      <td>735.000000</td>\n",
       "      <td>telluric</td>\n",
       "    </tr>\n",
       "    <tr>\n",
       "      <th>10</th>\n",
       "      <td>759.000000</td>\n",
       "      <td>771.000000</td>\n",
       "      <td>telluric</td>\n",
       "    </tr>\n",
       "    <tr>\n",
       "      <th>11</th>\n",
       "      <td>790.000000</td>\n",
       "      <td>795.000000</td>\n",
       "      <td>telluric</td>\n",
       "    </tr>\n",
       "    <tr>\n",
       "      <th>12</th>\n",
       "      <td>809.000000</td>\n",
       "      <td>990.000000</td>\n",
       "      <td>telluric</td>\n",
       "    </tr>\n",
       "  </tbody>\n",
       "</table>\n",
       "</div>"
      ],
      "text/plain": [
       "         start        stop      type\n",
       "0   654.967529  657.594471    Halpha\n",
       "1   485.167047  487.112953     Hbeta\n",
       "2   433.181299  434.918701    Hgamma\n",
       "3   409.349092  410.990908    Hdelta\n",
       "4   396.215430  397.804570  Hepsilon\n",
       "5   360.000000  392.000000     Hjump\n",
       "6   587.500000  592.000000  telluric\n",
       "7   627.500000  632.500000  telluric\n",
       "8   686.000000  705.300000  telluric\n",
       "9   717.000000  735.000000  telluric\n",
       "10  759.000000  771.000000  telluric\n",
       "11  790.000000  795.000000  telluric\n",
       "12  809.000000  990.000000  telluric"
      ]
     },
     "execution_count": 7,
     "metadata": {},
     "output_type": "execute_result"
    }
   ],
   "source": [
    "# inputs\n",
    "velrange = 600 # units are in km/s\n",
    "excluded_regions = pol.get_Balmer_regions_default(velrange) + pol.get_telluric_regions_default()\n",
    "\n",
    "# Display the excluded regions using Pandas\n",
    "pd.DataFrame(excluded_regions.to_dict())"
   ]
  },
  {
   "attachments": {},
   "cell_type": "markdown",
   "metadata": {},
   "source": [
    "Once we have our excluded regions, we can clean the mask using the `clean_model_mask` function. This function takes in the name of the uncleaned mask, the name of the output mask file, and the dictionary containing the excluded regions. The ouput is a cleaned line mask; lines lying within the `excluded_regions` have been removed.\n"
   ]
  },
  {
   "cell_type": "code",
   "execution_count": 10,
   "metadata": {},
   "outputs": [],
   "source": [
    "# Reading in the mask that we created earlier\n",
    "mask = pol.read_mask('OneObservationFlow_tutorialfiles/test_output/T27000G35_depth0.02.mask')\n",
    "\n",
    "# Applying the ExcludeMaskRegions that we created\n",
    "mask_clean = mask.clean(excluded_regions)\n",
    "\n",
    "# Saving the new mask to a file\n",
    "mask_clean.save('OneObservationFlow_tutorialfiles/test_output/hd46328_test_depth0.02_clean.mask')"
   ]
  },
  {
   "cell_type": "markdown",
   "metadata": {},
   "source": [
    "## 4. Other useful tools"
   ]
  },
  {
   "attachments": {},
   "cell_type": "markdown",
   "metadata": {},
   "source": [
    "SpecpolFlow also includes an interactive tool to visually inspect a spectrum and select/deselect lines, and compare with the model spectrum from an LSD profile calculated on-the-fly"
   ]
  },
  {
   "cell_type": "markdown",
   "metadata": {},
   "source": [
    "Additionally, the Mask class has functions to `prune` the mask object (remove from the list all lines that have iuse=0)"
   ]
  }
 ],
 "metadata": {
  "kernelspec": {
   "display_name": "Python 3.9.15 ('py39')",
   "language": "python",
   "name": "python3"
  },
  "language_info": {
   "codemirror_mode": {
    "name": "ipython",
    "version": 3
   },
   "file_extension": ".py",
   "mimetype": "text/x-python",
   "name": "python",
   "nbconvert_exporter": "python",
   "pygments_lexer": "ipython3",
   "version": "3.9.15"
  },
  "orig_nbformat": 4,
  "vscode": {
   "interpreter": {
    "hash": "0d105923ff2751b07541a5477823aa5d88058b2fa83b28e1bf4a447aeb52c9df"
   }
  }
 },
 "nbformat": 4,
 "nbformat_minor": 2
}
