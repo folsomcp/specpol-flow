{
 "cells": [
  {
   "cell_type": "markdown",
   "metadata": {},
   "source": [
    "# Using SpecpolFlow: Example TKTKTK\n",
    "The below tutorial has been developed for the MOBSTER Collaboration. The goal of this tutorial is to take a user from raw .s files to LSD profiles and Bz calculations. "
   ]
  },
  {
   "cell_type": "markdown",
   "metadata": {},
   "source": [
    "## 0. Importing specpolFlow and other packages\n",
    "The below block of code may output text such as \"loading specpolFlow package\" or \"loading LSDpy package\"; this an indication the packages are loading. If these messages do not appear, the packages may already be imported."
   ]
  },
  {
   "cell_type": "code",
   "execution_count": 2,
   "metadata": {},
   "outputs": [],
   "source": [
    "import numpy as np\n",
    "import pandas as pd\n",
    "import matplotlib.pyplot as plt\n",
    "import astropy.units as u\n",
    "import astropy.constants as const\n",
    "import specpolFlow as pol\n",
    "import LSDpy"
   ]
  },
  {
   "cell_type": "markdown",
   "metadata": {},
   "source": [
    "## 1. Converting Files\n",
    "Before starting the tutorial, it is important to convert the files to a useful formats. We have provided .s files for TKTKTK but when you are working from your own files, please convert to .s files using TKTKTK."
   ]
  },
  {
   "cell_type": "markdown",
   "metadata": {},
   "source": [
    "## 2. Normalizing Spectrum\n",
    "We need to normalize the spectrum before applying a line mask and creating an LSD profile. To normalize the spectrum, we will use [normPlot](https://github.com/folsomcp/normPlot); this program is designed for continuum normalizing on reduced 1D stellar spectra."
   ]
  },
  {
   "cell_type": "markdown",
   "metadata": {},
   "source": [
    "## 3. Input Stellar Parameters\n",
    "\n",
    "1. Collect .s file. For this example, we provide the files (TKTKTK). \n",
    "2. Collect important stellar parameters ($T_{\\text{eff}}$, log $_g$ , $v\\sin i$, observation specific radial velocities). For this star, these are provided below: \n",
    "    * $T_{\\text{eff}} = TKTKTK$ K\n",
    "    * $\\log g = TKTKTK$ (cgs)\n",
    "    * $v\\sin i  = TKTKTK$ km $\\text{s}^{-1}$\n",
    "    * $\\text{RV} = TKTKTK$ km $\\text{s}^{-1}$\n",
    "3. Next we will need to obtain a list of atomic and molecular transition parameters for TKTKTK from the Vienna Atomic Line Database (VALD; [Ryabchikova et al. 2015](https://ui.adsabs.harvard.edu/abs/2015PhyS...90e4005R/abstract)). The long list for this star is provided (TKTKTK), however, to retrieve a VALD long list, one can click the \"Extract Stellar\" button on the [VALD website](http://vald.astro.uu.se/).  Note that you need to register an email to access the site. The following input was used to obtain the example long list:\n",
    "    * Starting wavelength: TKTKTK  $\\text{\\AA}$\n",
    "    * Ending wavelength: TKTKTK  $\\text{\\AA}$\n",
    "    * Detection threshold: 0.01 (line depths shallower than this threshold are not included)\n",
    "    * Microturbulence: TKTKTK km $\\text{s}^{-1}$\n",
    "    * $T_{\\text{eff}} = TKTKTK$ K\n",
    "    * $\\log g = TKTKTK$ (cgs)\n",
    "    * Chemical Composition: TKTKTK [Fe/H] (Solar)\n",
    "    * Long format\n",
    "    * Linelist configuration: Default\n",
    "\n",
    "The long list file is a text file consisting of a header line containing information on the wavelength range of the list, as well as other information about the content of the file. Each spectral line has four rows of information in the file: the first row contains the most relevant information for making the mask, but the format is rather unpleasant to use. The line mask has a much more simplistic format that makes it easier to parse and manipulate. Additionally, the line mask calculates the effective Landé factor for each of the lines."
   ]
  },
  {
   "cell_type": "code",
   "execution_count": null,
   "metadata": {},
   "outputs": [],
   "source": [
    "spectrum = 'MOBSTER_tutorialfiles/TKTKTK_test_1.s' # location of .s file\n",
    "long_list = 'MOBSTER_tutorialfiles/LongList_TKTKTK.dat' # location of .dat file"
   ]
  },
  {
   "cell_type": "markdown",
   "metadata": {},
   "source": [
    "## 4. Create a Mask\n",
    "\n",
    "The mask tells us the location and depth of all lines in a spectrum but does not tell us about the shape of the lines of the spectrum as a whole. We need a mask to help us weigh each spectral line in the spectrum so that they can be averaged together in an LSD. Given a spectrum and a mask, we can deconvolve the spectrum with the mask to generate an LSD profile.\n",
    "\n",
    "To create a mask we will use the `make_mask` function. The function has the following inputs:\n",
    "* lineListFile - name of the file containing the line list\n",
    "* maskFile - name of the file to write the output mask to\n",
    "* depthCutoff - only include lines in the mask that are deeper than this value\n",
    "* wlStart - optional, use only lines with wavelengths above this\n",
    "* wlEnd - optional, use only lines with wavelengths below this\n",
    "* landeStart - optional, use only lines with effective Lande factors above this\n",
    "* landeEnd - optional, use only lines with effective Lande factors below this\n",
    "* elementsUsed - optional, list of elements to include in the mask creation\n",
    "* elementsExclude - optional, list of elements to exlude from the mask creation\n",
    "* atomsOnly - only include atomic lines (no molecular lines and no H-lines)\n",
    "* includeNoLande - include lines in the mask even if they don't have an effective Lande factor given\n",
    "* DefaultLande - the value for the effective Lande factor to use in the case that a line has no listed effective Lande factor \n",
    "\n",
    "For most cases you will only use the top three inputs and `atomsOnly`. Note that the hydrogen lines are automatically exluded when `atomsOnly` is `True`. This is done since the hydrogen lines have different shape than all the other lines in the spectrum due to their broad wings. The input line list is a VALD line list file and is obtained from the VALD website. More details about VALD is given in `OneObservationFlow_Tutorial.ipynb`. The `make_mask` function will automatically attempt to calculate the effective Lande factor for lines where it is not given, however if one is unable to be calculated it will be excluded if `includeNoLande` is `False` or it will equal `DefaultLande` if `includeNoLande` is `True`.\n",
    "\n",
    "In the example case used below, we are using all atomic lines in the line list except ones without effective Lande factors and the H-lines. \n"
   ]
  },
  {
   "cell_type": "markdown",
   "metadata": {},
   "source": [
    "## Removing Balmer and Telluric Lines Manually"
   ]
  },
  {
   "cell_type": "code",
   "execution_count": 6,
   "metadata": {},
   "outputs": [],
   "source": [
    "excluded_lines = {'start':[655.405353,485.491365,433.470866,409.622728,396.480287,360.0,587.5,627.5,686.0,717.0,759.0,790.0,809.0], \n",
    "     'stop': [657.156647,486.788635,434.629134,410.717272,397.539713,392.0,592.0,632.5,705.3,735.0,771.0,795.0,990.0], \n",
    "     'type': ['Halpha','Hbeta','Hgamma','Hdelta','Hepsilon','Hjump','telluric','telluric','telluric','telluric','telluric','telluric','telluric']}\n",
    "excluded_lines = pd.DataFrame(data = excluded_lines)"
   ]
  },
  {
   "cell_type": "code",
   "execution_count": null,
   "metadata": {},
   "outputs": [],
   "source": [
    "excluded_lines.to_csv('ExcludeMaskRegionsClass_tutorialfiles/MOBSTER_custom.dat', header = False, index = False, sep = '\\t')\n",
    "excluded_lines = pol.read_exclude_mask_regions('ExcludeMaskRegionsClass_tutorialfiles/MOBSTER_custom.dat')\n",
    "\n",
    "clean_Mask_filename = 'MOBSTER_tutorialfiles/test_output/TKTKTK_manual_clean.mask' # location of the output file\n",
    "mask_clean = mask.clean(excluded_lines).save(clean_Mask_filename)"
   ]
  },
  {
   "cell_type": "markdown",
   "metadata": {},
   "source": [
    "## Using the Default Function"
   ]
  },
  {
   "cell_type": "code",
   "execution_count": null,
   "metadata": {},
   "outputs": [],
   "source": [
    "file_output = 'MOBSTER_tutorialfiles/test_output/TKTKTK_depth_0.02.mask'\n",
    "mask = pol.make_mask(long_list, file_output, depthCutoff = 0.02, atomsOnly = True)"
   ]
  },
  {
   "cell_type": "code",
   "execution_count": null,
   "metadata": {},
   "outputs": [],
   "source": [
    "velrange = TKTKTK # units are in km/s\n",
    "excluded_regions = pol.get_Balmer_regions_default(velrange) + pol.get_telluric_regions_default()\n",
    "pd.DataFrame(excluded_regions.to_dict()) # visualizing dataframe w/ excluded regions"
   ]
  },
  {
   "cell_type": "code",
   "execution_count": null,
   "metadata": {},
   "outputs": [],
   "source": [
    "clean_Mask_filename = 'MOBSTER_tutorialfiles/test_output/TKTKTK_depth_0.02_clean.mask' # location of the output file\n",
    "\n",
    "mask.clean(excluded_regions).save(clean_Mask_filename) # run cleanMask fuction and save"
   ]
  },
  {
   "cell_type": "markdown",
   "metadata": {},
   "source": [
    "## Removing the Helium Lines"
   ]
  },
  {
   "cell_type": "markdown",
   "metadata": {},
   "source": [
    "## 5. Create LSD Profile\n",
    "\n",
    "Least-Squares Deconvolution (LSD) is a cross-correlation technique for computing the weighted average of selected spectral lines ([Donati et al. 1992](https://ui.adsabs.harvard.edu/abs/1997MNRAS.291..658D/abstract)). From [LSDpy](https://github.com/folsomcp/LSDpy), we use the default conditions:\n",
    "* normDepth = 0.2 — normalized line depth\n",
    "* normLande = 1.2 — normalized effective Lande factor\n",
    "* normWave = 500.0 — normalized wavelength\n",
    "* removeContPol = 1 — flag for whether the continuum polarization is subtracted from the LSD profile (0 = no, 1 = yes)\n",
    "* trimMask = 0 — flag for whether very closely spaced lines should be removed from the line mask (0 = no, 1 = yes)\n",
    "* sigmaClipIter = 0 — number of iterations for sigma clipping, rejecting possible pad pixels based on the fit to Stokes I\n",
    "* sigmaClip = 500 — if sigma cliping, reject pixels where the observation differs from the model by more than this number of sigma\n",
    "* interpMode = 1 — mode for interpolating the model on to the observation during LSD (0 = nearest neighbor, 1 = linear interpolation)\n",
    "\n",
    "To capture the entire line profile, the range of the LSD profile is set to be 100 km $s^{-1}$ for this star. Additionally, the pixel size should be set relative to the resolution of the original data; for ESPaDOnS data, one should not go below $2.6$ km/s per pixel. In a case where the line profile is very broad, it may be advantageous to use larger pixels but make sure the profile has enough data. For our example, we use the ESPaDOnS lower threshold of $2.6$ km $s^{-1}$ per pixel.\n",
    "\n",
    "To calculate the LSD profile, we call the `run_lsdpy` function, specify the file (.s file) and mask (.mask file). In the below code, we also input a name and location of the outfile (.lsd). For all outputs from this function and additional information on the utilities of the LSD class, see [LSDpy](https://github.com/folsomcp/LSDpy)."
   ]
  },
  {
   "cell_type": "code",
   "execution_count": null,
   "metadata": {},
   "outputs": [],
   "source": [
    "outfile = 'MOBSTER_tutorialfiles/test_output/TKTKTK_test_1.lsd'\n",
    "\n",
    "lsd, mod = pol.run_lsdpy(obs = spectrum, mask = clean_Mask_filename, outName = outfile, \n",
    "           velStart = TKTKTK, velEnd = TKTKTK, velPixel = TKTKTK, \n",
    "           normDepth = TKTKTK, normLande = TKTKTK, normWave = TKTKTK)"
   ]
  },
  {
   "cell_type": "markdown",
   "metadata": {},
   "source": [
    "## 6. Calculate Bz\n",
    "\n",
    "To calculate Bz we will be using the `lsd.calc_bz` function which takes in the following:\n",
    "* cog - the center of gravity; this can either be set manually or calculated from one of the built in functions below\n",
    "    * I (from Stokes I)\n",
    "    * IV (from Stokes I times V)\n",
    "    * V (from Stokes V)\n",
    "    * min (minimum of profile)\n",
    "* velrange - the total range over which will be considered in the Bz calculation; this includes the line itself as well as a little extra on either side\n",
    "* plot - a flag that determines if an output plot will be automatically generated\n",
    "* bzwidth - the range over which the Bz will be calculated; this should just include the line itself (if given a single number it will center the range on the cog value)\n",
    "\n",
    "In the first example we are manually setting the velocity range and Bz width, however it is often useful to set the velocity range slightly larger than the $v\\sin i$ and shifted to be centered on the cog value. By these standards, for this example, velrange _*would*_ be `velrange=[12-1.5*vsini,12+1.5*vsini]` and bzwidth _*would*_ be `bzwidth=vsini`. \n",
    "\n",
    "In the second example the cog value is being set automatically using the I method. \n",
    "\n",
    "The function will then output a dictionary with the following outputs:\n",
    "* Ic: continuum value used for normalization\n",
    "* Cog: the center of gravity value\n",
    "* Bzwidth min (km $s^{-1}$): lower bound of the Bz width\n",
    "* Bzwidth max (km $s^{-1}$): upper bound of Bz width\n",
    "* V bz (G): Bz calculated from Stokes V profile\n",
    "* V bz sig (G): standard deviation\n",
    "* V FAP: false alarm probability [FAP (Donati et al. 1997)](https://ui.adsabs.harvard.edu/abs/1997MNRAS.291..658D/abstract). Definite detection (DD) is defined as having a FAP $< 10^{-5}$. A non-detection (ND) is defined as having a FAP $> 10^{-3}$. FAPs between $10^{-5}$ and $10^{-3}$ are defined as a marginal detection (MD).\n",
    "* Null calculations - N1 and N2 are two different methods for null profile calculations; N1 is most commonly used.\n",
    "    * N1 bz (G): Bz calculated from the Null 1 profile\n",
    "    * N1 bz sig (G): standard deviation\n",
    "    * N1 FAP: false alarm probability of Null 1 Bz measurement\n",
    "    * N2 bz (G): Bz calculated from the Null 2 profile\n",
    "    * N2 bz sig (G): standard deviation\n",
    "    * N2 FAP: false alarm probability of Null 2 Bz measurement\n",
    "    \n",
    "To see additional capabilities of the Bz function, see [SpecpolFlow](https://github.com/folsomcp/specpolFlow) or for a more detailed tutorial, see the [Bz tutorial](https://github.com/folsomcp/specpolFlow/blob/main/tutorials/CalculateBz.ipynb)."
   ]
  },
  {
   "cell_type": "markdown",
   "metadata": {},
   "source": [
    "## Using Manual Cog"
   ]
  },
  {
   "cell_type": "markdown",
   "metadata": {},
   "source": [
    "## Usining Cog I"
   ]
  },
  {
   "cell_type": "code",
   "execution_count": null,
   "metadata": {},
   "outputs": [],
   "source": [
    "# Bz calculation using manual cog selection\n",
    "vrad = TKTKTK\n",
    "velrange = [TKTKTK,TKTKTK] # the velocity range over which the center line is found\n",
    "bzwidth = TKTKTK # this is the width about the center line used to calculate Bz\n",
    "\n",
    "lsd = pol.read_lsd(outfile)\n",
    "Bz, fig = lsd.calc_bz(cog = vrad, velrange = velrange, plot = True, bzwidth = bzwidth)"
   ]
  },
  {
   "cell_type": "code",
   "execution_count": null,
   "metadata": {},
   "outputs": [],
   "source": [
    "pd.DataFrame(data=[Bz])"
   ]
  },
  {
   "cell_type": "markdown",
   "metadata": {},
   "source": [
    "## 7. Looping over Multiple Observations\n",
    "\n",
    "When a star has multiple observations, it is useful to make a loop over all of the spectra files rather than running each one individually. To obtain outputs of interest, only one cleaned line mask is necessary since all the spectra files are from the same star. With the cleaned mask and .s files, you must loop over the `run_lsdpy` function to calculate outputs for each inputted spectra file. We have provided additional files for TKTKTK: TKTKTK_test_2.s & TKTKTK_test_3.s."
   ]
  },
  {
   "cell_type": "markdown",
   "metadata": {},
   "source": []
  },
  {
   "cell_type": "markdown",
   "metadata": {},
   "source": [
    "## 8. Sonification of LSD Profile"
   ]
  }
 ],
 "metadata": {
  "interpreter": {
   "hash": "294a0b9bfc79ce88e29f56e11670a78bb3a231581d3d3954ad0b1fa1a01a617d"
  },
  "kernelspec": {
   "display_name": "Python 3.9.7 64-bit ('base': conda)",
   "name": "python3"
  },
  "language_info": {
   "codemirror_mode": {
    "name": "ipython",
    "version": 3
   },
   "file_extension": ".py",
   "mimetype": "text/x-python",
   "name": "python",
   "nbconvert_exporter": "python",
   "pygments_lexer": "ipython3",
   "version": "3.9.7"
  },
  "orig_nbformat": 4
 },
 "nbformat": 4,
 "nbformat_minor": 2
}
