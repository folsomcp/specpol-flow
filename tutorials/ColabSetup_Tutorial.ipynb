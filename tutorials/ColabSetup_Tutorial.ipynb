{
  "cells": [
    {
      "cell_type": "markdown",
      "metadata": {
        "colab_type": "text",
        "id": "view-in-github"
      },
      "source": [
        "<a href=\"https://colab.research.google.com/github/folsomcp/specpolFlow/blob/main/tutorials/ColabSetup_Tutorial.ipynb\" target=\"_parent\"><img src=\"https://colab.research.google.com/assets/colab-badge.svg\" alt=\"Open In Colab\"/></a>"
      ]
    },
    {
      "cell_type": "markdown",
      "id": "b611b96d",
      "metadata": {
        "id": "b611b96d"
      },
      "source": [
        "# Importing specpolFlow into Colab"
      ]
    },
    {
      "cell_type": "markdown",
      "id": "5ZlkLs80yf5i",
      "metadata": {
        "id": "5ZlkLs80yf5i"
      },
      "source": [
        "The specpolFlow package is not available on pip just yet. But it does not mean that you cannot use it with Google Colab! \n",
        "\n",
        "For Google Colab, you can clone the repository into the Colab workspace. Note that the cell below is commented right now, to make sure that it is not run on your local machine by mistake (so you don't end out with multiple clones of specpolFlow lying around)\n",
        "\n",
        "For specpolFlow to work properly, you will also need LSDpy, which is also not available yet on pip. We can therefore also clone the LSDpy package yet. "
      ]
    },
    {
      "cell_type": "code",
      "execution_count": 1,
      "id": "5868a49f",
      "metadata": {
        "colab": {
          "base_uri": "https://localhost:8080/"
        },
        "id": "5868a49f",
        "outputId": "d9b940f6-3fb2-4d7c-f9dd-681d5013392a"
      },
      "outputs": [],
      "source": [
        "# !git close https://github.com/folsomcp/LSDpy\n",
        "# !git clone https://github.com/folsomcp/specpolFlow"
      ]
    },
    {
      "cell_type": "markdown",
      "id": "rx0ZFjNUzaFV",
      "metadata": {
        "id": "rx0ZFjNUzaFV"
      },
      "source": [
        "Now we can simply import the packages"
      ]
    },
    {
      "cell_type": "code",
      "execution_count": 2,
      "id": "xVZkjkUIzb1t",
      "metadata": {
        "colab": {
          "base_uri": "https://localhost:8080/"
        },
        "id": "xVZkjkUIzb1t",
        "outputId": "7cf31c22-ec6f-40d5-be75-1ef80a778fb9"
      },
      "outputs": [],
      "source": [
        "import specpolFlow as pol"
      ]
    },
    {
      "cell_type": "markdown",
      "id": "8e554acf",
      "metadata": {
        "id": "8e554acf"
      },
      "source": [
        "To show that the package has loaded correctly, we can pull a docstring from a function"
      ]
    },
    {
      "cell_type": "code",
      "execution_count": 3,
      "id": "0cfe0efe",
      "metadata": {
        "colab": {
          "base_uri": "https://localhost:8080/"
        },
        "id": "0cfe0efe",
        "outputId": "412cf32c-3112-4e7f-c5b0-6320b9952d70"
      },
      "outputs": [
        {
          "name": "stdout",
          "output_type": "stream",
          "text": [
            "Help on function read_lsd in module specpolFlow.specpolFlow.profileLSD:\n",
            "\n",
            "read_lsd(fname)\n",
            "    function that reads in a LSD profile.\n",
            "    \n",
            "    The LSD profiles are in Donati's text format.\n",
            "    The two lines of header in Donati's format is optional.\n",
            "    \n",
            "    :param fname: the name of the file containing the LSD profile\n",
            "    :rtype: returns an instance of the LSD class, defined in this module\n",
            "\n"
          ]
        }
      ],
      "source": [
        "help(pol.read_lsd)"
      ]
    }
  ],
  "metadata": {
    "colab": {
      "include_colab_link": true,
      "name": "Tutorial1.ipynb",
      "provenance": []
    },
    "interpreter": {
      "hash": "294a0b9bfc79ce88e29f56e11670a78bb3a231581d3d3954ad0b1fa1a01a617d"
    },
    "kernelspec": {
      "display_name": "Python 3.9.7 64-bit ('base': conda)",
      "name": "python3"
    },
    "language_info": {
      "codemirror_mode": {
        "name": "ipython",
        "version": 3
      },
      "file_extension": ".py",
      "mimetype": "text/x-python",
      "name": "python",
      "nbconvert_exporter": "python",
      "pygments_lexer": "ipython3",
      "version": "3.9.7"
    }
  },
  "nbformat": 4,
  "nbformat_minor": 5
}
