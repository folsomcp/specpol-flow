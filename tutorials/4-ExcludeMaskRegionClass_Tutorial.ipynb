{
 "cells": [
  {
   "cell_type": "markdown",
   "metadata": {},
   "source": [
    "# Tutorial on the ExcludeMaskRegion objects\n",
    "\n",
    "In this tutorial, we go over some details on the usage of the ExcludeMaskRegion objects that can be used to clean mask from specified spectral regions."
   ]
  },
  {
   "cell_type": "markdown",
   "metadata": {},
   "source": [
    "## 0. Importing Necessary Packages"
   ]
  },
  {
   "cell_type": "code",
   "execution_count": 2,
   "metadata": {},
   "outputs": [],
   "source": [
    "import specpolFlow as pol\n",
    "import pandas as pd\n",
    "import matplotlib.pyplot as plt"
   ]
  },
  {
   "cell_type": "markdown",
   "metadata": {},
   "source": [
    "## 1. Structure of an `ExcludeMaskRegion` Object\n",
    "\n",
    "An `ExcludeMaskRegion` object is a list of starting, stopping, and label of all regions to be excluded from the mask. The first column in the file is a the starting wavelength (nm) of each region to be excluded, the second is the stopping wavelength (nm), and the third is an optional label for each region."
   ]
  },
  {
   "cell_type": "markdown",
   "metadata": {},
   "source": [
    "## 2. Creating Your Own \n",
    "\n",
    "To create a custom `ExcludeMaskRegion` object we must first define the regions we wish to exclude from the mask in a `.dat` file as shown below. When making the `.dat` file it is essential that the separation is a tab and if pandas is used (like below), there is no index or header in the file. "
   ]
  },
  {
   "cell_type": "code",
   "execution_count": 3,
   "metadata": {},
   "outputs": [
    {
     "data": {
      "text/html": [
       "<div>\n",
       "<style scoped>\n",
       "    .dataframe tbody tr th:only-of-type {\n",
       "        vertical-align: middle;\n",
       "    }\n",
       "\n",
       "    .dataframe tbody tr th {\n",
       "        vertical-align: top;\n",
       "    }\n",
       "\n",
       "    .dataframe thead th {\n",
       "        text-align: right;\n",
       "    }\n",
       "</style>\n",
       "<table border=\"1\" class=\"dataframe\">\n",
       "  <thead>\n",
       "    <tr style=\"text-align: right;\">\n",
       "      <th></th>\n",
       "      <th>start</th>\n",
       "      <th>stop</th>\n",
       "      <th>type</th>\n",
       "    </tr>\n",
       "  </thead>\n",
       "  <tbody>\n",
       "    <tr>\n",
       "      <th>0</th>\n",
       "      <td>600</td>\n",
       "      <td>620</td>\n",
       "      <td>region 1</td>\n",
       "    </tr>\n",
       "    <tr>\n",
       "      <th>1</th>\n",
       "      <td>650</td>\n",
       "      <td>660</td>\n",
       "      <td>region 2</td>\n",
       "    </tr>\n",
       "    <tr>\n",
       "      <th>2</th>\n",
       "      <td>700</td>\n",
       "      <td>780</td>\n",
       "      <td>region 3</td>\n",
       "    </tr>\n",
       "  </tbody>\n",
       "</table>\n",
       "</div>"
      ],
      "text/plain": [
       "  start stop      type\n",
       "0   600  620  region 1\n",
       "1   650  660  region 2\n",
       "2   700  780  region 3"
      ]
     },
     "execution_count": 3,
     "metadata": {},
     "output_type": "execute_result"
    }
   ],
   "source": [
    "start = [600,650,700] # region start in nm\n",
    "stop = [620,660,780] # region stop in nm\n",
    "type = ['region 1','region 2','region 3'] # description (optional)\n",
    "dat = pd.DataFrame([start,stop,type], index = ['start','stop','type']).T\n",
    "dat\n"
   ]
  },
  {
   "cell_type": "code",
   "execution_count": 4,
   "metadata": {},
   "outputs": [],
   "source": [
    "dat.to_csv('ExcludeMaskRegionsClass_tutorialfiles/ExcludeMaskRegions_custom.dat', header = False, index = False, sep = '\\t')"
   ]
  },
  {
   "cell_type": "code",
   "execution_count": 5,
   "metadata": {},
   "outputs": [
    {
     "data": {
      "text/html": [
       "<div>\n",
       "<style scoped>\n",
       "    .dataframe tbody tr th:only-of-type {\n",
       "        vertical-align: middle;\n",
       "    }\n",
       "\n",
       "    .dataframe tbody tr th {\n",
       "        vertical-align: top;\n",
       "    }\n",
       "\n",
       "    .dataframe thead th {\n",
       "        text-align: right;\n",
       "    }\n",
       "</style>\n",
       "<table border=\"1\" class=\"dataframe\">\n",
       "  <thead>\n",
       "    <tr style=\"text-align: right;\">\n",
       "      <th></th>\n",
       "      <th>start</th>\n",
       "      <th>stop</th>\n",
       "      <th>type</th>\n",
       "    </tr>\n",
       "  </thead>\n",
       "  <tbody>\n",
       "    <tr>\n",
       "      <th>0</th>\n",
       "      <td>600.0</td>\n",
       "      <td>620.0</td>\n",
       "      <td>region 1</td>\n",
       "    </tr>\n",
       "    <tr>\n",
       "      <th>1</th>\n",
       "      <td>650.0</td>\n",
       "      <td>660.0</td>\n",
       "      <td>region 2</td>\n",
       "    </tr>\n",
       "    <tr>\n",
       "      <th>2</th>\n",
       "      <td>700.0</td>\n",
       "      <td>780.0</td>\n",
       "      <td>region 3</td>\n",
       "    </tr>\n",
       "  </tbody>\n",
       "</table>\n",
       "</div>"
      ],
      "text/plain": [
       "   start   stop      type\n",
       "0  600.0  620.0  region 1\n",
       "1  650.0  660.0  region 2\n",
       "2  700.0  780.0  region 3"
      ]
     },
     "execution_count": 5,
     "metadata": {},
     "output_type": "execute_result"
    }
   ],
   "source": [
    "reg = pol.read_exclude_mask_regions('ExcludeMaskRegionsClass_tutorialfiles/ExcludeMaskRegions_custom.dat')\n",
    "pd.DataFrame(reg.to_dict())"
   ]
  },
  {
   "cell_type": "markdown",
   "metadata": {},
   "source": [
    "## 3. Use the Default Functions\n",
    "\n",
    "Two default sets of regions are included within `SpecpolFlow` as well. \n",
    "\n",
    "The first is the Balmer hydrogen regions; this region also requires an input parameter called `velrange` which specifies the Doppler velocity range (in km/s) around the Balmer lines to be removed. In the example below, we remove a region of 100 km/s around each Balmer line, as well as the hydrogen jump region.\n",
    "\n",
    "The second default region is the telluric regions; these are regions of heavy atmospheric contamination that are present when taking data from ground based instruments. "
   ]
  },
  {
   "cell_type": "code",
   "execution_count": 6,
   "metadata": {},
   "outputs": [
    {
     "data": {
      "text/html": [
       "<div>\n",
       "<style scoped>\n",
       "    .dataframe tbody tr th:only-of-type {\n",
       "        vertical-align: middle;\n",
       "    }\n",
       "\n",
       "    .dataframe tbody tr th {\n",
       "        vertical-align: top;\n",
       "    }\n",
       "\n",
       "    .dataframe thead th {\n",
       "        text-align: right;\n",
       "    }\n",
       "</style>\n",
       "<table border=\"1\" class=\"dataframe\">\n",
       "  <thead>\n",
       "    <tr style=\"text-align: right;\">\n",
       "      <th></th>\n",
       "      <th>start</th>\n",
       "      <th>stop</th>\n",
       "      <th>type</th>\n",
       "    </tr>\n",
       "  </thead>\n",
       "  <tbody>\n",
       "    <tr>\n",
       "      <th>0</th>\n",
       "      <td>656.062088</td>\n",
       "      <td>656.499912</td>\n",
       "      <td>Halpha</td>\n",
       "    </tr>\n",
       "    <tr>\n",
       "      <th>1</th>\n",
       "      <td>485.977841</td>\n",
       "      <td>486.302159</td>\n",
       "      <td>Hbeta</td>\n",
       "    </tr>\n",
       "    <tr>\n",
       "      <th>2</th>\n",
       "      <td>433.905217</td>\n",
       "      <td>434.194783</td>\n",
       "      <td>Hgamma</td>\n",
       "    </tr>\n",
       "    <tr>\n",
       "      <th>3</th>\n",
       "      <td>410.033182</td>\n",
       "      <td>410.306818</td>\n",
       "      <td>Hdelta</td>\n",
       "    </tr>\n",
       "    <tr>\n",
       "      <th>4</th>\n",
       "      <td>396.877572</td>\n",
       "      <td>397.142428</td>\n",
       "      <td>Hepsilon</td>\n",
       "    </tr>\n",
       "    <tr>\n",
       "      <th>5</th>\n",
       "      <td>360.000000</td>\n",
       "      <td>392.000000</td>\n",
       "      <td>Hjump</td>\n",
       "    </tr>\n",
       "  </tbody>\n",
       "</table>\n",
       "</div>"
      ],
      "text/plain": [
       "        start        stop      type\n",
       "0  656.062088  656.499912    Halpha\n",
       "1  485.977841  486.302159     Hbeta\n",
       "2  433.905217  434.194783    Hgamma\n",
       "3  410.033182  410.306818    Hdelta\n",
       "4  396.877572  397.142428  Hepsilon\n",
       "5  360.000000  392.000000     Hjump"
      ]
     },
     "execution_count": 6,
     "metadata": {},
     "output_type": "execute_result"
    }
   ],
   "source": [
    "reg1 = pol.get_Balmer_regions_default(velrange=100)\n",
    "pd.DataFrame(reg1.to_dict())"
   ]
  },
  {
   "cell_type": "code",
   "execution_count": 7,
   "metadata": {},
   "outputs": [
    {
     "data": {
      "text/html": [
       "<div>\n",
       "<style scoped>\n",
       "    .dataframe tbody tr th:only-of-type {\n",
       "        vertical-align: middle;\n",
       "    }\n",
       "\n",
       "    .dataframe tbody tr th {\n",
       "        vertical-align: top;\n",
       "    }\n",
       "\n",
       "    .dataframe thead th {\n",
       "        text-align: right;\n",
       "    }\n",
       "</style>\n",
       "<table border=\"1\" class=\"dataframe\">\n",
       "  <thead>\n",
       "    <tr style=\"text-align: right;\">\n",
       "      <th></th>\n",
       "      <th>start</th>\n",
       "      <th>stop</th>\n",
       "      <th>type</th>\n",
       "    </tr>\n",
       "  </thead>\n",
       "  <tbody>\n",
       "    <tr>\n",
       "      <th>0</th>\n",
       "      <td>587.5</td>\n",
       "      <td>592.0</td>\n",
       "      <td>telluric</td>\n",
       "    </tr>\n",
       "    <tr>\n",
       "      <th>1</th>\n",
       "      <td>627.5</td>\n",
       "      <td>632.5</td>\n",
       "      <td>telluric</td>\n",
       "    </tr>\n",
       "    <tr>\n",
       "      <th>2</th>\n",
       "      <td>686.0</td>\n",
       "      <td>705.3</td>\n",
       "      <td>telluric</td>\n",
       "    </tr>\n",
       "    <tr>\n",
       "      <th>3</th>\n",
       "      <td>717.0</td>\n",
       "      <td>735.0</td>\n",
       "      <td>telluric</td>\n",
       "    </tr>\n",
       "    <tr>\n",
       "      <th>4</th>\n",
       "      <td>759.0</td>\n",
       "      <td>771.0</td>\n",
       "      <td>telluric</td>\n",
       "    </tr>\n",
       "    <tr>\n",
       "      <th>5</th>\n",
       "      <td>790.0</td>\n",
       "      <td>795.0</td>\n",
       "      <td>telluric</td>\n",
       "    </tr>\n",
       "    <tr>\n",
       "      <th>6</th>\n",
       "      <td>809.0</td>\n",
       "      <td>990.0</td>\n",
       "      <td>telluric</td>\n",
       "    </tr>\n",
       "  </tbody>\n",
       "</table>\n",
       "</div>"
      ],
      "text/plain": [
       "   start   stop      type\n",
       "0  587.5  592.0  telluric\n",
       "1  627.5  632.5  telluric\n",
       "2  686.0  705.3  telluric\n",
       "3  717.0  735.0  telluric\n",
       "4  759.0  771.0  telluric\n",
       "5  790.0  795.0  telluric\n",
       "6  809.0  990.0  telluric"
      ]
     },
     "execution_count": 7,
     "metadata": {},
     "output_type": "execute_result"
    }
   ],
   "source": [
    "reg2 = pol.get_telluric_regions_default()\n",
    "\n",
    "pd.DataFrame(reg2.to_dict())"
   ]
  },
  {
   "cell_type": "markdown",
   "metadata": {},
   "source": [
    "## 4. Combining Multiple `ExcludeMaskRegions`\n",
    "\n",
    "If you have multiple `ExcludeMaskRegions` objects, as when using the default Balmer and telluric regions, you can combine the objects to make a single object for ease of reading and writing files, and for the mask cleaning itself. This is shown below. "
   ]
  },
  {
   "cell_type": "code",
   "execution_count": 8,
   "metadata": {},
   "outputs": [
    {
     "data": {
      "text/html": [
       "<div>\n",
       "<style scoped>\n",
       "    .dataframe tbody tr th:only-of-type {\n",
       "        vertical-align: middle;\n",
       "    }\n",
       "\n",
       "    .dataframe tbody tr th {\n",
       "        vertical-align: top;\n",
       "    }\n",
       "\n",
       "    .dataframe thead th {\n",
       "        text-align: right;\n",
       "    }\n",
       "</style>\n",
       "<table border=\"1\" class=\"dataframe\">\n",
       "  <thead>\n",
       "    <tr style=\"text-align: right;\">\n",
       "      <th></th>\n",
       "      <th>start</th>\n",
       "      <th>stop</th>\n",
       "      <th>type</th>\n",
       "    </tr>\n",
       "  </thead>\n",
       "  <tbody>\n",
       "    <tr>\n",
       "      <th>0</th>\n",
       "      <td>656.062088</td>\n",
       "      <td>656.499912</td>\n",
       "      <td>Halpha</td>\n",
       "    </tr>\n",
       "    <tr>\n",
       "      <th>1</th>\n",
       "      <td>485.977841</td>\n",
       "      <td>486.302159</td>\n",
       "      <td>Hbeta</td>\n",
       "    </tr>\n",
       "    <tr>\n",
       "      <th>2</th>\n",
       "      <td>433.905217</td>\n",
       "      <td>434.194783</td>\n",
       "      <td>Hgamma</td>\n",
       "    </tr>\n",
       "    <tr>\n",
       "      <th>3</th>\n",
       "      <td>410.033182</td>\n",
       "      <td>410.306818</td>\n",
       "      <td>Hdelta</td>\n",
       "    </tr>\n",
       "    <tr>\n",
       "      <th>4</th>\n",
       "      <td>396.877572</td>\n",
       "      <td>397.142428</td>\n",
       "      <td>Hepsilon</td>\n",
       "    </tr>\n",
       "    <tr>\n",
       "      <th>5</th>\n",
       "      <td>360.000000</td>\n",
       "      <td>392.000000</td>\n",
       "      <td>Hjump</td>\n",
       "    </tr>\n",
       "    <tr>\n",
       "      <th>6</th>\n",
       "      <td>587.500000</td>\n",
       "      <td>592.000000</td>\n",
       "      <td>telluric</td>\n",
       "    </tr>\n",
       "    <tr>\n",
       "      <th>7</th>\n",
       "      <td>627.500000</td>\n",
       "      <td>632.500000</td>\n",
       "      <td>telluric</td>\n",
       "    </tr>\n",
       "    <tr>\n",
       "      <th>8</th>\n",
       "      <td>686.000000</td>\n",
       "      <td>705.300000</td>\n",
       "      <td>telluric</td>\n",
       "    </tr>\n",
       "    <tr>\n",
       "      <th>9</th>\n",
       "      <td>717.000000</td>\n",
       "      <td>735.000000</td>\n",
       "      <td>telluric</td>\n",
       "    </tr>\n",
       "    <tr>\n",
       "      <th>10</th>\n",
       "      <td>759.000000</td>\n",
       "      <td>771.000000</td>\n",
       "      <td>telluric</td>\n",
       "    </tr>\n",
       "    <tr>\n",
       "      <th>11</th>\n",
       "      <td>790.000000</td>\n",
       "      <td>795.000000</td>\n",
       "      <td>telluric</td>\n",
       "    </tr>\n",
       "    <tr>\n",
       "      <th>12</th>\n",
       "      <td>809.000000</td>\n",
       "      <td>990.000000</td>\n",
       "      <td>telluric</td>\n",
       "    </tr>\n",
       "  </tbody>\n",
       "</table>\n",
       "</div>"
      ],
      "text/plain": [
       "         start        stop      type\n",
       "0   656.062088  656.499912    Halpha\n",
       "1   485.977841  486.302159     Hbeta\n",
       "2   433.905217  434.194783    Hgamma\n",
       "3   410.033182  410.306818    Hdelta\n",
       "4   396.877572  397.142428  Hepsilon\n",
       "5   360.000000  392.000000     Hjump\n",
       "6   587.500000  592.000000  telluric\n",
       "7   627.500000  632.500000  telluric\n",
       "8   686.000000  705.300000  telluric\n",
       "9   717.000000  735.000000  telluric\n",
       "10  759.000000  771.000000  telluric\n",
       "11  790.000000  795.000000  telluric\n",
       "12  809.000000  990.000000  telluric"
      ]
     },
     "execution_count": 8,
     "metadata": {},
     "output_type": "execute_result"
    }
   ],
   "source": [
    "concat = reg1 + reg2\n",
    "\n",
    "pd.DataFrame(concat.to_dict())"
   ]
  },
  {
   "cell_type": "markdown",
   "metadata": {},
   "source": [
    "## 5. Save to Files & Read from Files\n",
    "\n",
    "`ExcludeMaskRegions` objects can also be saved and read to/from `.dat` files as shown below."
   ]
  },
  {
   "cell_type": "code",
   "execution_count": 9,
   "metadata": {},
   "outputs": [],
   "source": [
    "concat.save('ExcludeMaskRegionsClass_tutorialfiles/ExcludeMaskRegions.dat')"
   ]
  },
  {
   "cell_type": "code",
   "execution_count": 10,
   "metadata": {},
   "outputs": [
    {
     "data": {
      "text/html": [
       "<div>\n",
       "<style scoped>\n",
       "    .dataframe tbody tr th:only-of-type {\n",
       "        vertical-align: middle;\n",
       "    }\n",
       "\n",
       "    .dataframe tbody tr th {\n",
       "        vertical-align: top;\n",
       "    }\n",
       "\n",
       "    .dataframe thead th {\n",
       "        text-align: right;\n",
       "    }\n",
       "</style>\n",
       "<table border=\"1\" class=\"dataframe\">\n",
       "  <thead>\n",
       "    <tr style=\"text-align: right;\">\n",
       "      <th></th>\n",
       "      <th>start</th>\n",
       "      <th>stop</th>\n",
       "      <th>type</th>\n",
       "    </tr>\n",
       "  </thead>\n",
       "  <tbody>\n",
       "    <tr>\n",
       "      <th>0</th>\n",
       "      <td>656.0621</td>\n",
       "      <td>656.4999</td>\n",
       "      <td>Halpha</td>\n",
       "    </tr>\n",
       "    <tr>\n",
       "      <th>1</th>\n",
       "      <td>485.9778</td>\n",
       "      <td>486.3022</td>\n",
       "      <td>Hbeta</td>\n",
       "    </tr>\n",
       "    <tr>\n",
       "      <th>2</th>\n",
       "      <td>433.9052</td>\n",
       "      <td>434.1948</td>\n",
       "      <td>Hgamma</td>\n",
       "    </tr>\n",
       "    <tr>\n",
       "      <th>3</th>\n",
       "      <td>410.0332</td>\n",
       "      <td>410.3068</td>\n",
       "      <td>Hdelta</td>\n",
       "    </tr>\n",
       "    <tr>\n",
       "      <th>4</th>\n",
       "      <td>396.8776</td>\n",
       "      <td>397.1424</td>\n",
       "      <td>Hepsilon</td>\n",
       "    </tr>\n",
       "    <tr>\n",
       "      <th>5</th>\n",
       "      <td>360.0000</td>\n",
       "      <td>392.0000</td>\n",
       "      <td>Hjump</td>\n",
       "    </tr>\n",
       "    <tr>\n",
       "      <th>6</th>\n",
       "      <td>587.5000</td>\n",
       "      <td>592.0000</td>\n",
       "      <td>telluric</td>\n",
       "    </tr>\n",
       "    <tr>\n",
       "      <th>7</th>\n",
       "      <td>627.5000</td>\n",
       "      <td>632.5000</td>\n",
       "      <td>telluric</td>\n",
       "    </tr>\n",
       "    <tr>\n",
       "      <th>8</th>\n",
       "      <td>686.0000</td>\n",
       "      <td>705.3000</td>\n",
       "      <td>telluric</td>\n",
       "    </tr>\n",
       "    <tr>\n",
       "      <th>9</th>\n",
       "      <td>717.0000</td>\n",
       "      <td>735.0000</td>\n",
       "      <td>telluric</td>\n",
       "    </tr>\n",
       "    <tr>\n",
       "      <th>10</th>\n",
       "      <td>759.0000</td>\n",
       "      <td>771.0000</td>\n",
       "      <td>telluric</td>\n",
       "    </tr>\n",
       "    <tr>\n",
       "      <th>11</th>\n",
       "      <td>790.0000</td>\n",
       "      <td>795.0000</td>\n",
       "      <td>telluric</td>\n",
       "    </tr>\n",
       "    <tr>\n",
       "      <th>12</th>\n",
       "      <td>809.0000</td>\n",
       "      <td>990.0000</td>\n",
       "      <td>telluric</td>\n",
       "    </tr>\n",
       "  </tbody>\n",
       "</table>\n",
       "</div>"
      ],
      "text/plain": [
       "       start      stop      type\n",
       "0   656.0621  656.4999    Halpha\n",
       "1   485.9778  486.3022     Hbeta\n",
       "2   433.9052  434.1948    Hgamma\n",
       "3   410.0332  410.3068    Hdelta\n",
       "4   396.8776  397.1424  Hepsilon\n",
       "5   360.0000  392.0000     Hjump\n",
       "6   587.5000  592.0000  telluric\n",
       "7   627.5000  632.5000  telluric\n",
       "8   686.0000  705.3000  telluric\n",
       "9   717.0000  735.0000  telluric\n",
       "10  759.0000  771.0000  telluric\n",
       "11  790.0000  795.0000  telluric\n",
       "12  809.0000  990.0000  telluric"
      ]
     },
     "execution_count": 10,
     "metadata": {},
     "output_type": "execute_result"
    }
   ],
   "source": [
    "reg = pol.read_exclude_mask_regions('ExcludeMaskRegionsClass_tutorialfiles/ExcludeMaskRegions.dat')\n",
    "pd.DataFrame(reg.to_dict())"
   ]
  },
  {
   "cell_type": "markdown",
   "metadata": {},
   "source": [
    "## 6. Using `ExcludeMaskRegions` Object to Clean a Mask\n",
    "\n",
    "Finally, the `ExcludeMaskRegions` object can be used to clean the mask, removeing lines contained by regions defined in the `ExcludeMaskRegions` object. This creates a new cleaned mask."
   ]
  },
  {
   "cell_type": "code",
   "execution_count": 11,
   "metadata": {},
   "outputs": [
    {
     "data": {
      "text/plain": [
       "<matplotlib.legend.Legend at 0x7ff09efe8a90>"
      ]
     },
     "execution_count": 11,
     "metadata": {},
     "output_type": "execute_result"
    },
    {
     "data": {
      "image/png": "[encoded data removed]",
      "text/plain": [
       "<Figure size 432x288 with 1 Axes>"
      ]
     },
     "metadata": {
      "needs_background": "light"
     },
     "output_type": "display_data"
    }
   ],
   "source": [
    "mask = pol.read_mask('ExcludeMaskRegionsClass_tutorialfiles/T27000G35_depth0.02.mask')\n",
    "\n",
    "fig, ax = plt.subplots(1,1)\n",
    "ax.scatter(mask.wl, 1-mask.depth, s=10, label='Full mask')\n",
    "ax.set_xlabel('Wavelength (nm)')\n",
    "\n",
    "mask_clean = mask.clean(reg).prune()\n",
    "ax.scatter(mask_clean.wl, 1-mask_clean.depth, s=10, label='Cleaned Mask')\n",
    "\n",
    "ax.legend(loc=0)"
   ]
  },
  {
   "cell_type": "code",
   "execution_count": 12,
   "metadata": {},
   "outputs": [
    {
     "name": "stdout",
     "output_type": "stream",
     "text": [
      "[1 1 1 ... 1 1 1]\n"
     ]
    }
   ],
   "source": [
    "print(mask_clean.iuse)"
   ]
  }
 ],
 "metadata": {
  "interpreter": {
   "hash": "294a0b9bfc79ce88e29f56e11670a78bb3a231581d3d3954ad0b1fa1a01a617d"
  },
  "kernelspec": {
   "display_name": "Python 3.9.7 64-bit ('base': conda)",
   "name": "python3"
  },
  "language_info": {
   "codemirror_mode": {
    "name": "ipython",
    "version": 3
   },
   "file_extension": ".py",
   "mimetype": "text/x-python",
   "name": "python",
   "nbconvert_exporter": "python",
   "pygments_lexer": "ipython3",
   "version": "3.9.7"
  },
  "orig_nbformat": 4,
  "vscode": {
   "interpreter": {
    "hash": "0d105923ff2751b07541a5477823aa5d88058b2fa83b28e1bf4a447aeb52c9df"
   }
  }
 },
 "nbformat": 4,
 "nbformat_minor": 2
}
