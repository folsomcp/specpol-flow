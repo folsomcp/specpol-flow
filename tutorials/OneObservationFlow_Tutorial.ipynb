{
 "cells": [
  {
   "attachments": {},
   "cell_type": "markdown",
   "metadata": {},
   "source": [
    "# Using SpecpolFlow: Example $\\xi^1$ CMa (HD 46328)"
   ]
  },
  {
   "attachments": {},
   "cell_type": "markdown",
   "metadata": {},
   "source": [
    "<img src=\"https://github.com/folsomcp/specpolFlow/blob/main/tutorials/OneObservationFlow_tutorialfiles/diagram4.png?raw=true\" align: center width=\"1000px\">\n",
    "\n",
    "\n",
    "\n",
    "In the below code, we will walk through how to use [SpecpolFlow](https://github.com/folsomcp/specpolFlow) (with the use of [LSDpy](https://github.com/folsomcp/LSDpy)) with the spectra and polarization data of the magnetic B star $\\xi^1$ CMa (HD 46328; [Erba et al. 2021](https://doi.org/10.1093/mnras/stab1454); ESPaDOnS). The code has the following structure:\n",
    "\n",
    "0. Import packages\n",
    "1. Star Selection\n",
    "2. Creating the LSD Line Mask\n",
    "3. Cleaning Line Mask\n",
    "4. Creating LSD Profile\n",
    "5. Extracting $B_{\\text{z}}$\n",
    "\n",
    "For additional information on the uses and outputs of either code, please consult their respective GitHubs linked above."
   ]
  },
  {
   "cell_type": "markdown",
   "metadata": {},
   "source": [
    "## 0. Importing specpolFlow and other packages\n",
    "Now that all the outside data (.s and .dat files) has been obtained, the process of extracting the Bz can begin. The below block of code may output text such as \"loading specpolFlow package\" or \"loading LSDpy package\"; this an indication the packages are loading. If these messages do not appear, the packages may already be imported."
   ]
  },
  {
   "cell_type": "code",
   "execution_count": 5,
   "metadata": {},
   "outputs": [],
   "source": [
    "import numpy as np\n",
    "import pandas as pd\n",
    "import matplotlib.pyplot as plt\n",
    "import astropy.units as u\n",
    "import astropy.constants as const\n",
    "import specpolFlow as pol\n",
    "import LSDpy"
   ]
  },
  {
   "attachments": {},
   "cell_type": "markdown",
   "metadata": {},
   "source": [
    "## 1. Star Selection\n",
    "0. To use this tutorial, you must start with a normalized spectrum (.s file). If you do not have a .s file (you have .fits or .p files), please see the normalization tool [normPlot](https://github.com/folsomcp/normPlot).\n",
    "1. Collect .s file. For this example, we provide the file (hd46328_test_1.s;ObsId: 2378216p). \n",
    "2. Collect important stellar parameters ($T_{\\text{eff}}$, log $_g$ , $v\\sin i$, observation specific radial velocities). These are provided below: \n",
    "    * $T_{\\text{eff}} = 27000$ K\n",
    "    * $\\log g = 3.5$ (cgs)\n",
    "    * $v\\sin i  = 15$ km $\\text{s}^{-1}$\n",
    "    * $\\text{RV} = 12$ km $\\text{s}^{-1}$\n",
    "3. Next we will need to obtain a list of atomic and molecular transition parameters for $\\xi^1$ CMa from the Vienna Atomic Line Database (VALD; [Ryabchikova et al. 2015](https://ui.adsabs.harvard.edu/abs/2015PhyS...90e4005R/abstract)). The long list for this star is provided (LongList_T27000G35.dat), however, to retrieve a VALD long list, one can click the \"Extract Stellar\" button on the [VALD website](http://vald.astro.uu.se/).  Note that you need to register an email to access the site. The following input was used to obtain the example long list:\n",
    "    * Starting wavelength: 3700  $\\text{\\AA}$\n",
    "    * Ending wavelength: 9000  $\\text{\\AA}$\n",
    "    * Detection threshold: 0.01 (line depths shallower than this threshold are not included)\n",
    "    * Microturbulence: 2 km $\\text{s}^{-1}$\n",
    "    * $T_{\\text{eff}} = 27000$ K\n",
    "    * $\\log g = 3.5$ (cgs)\n",
    "    * Chemical Composition: 0.0 [Fe/H] (Solar)\n",
    "    * Long format\n",
    "    * Linelist configuration: Default\n",
    "\n",
    "The long list file is a text file consisting of a header line containing information on the wavelength range of the list, as well as other information about the content of the file. Each spectral line has four rows of information in the file: the first row contains the most relevant information for making the mask, but the format is rather unpleasant to use. The line mask has a much more simplistic format that makes it easier to parse and manipulate. Additionally, the line mask calculates the effective Landé factor for each of the lines. \n",
    "    \n",
    "\n",
    "   "
   ]
  },
  {
   "attachments": {},
   "cell_type": "markdown",
   "metadata": {},
   "source": [
    "## 2. Creating LSD Line Mask\n",
    "\n",
    "To convert the VALD long list into a mask, one needs to call the `make_mask` function using the .dat long list. The user will need to specify the location and name of the output file, `depthCutoff`, and `atomsOnly` (`atomsOnly` = True excludes H lines). This will create a .mask file."
   ]
  },
  {
   "cell_type": "code",
   "execution_count": 6,
   "metadata": {},
   "outputs": [
    {
     "name": "stdout",
     "output_type": "stream",
     "text": [
      "missing Lande factors for 160 lines (skipped) from:\n",
      "['He 2', 'O 2']\n",
      "skipped all lines for species:\n",
      "['H 1']\n"
     ]
    }
   ],
   "source": [
    "file_name = 'OneObservationFlow_tutorialfiles/LongList_T27000G35.dat'\n",
    "file_output = 'OneObservationFlow_tutorialfiles/test_output/T27000G35_depth0.02.mask'\n",
    "mask = pol.make_mask(file_name, file_output, depthCutoff = 0.02, atomsOnly = True)\n",
    "\n",
    "spectrum = 'OneObservationFlow_tutorialfiles/hd46328_test_1.s'"
   ]
  },
  {
   "attachments": {},
   "cell_type": "markdown",
   "metadata": {},
   "source": [
    "## 3. Cleaning Line Mask \n",
    "Next, we remove sections in the mask that we do not want affecting the LSD profile. These include regions 100 km $\\text{s}^{-1}$ (specific to this example) around the Balmer series and Balmer gap, around the H-jump, and in areas of telluric contamination. We remove these sections because the lines are either of the wrong shape or the data is contaminated by the atmosphere; both would negativley effect later processing.\n",
    "\n",
    "First, one can exclude the Balmer and telluric regions using `get_Balmer_regions_default` and  `get_telluric_regions_default`. The `get_Balmer_regions_default` function takes in the velocity region you want to exclude. Then the `mask.clean` removes the lines within regions specified. The clean mask can now be output to a new `.mask` file using `mask.save`.\n",
    "\n"
   ]
  },
  {
   "cell_type": "code",
   "execution_count": 3,
   "metadata": {},
   "outputs": [
    {
     "data": {
      "text/plain": [
       "<specpolFlow.specpolFlow.mask.ExcludeMaskRegions at 0x182a5c5ce50>"
      ]
     },
     "execution_count": 3,
     "metadata": {},
     "output_type": "execute_result"
    }
   ],
   "source": [
    "# inputs\n",
    "# user manual for telleric regions\n",
    "velrange = 400 # units are in km/s\n",
    "excluded_regions = pol.get_Balmer_regions_default(velrange) + pol.get_telluric_regions_default()\n",
    "excluded_regions"
   ]
  },
  {
   "cell_type": "code",
   "execution_count": 4,
   "metadata": {},
   "outputs": [
    {
     "data": {
      "text/html": [
       "<div>\n",
       "<style scoped>\n",
       "    .dataframe tbody tr th:only-of-type {\n",
       "        vertical-align: middle;\n",
       "    }\n",
       "\n",
       "    .dataframe tbody tr th {\n",
       "        vertical-align: top;\n",
       "    }\n",
       "\n",
       "    .dataframe thead th {\n",
       "        text-align: right;\n",
       "    }\n",
       "</style>\n",
       "<table border=\"1\" class=\"dataframe\">\n",
       "  <thead>\n",
       "    <tr style=\"text-align: right;\">\n",
       "      <th></th>\n",
       "      <th>start</th>\n",
       "      <th>stop</th>\n",
       "      <th>type</th>\n",
       "    </tr>\n",
       "  </thead>\n",
       "  <tbody>\n",
       "    <tr>\n",
       "      <th>0</th>\n",
       "      <td>655.405353</td>\n",
       "      <td>657.156647</td>\n",
       "      <td>Halpha</td>\n",
       "    </tr>\n",
       "    <tr>\n",
       "      <th>1</th>\n",
       "      <td>485.491365</td>\n",
       "      <td>486.788635</td>\n",
       "      <td>Hbeta</td>\n",
       "    </tr>\n",
       "    <tr>\n",
       "      <th>2</th>\n",
       "      <td>433.470866</td>\n",
       "      <td>434.629134</td>\n",
       "      <td>Hgamma</td>\n",
       "    </tr>\n",
       "    <tr>\n",
       "      <th>3</th>\n",
       "      <td>409.622728</td>\n",
       "      <td>410.717272</td>\n",
       "      <td>Hdelta</td>\n",
       "    </tr>\n",
       "    <tr>\n",
       "      <th>4</th>\n",
       "      <td>396.480287</td>\n",
       "      <td>397.539713</td>\n",
       "      <td>Hepsilon</td>\n",
       "    </tr>\n",
       "    <tr>\n",
       "      <th>5</th>\n",
       "      <td>360.000000</td>\n",
       "      <td>392.000000</td>\n",
       "      <td>Hjump</td>\n",
       "    </tr>\n",
       "    <tr>\n",
       "      <th>6</th>\n",
       "      <td>587.500000</td>\n",
       "      <td>592.000000</td>\n",
       "      <td>telluric</td>\n",
       "    </tr>\n",
       "    <tr>\n",
       "      <th>7</th>\n",
       "      <td>627.500000</td>\n",
       "      <td>632.500000</td>\n",
       "      <td>telluric</td>\n",
       "    </tr>\n",
       "    <tr>\n",
       "      <th>8</th>\n",
       "      <td>686.000000</td>\n",
       "      <td>705.300000</td>\n",
       "      <td>telluric</td>\n",
       "    </tr>\n",
       "    <tr>\n",
       "      <th>9</th>\n",
       "      <td>717.000000</td>\n",
       "      <td>735.000000</td>\n",
       "      <td>telluric</td>\n",
       "    </tr>\n",
       "    <tr>\n",
       "      <th>10</th>\n",
       "      <td>759.000000</td>\n",
       "      <td>771.000000</td>\n",
       "      <td>telluric</td>\n",
       "    </tr>\n",
       "    <tr>\n",
       "      <th>11</th>\n",
       "      <td>790.000000</td>\n",
       "      <td>795.000000</td>\n",
       "      <td>telluric</td>\n",
       "    </tr>\n",
       "    <tr>\n",
       "      <th>12</th>\n",
       "      <td>809.000000</td>\n",
       "      <td>990.000000</td>\n",
       "      <td>telluric</td>\n",
       "    </tr>\n",
       "  </tbody>\n",
       "</table>\n",
       "</div>"
      ],
      "text/plain": [
       "         start        stop      type\n",
       "0   655.405353  657.156647    Halpha\n",
       "1   485.491365  486.788635     Hbeta\n",
       "2   433.470866  434.629134    Hgamma\n",
       "3   409.622728  410.717272    Hdelta\n",
       "4   396.480287  397.539713  Hepsilon\n",
       "5   360.000000  392.000000     Hjump\n",
       "6   587.500000  592.000000  telluric\n",
       "7   627.500000  632.500000  telluric\n",
       "8   686.000000  705.300000  telluric\n",
       "9   717.000000  735.000000  telluric\n",
       "10  759.000000  771.000000  telluric\n",
       "11  790.000000  795.000000  telluric\n",
       "12  809.000000  990.000000  telluric"
      ]
     },
     "execution_count": 4,
     "metadata": {},
     "output_type": "execute_result"
    }
   ],
   "source": [
    "# visualization of excluded regions\n",
    "pd.DataFrame(excluded_regions.to_dict())"
   ]
  },
  {
   "cell_type": "code",
   "execution_count": null,
   "metadata": {},
   "outputs": [],
   "source": [
    "# location of the output file\n",
    "clean_Mask_filename = 'OneObservationFlow_tutorialfiles/test_output/hd46328_test_depth0.02_clean.mask'\n",
    "\n",
    "# run cleanMask fuction and save\n",
    "mask.clean(excluded_regions).save(clean_Mask_filename)"
   ]
  },
  {
   "attachments": {},
   "cell_type": "markdown",
   "metadata": {},
   "source": [
    "## 4. Create LSD Profile\n",
    "Least-Squares Deconvolution (LSD) is a cross-correlation technique for computing the weighted average of selected spectral lines ([Donati et al. 1992](https://ui.adsabs.harvard.edu/abs/1997MNRAS.291..658D/abstract)). We use the default conditions:\n",
    "* normDepth = 0.2 — normalized line depth\n",
    "* normLande = 1.2 — normalized effective Lande factor\n",
    "* normWave = 500.0 — normalized wavelength\n",
    "\n",
    "To capture the entire line profile, the range of the LSD profile is set to be 100 km $s^{-1}$ for this star. Additionally, the pixel size should be set relative to the resolution of the original data; for ESPaDOnS data, one should not go below $2.6$ km/s per pixel. In a case where the line profile is very broad, it may be advantageous to use larger pixels but make sure the profile has enough data. For our example, we use the ESPaDOnS lower threshold of $2.6$ km $s^{-1}$ per pixel.\n",
    "\n",
    "To calculate the LSD profile, we call the `run_lsdpy` function, specify the file (.s file) and mask (.mask file). In the below code, we also input a name and location of the outfile (.lsd). For all outputs from this function and additional information on the utilities of the LSD class, see [LSDpy](https://github.com/folsomcp/LSDpy)."
   ]
  },
  {
   "cell_type": "code",
   "execution_count": null,
   "metadata": {},
   "outputs": [],
   "source": [
    "outfile = 'OneObservationFlow_tutorialfiles/test_output/hd46328_test_1.lsd'\n",
    "\n",
    "lsd, mod = pol.run_lsdpy(obs = spectrum, mask = clean_Mask_filename, outName = outfile, \n",
    "           velStart =- 100.0, velEnd = 100.0, velPixel = 2.6, \n",
    "           normDepth = 0.2, normLande = 1.2, normWave = 500.0)"
   ]
  },
  {
   "attachments": {},
   "cell_type": "markdown",
   "metadata": {},
   "source": [
    "## 5. Calculate $B_z$ from LSD Profile\n",
    "\n",
    "To calculate Bz we will be using the `lsd.calc_bz` function which takes in the following:\n",
    "* cog - the center of gravity; this can either be set manually or calculated from one of the built in functions below\n",
    "    * I (from Stokes I)\n",
    "    * IV (from Stokes I times V)\n",
    "    * V (from Stokes V)\n",
    "    * min (minimum of profile)\n",
    "* velrange - the total range over which will be considered in the Bz calculation; this includes the line itself as well as a little extra on either side\n",
    "* plot - a flag that determines if an output plot will be automatically generated\n",
    "* bzwidth - the range over which the Bz will be calculated; this should just include the line itself (if given a single number it will center the range on the cog value)\n",
    "\n",
    "In the first example we are manually setting the velocity range and Bz width, however it is often useful to set the velocity range slightly larger than the $v\\sin i$ and shifted to be centered on the cog value. By these standards, for this example, velrange _*would*_ be `velrange=[12-1.5*vsini,12+1.5*vsini]` and bzwidth _*would*_ be `bzwidth=vsini`. \n",
    "\n",
    "In the second example the cog value is being set automatically using the I method. \n",
    "\n",
    "The function will then output a dictionary with the following outputs:\n",
    "* Ic: continuum value used for normalization\n",
    "* Cog: the center of gravity value\n",
    "* Bzwidth min (km $s^{-1}$): lower bound of the Bz width\n",
    "* Bzwidth max (km $s^{-1}$): upper bound of Bz width\n",
    "* V bz (G): Bz calculated from Stokes V profile\n",
    "* V bz sig (G): standard deviation\n",
    "* V FAP: false alarm probability [FAP (Donati et al. 1997)](https://ui.adsabs.harvard.edu/abs/1997MNRAS.291..658D/abstract). Definite detection (DD) is defined as having a FAP $< 10^{-5}$. A non-detection (ND) is defined as having a FAP $> 10^{-3}$. FAPs between $10^{-5}$ and $10^{-3}$ are defined as a marginal detection (MD).\n",
    "* Null calculations - N1 and N2 are two different methods for null profile calculations; N1 is most commonly used.\n",
    "    * N1 bz (G): Bz calculated from the Null 1 profile\n",
    "    * N1 bz sig (G): standard deviation\n",
    "    * N1 FAP: false alarm probability of Null 1 Bz measurement\n",
    "    * N2 bz (G): Bz calculated from the Null 2 profile\n",
    "    * N2 bz sig (G): standard deviation\n",
    "    * N2 FAP: false alarm probability of Null 2 Bz measurement\n",
    "    \n",
    "To see additional capabilities of the Bz function, see [SpecpolFlow](https://github.com/folsomcp/specpolFlow) or for a more detailed tutorial, see the [Bz tutorial](https://github.com/folsomcp/specpolFlow/blob/main/tutorials/CalculateBz.ipynb)."
   ]
  },
  {
   "cell_type": "code",
   "execution_count": null,
   "metadata": {},
   "outputs": [],
   "source": [
    "# Bz calculation using manual cog selection\n",
    "vrad = 12\n",
    "velrange = [-18,42] # the velocity range over which the center line is found\n",
    "bzwidth = 20 # this is the width about the center line used to calculate Bz\n",
    "\n",
    "lsd = pol.read_lsd(outfile)\n",
    "Bz, fig = lsd.calc_bz(cog = vrad, velrange = velrange, plot = True, bzwidth = bzwidth)"
   ]
  },
  {
   "cell_type": "code",
   "execution_count": null,
   "metadata": {},
   "outputs": [],
   "source": [
    "# the below dataframe contains the defaults outputs\n",
    "pd.DataFrame(data=[Bz])"
   ]
  },
  {
   "cell_type": "code",
   "execution_count": null,
   "metadata": {},
   "outputs": [],
   "source": [
    "# Bz calculation using automatic cog selection (I)\n",
    "vsini = 15\n",
    "vrad = 12\n",
    "\n",
    "lsd = pol.read_lsd(outfile)\n",
    "Bz, fig = lsd.calc_bz(cog = 'I', velrange = [(vrad-1.5*vsini),(vrad+1.5*vsini)], plot = True, bzwidth = vsini)"
   ]
  },
  {
   "cell_type": "code",
   "execution_count": null,
   "metadata": {},
   "outputs": [],
   "source": [
    "pd.DataFrame(data=[Bz])"
   ]
  }
 ],
 "metadata": {
  "interpreter": {
   "hash": "294a0b9bfc79ce88e29f56e11670a78bb3a231581d3d3954ad0b1fa1a01a617d"
  },
  "kernelspec": {
   "display_name": "Python 3.9.7 64-bit ('base': conda)",
   "name": "python3"
  },
  "language_info": {
   "codemirror_mode": {
    "name": "ipython",
    "version": 3
   },
   "file_extension": ".py",
   "mimetype": "text/x-python",
   "name": "python",
   "nbconvert_exporter": "python",
   "pygments_lexer": "ipython3",
   "version": "3.11.3"
  },
  "orig_nbformat": 4,
  "vscode": {
   "interpreter": {
    "hash": "0d105923ff2751b07541a5477823aa5d88058b2fa83b28e1bf4a447aeb52c9df"
   }
  }
 },
 "nbformat": 4,
 "nbformat_minor": 2
}
