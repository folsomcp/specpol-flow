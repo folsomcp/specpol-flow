{
 "cells": [
  {
   "cell_type": "markdown",
   "metadata": {},
   "source": [
    "# Conversion of telescope-provided files to the standardized .s format"
   ]
  },
  {
   "cell_type": "markdown",
   "metadata": {},
   "source": [
    "This notebook demnstrates how to convert files provided by the various telescopes into the standard '.s' format that is then used in specpolFlow\n",
    "\n",
    "Table-of-content\n",
    "\n",
    "* The specific case of ESPaDOnS UPENA files (with telluric correction)"
   ]
  },
  {
   "cell_type": "markdown",
   "metadata": {},
   "source": [
    "## 0. Importing the packages"
   ]
  },
  {
   "cell_type": "code",
   "execution_count": 1,
   "metadata": {},
   "outputs": [
    {
     "name": "stdout",
     "output_type": "stream",
     "text": [
      "loading specpolFlow package\n"
     ]
    }
   ],
   "source": [
    "import specpolFlow as pol"
   ]
  },
  {
   "cell_type": "markdown",
   "metadata": {},
   "source": [
    "## ESPaDOnS files from UPENA (with telluric correction)"
   ]
  },
  {
   "cell_type": "markdown",
   "metadata": {},
   "source": [
    "UPENA provides a name.p.fits file that contains columns for 4 different spectra\n",
    "* Automatically normalized with radial velocity correction from the telluric lines\n",
    "* Automatically normalized without the radial velocity correction from the telluric lines\n",
    "* Unnormalized with radial velocity correction from the telluric lines\n",
    "* Unnormalized without the radial velocity correction from the telluric lines\n",
    "\n",
    "When a more precise normalization is required, users sometime like to use the unnormalized spectrum in order to perform the normalization with tools like e.g. INSERT NAME HERE. \n",
    "\n",
    "However, the radial velocity correction from the telluric lines that has been done by UPENA on unnormalized files has often been found to be erroneous (probably because the code has been optimized to work with normalized spectra). \n",
    "Therefore the ESPaDOnS converter will provide two '.s' files\n",
    "* 'n.s': The UPENA normalized spectrum, with automated radial velocity corrections from the telluric lines.\n",
    "* 'u.s': The UPENA normalized spectrum, witout the automated radial velocity correction, \n",
    "        to which we have applied the radial velocity correction determined from the normalized spectrum. \n",
    "* '.out: the content of the FITS header in a ascii format. \n",
    "\n",
    "The `flistout` keyword is optional: if None, then the .s files are saved at the same path as the original .fits file. If it is a list of path/root, then the files are saved at that path with that root."
   ]
  },
  {
   "cell_type": "markdown",
   "metadata": {},
   "source": [
    "In the example below, we convert the .fits file 'normalization_tutorialfiles/2378196p.fits' to the same directory. "
   ]
  },
  {
   "cell_type": "code",
   "execution_count": 4,
   "metadata": {},
   "outputs": [
    {
     "name": "stdout",
     "output_type": "stream",
     "text": [
      "converting  Convert_tutorialfiles/2378196p.fits\n"
     ]
    }
   ],
   "source": [
    "pol.converters.espadons.espadons(['Convert_tutorialfiles/2378196p.fits'])"
   ]
  },
  {
   "cell_type": "code",
   "execution_count": 5,
   "metadata": {},
   "outputs": [
    {
     "name": "stdout",
     "output_type": "stream",
     "text": [
      "2378196p.fits 2378196p.out  2378196pn.s   2378196pu.s\n"
     ]
    }
   ],
   "source": [
    "! ls Convert_tutorialfiles"
   ]
  }
 ],
 "metadata": {
  "kernelspec": {
   "display_name": "Python 3.9.15 ('py39')",
   "language": "python",
   "name": "python3"
  },
  "language_info": {
   "codemirror_mode": {
    "name": "ipython",
    "version": 3
   },
   "file_extension": ".py",
   "mimetype": "text/x-python",
   "name": "python",
   "nbconvert_exporter": "python",
   "pygments_lexer": "ipython3",
   "version": "3.9.15"
  },
  "orig_nbformat": 4,
  "vscode": {
   "interpreter": {
    "hash": "0d105923ff2751b07541a5477823aa5d88058b2fa83b28e1bf4a447aeb52c9df"
   }
  }
 },
 "nbformat": 4,
 "nbformat_minor": 2
}
