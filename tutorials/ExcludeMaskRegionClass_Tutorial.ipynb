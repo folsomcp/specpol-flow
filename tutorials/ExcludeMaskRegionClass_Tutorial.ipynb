{
 "cells": [
  {
   "cell_type": "markdown",
   "metadata": {},
   "source": [
    "# Tutorial on the ExcludeMaskRegion objects"
   ]
  },
  {
   "cell_type": "markdown",
   "metadata": {},
   "source": [
    "In this tutorial, we go over some details on the usage of the ExcludeMaskRegion objects that can be used to clean mask from specified spectral regions. "
   ]
  },
  {
   "cell_type": "markdown",
   "metadata": {},
   "source": [
    "## Import the necessary packages"
   ]
  },
  {
   "cell_type": "code",
   "execution_count": 1,
   "metadata": {},
   "outputs": [],
   "source": [
    "import specpolFlow as pol\n",
    "import pandas as pd\n",
    "import matplotlib.pyplot as plt"
   ]
  },
  {
   "cell_type": "markdown",
   "metadata": {},
   "source": [
    "## The structure of a ExcludeMaskRegion object"
   ]
  },
  {
   "cell_type": "markdown",
   "metadata": {},
   "source": [
    "TODO: Explain the structure of the object, and the structure of the corresponding file"
   ]
  },
  {
   "cell_type": "markdown",
   "metadata": {},
   "source": [
    "## How to create your own "
   ]
  },
  {
   "cell_type": "markdown",
   "metadata": {},
   "source": [
    "TODO"
   ]
  },
  {
   "cell_type": "markdown",
   "metadata": {},
   "source": [
    "## How to use the Default functions"
   ]
  },
  {
   "cell_type": "markdown",
   "metadata": {},
   "source": [
    "TODO"
   ]
  },
  {
   "cell_type": "code",
   "execution_count": 2,
   "metadata": {},
   "outputs": [
    {
     "data": {
      "text/html": [
       "<div>\n",
       "<style scoped>\n",
       "    .dataframe tbody tr th:only-of-type {\n",
       "        vertical-align: middle;\n",
       "    }\n",
       "\n",
       "    .dataframe tbody tr th {\n",
       "        vertical-align: top;\n",
       "    }\n",
       "\n",
       "    .dataframe thead th {\n",
       "        text-align: right;\n",
       "    }\n",
       "</style>\n",
       "<table border=\"1\" class=\"dataframe\">\n",
       "  <thead>\n",
       "    <tr style=\"text-align: right;\">\n",
       "      <th></th>\n",
       "      <th>start</th>\n",
       "      <th>stop</th>\n",
       "      <th>type</th>\n",
       "    </tr>\n",
       "  </thead>\n",
       "  <tbody>\n",
       "    <tr>\n",
       "      <th>0</th>\n",
       "      <td>656.062088</td>\n",
       "      <td>656.499912</td>\n",
       "      <td>Halpha</td>\n",
       "    </tr>\n",
       "    <tr>\n",
       "      <th>1</th>\n",
       "      <td>485.977841</td>\n",
       "      <td>486.302159</td>\n",
       "      <td>Hbeta</td>\n",
       "    </tr>\n",
       "    <tr>\n",
       "      <th>2</th>\n",
       "      <td>433.905217</td>\n",
       "      <td>434.194783</td>\n",
       "      <td>Hgamma</td>\n",
       "    </tr>\n",
       "    <tr>\n",
       "      <th>3</th>\n",
       "      <td>410.033182</td>\n",
       "      <td>410.306818</td>\n",
       "      <td>Hdelta</td>\n",
       "    </tr>\n",
       "    <tr>\n",
       "      <th>4</th>\n",
       "      <td>396.877572</td>\n",
       "      <td>397.142428</td>\n",
       "      <td>Hepsilon</td>\n",
       "    </tr>\n",
       "    <tr>\n",
       "      <th>5</th>\n",
       "      <td>360.000000</td>\n",
       "      <td>392.000000</td>\n",
       "      <td>Hjump</td>\n",
       "    </tr>\n",
       "  </tbody>\n",
       "</table>\n",
       "</div>"
      ],
      "text/plain": [
       "        start        stop      type\n",
       "0  656.062088  656.499912    Halpha\n",
       "1  485.977841  486.302159     Hbeta\n",
       "2  433.905217  434.194783    Hgamma\n",
       "3  410.033182  410.306818    Hdelta\n",
       "4  396.877572  397.142428  Hepsilon\n",
       "5  360.000000  392.000000     Hjump"
      ]
     },
     "execution_count": 2,
     "metadata": {},
     "output_type": "execute_result"
    }
   ],
   "source": [
    "reg1 = pol.get_Balmer_regions_default(velrange=100)\n",
    "pd.DataFrame(reg1.to_dict())"
   ]
  },
  {
   "cell_type": "code",
   "execution_count": 3,
   "metadata": {},
   "outputs": [
    {
     "data": {
      "text/html": [
       "<div>\n",
       "<style scoped>\n",
       "    .dataframe tbody tr th:only-of-type {\n",
       "        vertical-align: middle;\n",
       "    }\n",
       "\n",
       "    .dataframe tbody tr th {\n",
       "        vertical-align: top;\n",
       "    }\n",
       "\n",
       "    .dataframe thead th {\n",
       "        text-align: right;\n",
       "    }\n",
       "</style>\n",
       "<table border=\"1\" class=\"dataframe\">\n",
       "  <thead>\n",
       "    <tr style=\"text-align: right;\">\n",
       "      <th></th>\n",
       "      <th>start</th>\n",
       "      <th>stop</th>\n",
       "      <th>type</th>\n",
       "    </tr>\n",
       "  </thead>\n",
       "  <tbody>\n",
       "    <tr>\n",
       "      <th>0</th>\n",
       "      <td>587.5</td>\n",
       "      <td>592.0</td>\n",
       "      <td>telluric</td>\n",
       "    </tr>\n",
       "    <tr>\n",
       "      <th>1</th>\n",
       "      <td>627.5</td>\n",
       "      <td>632.5</td>\n",
       "      <td>telluric</td>\n",
       "    </tr>\n",
       "    <tr>\n",
       "      <th>2</th>\n",
       "      <td>686.0</td>\n",
       "      <td>705.3</td>\n",
       "      <td>telluric</td>\n",
       "    </tr>\n",
       "    <tr>\n",
       "      <th>3</th>\n",
       "      <td>717.0</td>\n",
       "      <td>735.0</td>\n",
       "      <td>telluric</td>\n",
       "    </tr>\n",
       "    <tr>\n",
       "      <th>4</th>\n",
       "      <td>759.0</td>\n",
       "      <td>771.0</td>\n",
       "      <td>telluric</td>\n",
       "    </tr>\n",
       "    <tr>\n",
       "      <th>5</th>\n",
       "      <td>790.0</td>\n",
       "      <td>795.0</td>\n",
       "      <td>telluric</td>\n",
       "    </tr>\n",
       "    <tr>\n",
       "      <th>6</th>\n",
       "      <td>809.0</td>\n",
       "      <td>990.0</td>\n",
       "      <td>telluric</td>\n",
       "    </tr>\n",
       "  </tbody>\n",
       "</table>\n",
       "</div>"
      ],
      "text/plain": [
       "   start   stop      type\n",
       "0  587.5  592.0  telluric\n",
       "1  627.5  632.5  telluric\n",
       "2  686.0  705.3  telluric\n",
       "3  717.0  735.0  telluric\n",
       "4  759.0  771.0  telluric\n",
       "5  790.0  795.0  telluric\n",
       "6  809.0  990.0  telluric"
      ]
     },
     "execution_count": 3,
     "metadata": {},
     "output_type": "execute_result"
    }
   ],
   "source": [
    "reg2 = pol.get_telluric_regions_default()\n",
    "\n",
    "pd.DataFrame(reg2.to_dict())"
   ]
  },
  {
   "cell_type": "markdown",
   "metadata": {},
   "source": [
    "## How to combine multiple ExcludeMaskRegions"
   ]
  },
  {
   "cell_type": "markdown",
   "metadata": {},
   "source": [
    "TODO"
   ]
  },
  {
   "cell_type": "code",
   "execution_count": 4,
   "metadata": {},
   "outputs": [
    {
     "data": {
      "text/html": [
       "<div>\n",
       "<style scoped>\n",
       "    .dataframe tbody tr th:only-of-type {\n",
       "        vertical-align: middle;\n",
       "    }\n",
       "\n",
       "    .dataframe tbody tr th {\n",
       "        vertical-align: top;\n",
       "    }\n",
       "\n",
       "    .dataframe thead th {\n",
       "        text-align: right;\n",
       "    }\n",
       "</style>\n",
       "<table border=\"1\" class=\"dataframe\">\n",
       "  <thead>\n",
       "    <tr style=\"text-align: right;\">\n",
       "      <th></th>\n",
       "      <th>start</th>\n",
       "      <th>stop</th>\n",
       "      <th>type</th>\n",
       "    </tr>\n",
       "  </thead>\n",
       "  <tbody>\n",
       "    <tr>\n",
       "      <th>0</th>\n",
       "      <td>656.062088</td>\n",
       "      <td>656.499912</td>\n",
       "      <td>Halpha</td>\n",
       "    </tr>\n",
       "    <tr>\n",
       "      <th>1</th>\n",
       "      <td>485.977841</td>\n",
       "      <td>486.302159</td>\n",
       "      <td>Hbeta</td>\n",
       "    </tr>\n",
       "    <tr>\n",
       "      <th>2</th>\n",
       "      <td>433.905217</td>\n",
       "      <td>434.194783</td>\n",
       "      <td>Hgamma</td>\n",
       "    </tr>\n",
       "    <tr>\n",
       "      <th>3</th>\n",
       "      <td>410.033182</td>\n",
       "      <td>410.306818</td>\n",
       "      <td>Hdelta</td>\n",
       "    </tr>\n",
       "    <tr>\n",
       "      <th>4</th>\n",
       "      <td>396.877572</td>\n",
       "      <td>397.142428</td>\n",
       "      <td>Hepsilon</td>\n",
       "    </tr>\n",
       "    <tr>\n",
       "      <th>5</th>\n",
       "      <td>360.000000</td>\n",
       "      <td>392.000000</td>\n",
       "      <td>Hjump</td>\n",
       "    </tr>\n",
       "    <tr>\n",
       "      <th>6</th>\n",
       "      <td>587.500000</td>\n",
       "      <td>592.000000</td>\n",
       "      <td>telluric</td>\n",
       "    </tr>\n",
       "    <tr>\n",
       "      <th>7</th>\n",
       "      <td>627.500000</td>\n",
       "      <td>632.500000</td>\n",
       "      <td>telluric</td>\n",
       "    </tr>\n",
       "    <tr>\n",
       "      <th>8</th>\n",
       "      <td>686.000000</td>\n",
       "      <td>705.300000</td>\n",
       "      <td>telluric</td>\n",
       "    </tr>\n",
       "    <tr>\n",
       "      <th>9</th>\n",
       "      <td>717.000000</td>\n",
       "      <td>735.000000</td>\n",
       "      <td>telluric</td>\n",
       "    </tr>\n",
       "    <tr>\n",
       "      <th>10</th>\n",
       "      <td>759.000000</td>\n",
       "      <td>771.000000</td>\n",
       "      <td>telluric</td>\n",
       "    </tr>\n",
       "    <tr>\n",
       "      <th>11</th>\n",
       "      <td>790.000000</td>\n",
       "      <td>795.000000</td>\n",
       "      <td>telluric</td>\n",
       "    </tr>\n",
       "    <tr>\n",
       "      <th>12</th>\n",
       "      <td>809.000000</td>\n",
       "      <td>990.000000</td>\n",
       "      <td>telluric</td>\n",
       "    </tr>\n",
       "  </tbody>\n",
       "</table>\n",
       "</div>"
      ],
      "text/plain": [
       "         start        stop      type\n",
       "0   656.062088  656.499912    Halpha\n",
       "1   485.977841  486.302159     Hbeta\n",
       "2   433.905217  434.194783    Hgamma\n",
       "3   410.033182  410.306818    Hdelta\n",
       "4   396.877572  397.142428  Hepsilon\n",
       "5   360.000000  392.000000     Hjump\n",
       "6   587.500000  592.000000  telluric\n",
       "7   627.500000  632.500000  telluric\n",
       "8   686.000000  705.300000  telluric\n",
       "9   717.000000  735.000000  telluric\n",
       "10  759.000000  771.000000  telluric\n",
       "11  790.000000  795.000000  telluric\n",
       "12  809.000000  990.000000  telluric"
      ]
     },
     "execution_count": 4,
     "metadata": {},
     "output_type": "execute_result"
    }
   ],
   "source": [
    "concat = reg1+reg2\n",
    "\n",
    "pd.DataFrame(concat.to_dict())"
   ]
  },
  {
   "cell_type": "markdown",
   "metadata": {},
   "source": [
    "## How to save to file and read from file"
   ]
  },
  {
   "cell_type": "markdown",
   "metadata": {},
   "source": [
    "TODO"
   ]
  },
  {
   "cell_type": "code",
   "execution_count": 5,
   "metadata": {},
   "outputs": [
    {
     "ename": "FileNotFoundError",
     "evalue": "[Errno 2] No such file or directory: 'ExcludeMaskRegions_tutorialfiles/ExcludeMaskRegions.dat'",
     "output_type": "error",
     "traceback": [
      "\u001b[0;31m---------------------------------------------------------------------------\u001b[0m",
      "\u001b[0;31mFileNotFoundError\u001b[0m                         Traceback (most recent call last)",
      "Cell \u001b[0;32mIn[5], line 1\u001b[0m\n\u001b[0;32m----> 1\u001b[0m concat\u001b[39m.\u001b[39;49msave(\u001b[39m'\u001b[39;49m\u001b[39mExcludeMaskRegions_tutorialfiles/ExcludeMaskRegions.dat\u001b[39;49m\u001b[39m'\u001b[39;49m)\n",
      "File \u001b[0;32m~/ASTRO/programme/specpolFlow/specpolFlow/mask.py:226\u001b[0m, in \u001b[0;36mExcludeMaskRegions.save\u001b[0;34m(self, fname)\u001b[0m\n\u001b[1;32m    220\u001b[0m \u001b[39mdef\u001b[39;00m \u001b[39msave\u001b[39m(\u001b[39mself\u001b[39m, fname):\n\u001b[1;32m    221\u001b[0m     \u001b[39m\"\"\"\u001b[39;00m\n\u001b[1;32m    222\u001b[0m \u001b[39m    Save the ExcludeMaskRegions object to a text file.\u001b[39;00m\n\u001b[1;32m    223\u001b[0m \u001b[39m    \u001b[39;00m\n\u001b[1;32m    224\u001b[0m \u001b[39m    :param fname: the file path/name\u001b[39;00m\n\u001b[1;32m    225\u001b[0m \u001b[39m    \"\"\"\u001b[39;00m\n\u001b[0;32m--> 226\u001b[0m     \u001b[39mwith\u001b[39;00m \u001b[39mopen\u001b[39;49m(fname, \u001b[39m'\u001b[39;49m\u001b[39mw\u001b[39;49m\u001b[39m'\u001b[39;49m) \u001b[39mas\u001b[39;00m ofile:\n\u001b[1;32m    227\u001b[0m         \u001b[39mfor\u001b[39;00m item \u001b[39min\u001b[39;00m \u001b[39mself\u001b[39m:\n\u001b[1;32m    228\u001b[0m             ofile\u001b[39m.\u001b[39mwrite(\u001b[39m'\u001b[39m\u001b[39m{:.4f}\u001b[39;00m\u001b[39m \u001b[39m\u001b[39m{:.4f}\u001b[39;00m\u001b[39m \u001b[39m\u001b[39m{}\u001b[39;00m\u001b[39m\\n\u001b[39;00m\u001b[39m'\u001b[39m\u001b[39m.\u001b[39mformat(item\u001b[39m.\u001b[39mstart, item\u001b[39m.\u001b[39mstop,\n\u001b[1;32m    229\u001b[0m                                                     item\u001b[39m.\u001b[39mtype))\n",
      "\u001b[0;31mFileNotFoundError\u001b[0m: [Errno 2] No such file or directory: 'ExcludeMaskRegions_tutorialfiles/ExcludeMaskRegions.dat'"
     ]
    }
   ],
   "source": [
    "concat.save('ExcludeMaskRegions_tutorialfiles/ExcludeMaskRegions.dat')"
   ]
  },
  {
   "cell_type": "code",
   "execution_count": null,
   "metadata": {},
   "outputs": [
    {
     "data": {
      "text/html": [
       "<div>\n",
       "<style scoped>\n",
       "    .dataframe tbody tr th:only-of-type {\n",
       "        vertical-align: middle;\n",
       "    }\n",
       "\n",
       "    .dataframe tbody tr th {\n",
       "        vertical-align: top;\n",
       "    }\n",
       "\n",
       "    .dataframe thead th {\n",
       "        text-align: right;\n",
       "    }\n",
       "</style>\n",
       "<table border=\"1\" class=\"dataframe\">\n",
       "  <thead>\n",
       "    <tr style=\"text-align: right;\">\n",
       "      <th></th>\n",
       "      <th>start</th>\n",
       "      <th>stop</th>\n",
       "      <th>type</th>\n",
       "    </tr>\n",
       "  </thead>\n",
       "  <tbody>\n",
       "    <tr>\n",
       "      <th>0</th>\n",
       "      <td>656.062088</td>\n",
       "      <td>656.499912</td>\n",
       "      <td>Halpha</td>\n",
       "    </tr>\n",
       "    <tr>\n",
       "      <th>1</th>\n",
       "      <td>485.977841</td>\n",
       "      <td>486.302159</td>\n",
       "      <td>Hbeta</td>\n",
       "    </tr>\n",
       "    <tr>\n",
       "      <th>2</th>\n",
       "      <td>433.905217</td>\n",
       "      <td>434.194783</td>\n",
       "      <td>Hgamma</td>\n",
       "    </tr>\n",
       "    <tr>\n",
       "      <th>3</th>\n",
       "      <td>410.033182</td>\n",
       "      <td>410.306818</td>\n",
       "      <td>Hdelta</td>\n",
       "    </tr>\n",
       "    <tr>\n",
       "      <th>4</th>\n",
       "      <td>396.877572</td>\n",
       "      <td>397.142428</td>\n",
       "      <td>Hepsilon</td>\n",
       "    </tr>\n",
       "    <tr>\n",
       "      <th>5</th>\n",
       "      <td>360.000000</td>\n",
       "      <td>392.000000</td>\n",
       "      <td>Hjump</td>\n",
       "    </tr>\n",
       "    <tr>\n",
       "      <th>6</th>\n",
       "      <td>587.500000</td>\n",
       "      <td>592.000000</td>\n",
       "      <td>telluric</td>\n",
       "    </tr>\n",
       "    <tr>\n",
       "      <th>7</th>\n",
       "      <td>627.500000</td>\n",
       "      <td>632.500000</td>\n",
       "      <td>telluric</td>\n",
       "    </tr>\n",
       "    <tr>\n",
       "      <th>8</th>\n",
       "      <td>684.000000</td>\n",
       "      <td>705.300000</td>\n",
       "      <td>telluric</td>\n",
       "    </tr>\n",
       "    <tr>\n",
       "      <th>9</th>\n",
       "      <td>717.000000</td>\n",
       "      <td>735.000000</td>\n",
       "      <td>telluric</td>\n",
       "    </tr>\n",
       "    <tr>\n",
       "      <th>10</th>\n",
       "      <td>757.000000</td>\n",
       "      <td>771.000000</td>\n",
       "      <td>telluric</td>\n",
       "    </tr>\n",
       "    <tr>\n",
       "      <th>11</th>\n",
       "      <td>790.000000</td>\n",
       "      <td>795.000000</td>\n",
       "      <td>telluric</td>\n",
       "    </tr>\n",
       "    <tr>\n",
       "      <th>12</th>\n",
       "      <td>809.000000</td>\n",
       "      <td>990.000000</td>\n",
       "      <td>telluric</td>\n",
       "    </tr>\n",
       "  </tbody>\n",
       "</table>\n",
       "</div>"
      ],
      "text/plain": [
       "         start        stop      type\n",
       "0   656.062088  656.499912    Halpha\n",
       "1   485.977841  486.302159     Hbeta\n",
       "2   433.905217  434.194783    Hgamma\n",
       "3   410.033182  410.306818    Hdelta\n",
       "4   396.877572  397.142428  Hepsilon\n",
       "5   360.000000  392.000000     Hjump\n",
       "6   587.500000  592.000000  telluric\n",
       "7   627.500000  632.500000  telluric\n",
       "8   684.000000  705.300000  telluric\n",
       "9   717.000000  735.000000  telluric\n",
       "10  757.000000  771.000000  telluric\n",
       "11  790.000000  795.000000  telluric\n",
       "12  809.000000  990.000000  telluric"
      ]
     },
     "execution_count": 29,
     "metadata": {},
     "output_type": "execute_result"
    }
   ],
   "source": [
    "reg = pol.read_exclude_mask_regions('ExcludeMaskRegions_tutorialfiles/ExcludeMaskRegions.dat')\n",
    "pd.DataFrame(reg.to_dict())"
   ]
  },
  {
   "cell_type": "markdown",
   "metadata": {},
   "source": [
    "## How to use this ExcludeMaskRegions object to clean a mask"
   ]
  },
  {
   "cell_type": "markdown",
   "metadata": {},
   "source": [
    "TODO: write some text here"
   ]
  },
  {
   "cell_type": "code",
   "execution_count": null,
   "metadata": {},
   "outputs": [
    {
     "data": {
      "text/plain": [
       "<matplotlib.legend.Legend at 0x7fe42851ecd0>"
      ]
     },
     "execution_count": 30,
     "metadata": {},
     "output_type": "execute_result"
    },
    {
     "data": {
      "image/png": "[encoded data removed]",
      "text/plain": [
       "<Figure size 640x480 with 1 Axes>"
      ]
     },
     "metadata": {},
     "output_type": "display_data"
    }
   ],
   "source": [
    "mask = pol.read_mask('ExcludeMaskRegions_tutorialfiles/T27000G35_depth0.02.mask')\n",
    "\n",
    "fig, ax = plt.subplots(1,1)\n",
    "ax.scatter(mask.wl, 1-mask.depth, s=10, label='Full mask')\n",
    "ax.set_xlabel('Wavelength (nm)')\n",
    "\n",
    "mask_clean = mask.clean(reg).prune()\n",
    "ax.scatter(mask_clean.wl, 1-mask_clean.depth, s=10, label='Cleaned Mask')\n",
    "\n",
    "ax.legend(loc=0)"
   ]
  },
  {
   "cell_type": "code",
   "execution_count": null,
   "metadata": {},
   "outputs": [
    {
     "name": "stdout",
     "output_type": "stream",
     "text": [
      "[1 1 1 ... 1 1 1]\n"
     ]
    }
   ],
   "source": [
    "print(mask_clean.iuse)"
   ]
  },
  {
   "cell_type": "code",
   "execution_count": null,
   "metadata": {},
   "outputs": [],
   "source": []
  }
 ],
 "metadata": {
  "kernelspec": {
   "display_name": "Python 3.9.15 ('py39')",
   "language": "python",
   "name": "python3"
  },
  "language_info": {
   "codemirror_mode": {
    "name": "ipython",
    "version": 3
   },
   "file_extension": ".py",
   "mimetype": "text/x-python",
   "name": "python",
   "nbconvert_exporter": "python",
   "pygments_lexer": "ipython3",
   "version": "3.9.15"
  },
  "orig_nbformat": 4,
  "vscode": {
   "interpreter": {
    "hash": "0d105923ff2751b07541a5477823aa5d88058b2fa83b28e1bf4a447aeb52c9df"
   }
  }
 },
 "nbformat": 4,
 "nbformat_minor": 2
}
