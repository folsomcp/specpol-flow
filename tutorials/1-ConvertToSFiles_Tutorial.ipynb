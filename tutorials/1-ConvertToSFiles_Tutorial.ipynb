{
 "cells": [
  {
   "cell_type": "markdown",
   "metadata": {},
   "source": [
    "# How to convert telescope-provided files to the standardized .s format"
   ]
  },
  {
   "cell_type": "markdown",
   "metadata": {},
   "source": [
    "This tutorial demnstrates how to convert files provided by the various telescopes into the standard '.s' format used in `SpecpolFlow`. Note that .s files from Narval are already in the correct format, and so do not need to be converted!\n",
    "\n",
    "Table of Contents:\n",
    "\n",
    "* ESPaDOnS UPENA files (with telluric correction)\n",
    "* HARPS and SPIRou coming soon!"
   ]
  },
  {
   "cell_type": "markdown",
   "metadata": {},
   "source": [
    "First, import `SpecpolFlow`:"
   ]
  },
  {
   "cell_type": "code",
   "execution_count": 2,
   "metadata": {
    "tags": [
     "hide-cell"
    ]
   },
   "outputs": [],
   "source": [
    "## Import necessary packages:\n",
    "\n",
    "import specpolFlow as pol"
   ]
  },
  {
   "cell_type": "markdown",
   "metadata": {},
   "source": [
    "## ESPaDOnS files from UPENA (with telluric correction)"
   ]
  },
  {
   "cell_type": "markdown",
   "metadata": {},
   "source": [
    "UPENA provides a `name.p.fits` file that contains columns for 4 different spectra:\n",
    "* Automatically normalized with radial velocity correction from the telluric lines\n",
    "* Automatically normalized without the radial velocity correction from the telluric lines\n",
    "* Unnormalized with radial velocity correction from the telluric lines\n",
    "* Unnormalized without the radial velocity correction from the telluric lines\n",
    "\n",
    "When a more precise normalization is required, users may prefer to use the unnormalized spectra in order to perform the normalization with tools like [`normPlot`](https://github.com/folsomcp/normPlot). \n",
    "\n",
    "However, the radial velocity correction from the telluric lines performed by UPENA on *unnormalized files* has often been found to be erroneous (probably because the code has been optimized to work with normalized spectra). The radial velocity correction from the telluric lines performed on *normalized files* is ok.  \n",
    "\n",
    "Therefore, our ESPaDOnS converter will generate two .s files:\n",
    "* `n.s`: The UPENA normalized spectrum, with automated radial velocity corrections from the telluric lines.\n",
    "* `u.s`: The UPENA unnormalized spectrum using the velocity correction from the normalized spectrum. This is done starting from the unnormalized spectrum without the automated radial velocity correction, to which we have applied the radial velocity correction determined from the normalized spectrum.\n",
    "* `.out`: the content of the FITS header in ascii format. \n",
    "\n",
    "The `flistout` keyword is optional: if `None`, then the .s files are saved at the same path as the original .fits file. If it is set to `path/root`, then the files are saved at that path with that root."
   ]
  },
  {
   "cell_type": "markdown",
   "metadata": {},
   "source": [
    "In the example below, we convert the .fits file `normalization_tutorialfiles/2378196p.fits` to the same directory. "
   ]
  },
  {
   "cell_type": "code",
   "execution_count": 3,
   "metadata": {},
   "outputs": [
    {
     "name": "stdout",
     "output_type": "stream",
     "text": [
      "converting  ConvertToSFiles_tutorialfiles/2378196p.fits\n"
     ]
    }
   ],
   "source": [
    "pol.converters.espadons(['ConvertToSFiles_tutorialfiles/2378196p.fits'])"
   ]
  },
  {
   "cell_type": "code",
   "execution_count": null,
   "metadata": {},
   "outputs": [],
   "source": [
    "! ls ConvertToSFiles_tutorialfiles"
   ]
  }
 ],
 "metadata": {
  "interpreter": {
   "hash": "294a0b9bfc79ce88e29f56e11670a78bb3a231581d3d3954ad0b1fa1a01a617d"
  },
  "kernelspec": {
   "display_name": "Python 3.9.7 64-bit ('base': conda)",
   "name": "python3"
  },
  "language_info": {
   "codemirror_mode": {
    "name": "ipython",
    "version": 3
   },
   "file_extension": ".py",
   "mimetype": "text/x-python",
   "name": "python",
   "nbconvert_exporter": "python",
   "pygments_lexer": "ipython3",
   "version": "3.10.14"
  },
  "orig_nbformat": 4,
  "vscode": {
   "interpreter": {
    "hash": "0d105923ff2751b07541a5477823aa5d88058b2fa83b28e1bf4a447aeb52c9df"
   }
  }
 },
 "nbformat": 4,
 "nbformat_minor": 2
}
