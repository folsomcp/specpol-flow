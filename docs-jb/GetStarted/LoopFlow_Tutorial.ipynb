{
 "cells": [
  {
   "cell_type": "markdown",
   "metadata": {},
   "source": [
    "# Example of a workflow building for large sample\n",
    "\n",
    "When a star has multiple observations, it is useful to make a loop over all of the spectra files rather than running each one individually. To obtain LSD profiles and $B_z$ values, only one cleaned line mask is necessary since all the spectra files are from the same star. With the cleaned mask and .s files, you must loop over the `run_lsdpy` function to calculate outputs for each input spectra file.\n",
    "\n",
    "In the below tutorial, we will walk through how to calculate data from multiple spectra files for the same star. It is recomended you first look through the `OneObservationFlow_Tutorial` for additional background on individual steps. We have provided three spectra files: hd46328_test_1.s, hd46328_test_2.s, and hd46328_test_3.s for $\\xi^1$ CMa (HD 46328; [Erba et al. 2021](https://doi.org/10.1093/mnras/stab1454)) and the long list (LongList_T27000G35.dat) from the Vienna Atomic Line Database (VALD; [Ryabchikova et al. 2015](https://ui.adsabs.harvard.edu/abs/2015PhyS...90e4005R/abstract))."
   ]
  },
  {
   "cell_type": "markdown",
   "metadata": {},
   "source": [
    "First import `specpolFlow` and any other packages"
   ]
  },
  {
   "cell_type": "code",
   "execution_count": 1,
   "metadata": {},
   "outputs": [],
   "source": [
    "import pandas as pd\n",
    "import specpolFlow as pol\n",
    "\n",
    "import copy\n",
    "import matplotlib.pyplot as plt\n",
    "from matplotlib.backends.backend_pdf import PdfPages"
   ]
  },
  {
   "cell_type": "markdown",
   "metadata": {},
   "source": [
    "## 1. Creating & Cleaning LSD Line Mask\n",
    "\n",
    "Below, we specify the name of the VALD long list (only one is needed since all observations are for the same star) and the name and location of our created mask. Next, we remove regions 100 km $\\text{s}^{-1}$ (specific to this example) around the Balmer series and Balmer gap. "
   ]
  },
  {
   "cell_type": "code",
   "execution_count": 2,
   "metadata": {},
   "outputs": [
    {
     "name": "stdout",
     "output_type": "stream",
     "text": [
      "missing Lande factors for 160 lines (skipped) from:\n",
      "['He 2', 'O 2']\n",
      "skipped all lines for species:\n",
      "['H 1']\n"
     ]
    }
   ],
   "source": [
    "# making the mask file from the VALD line list\n",
    "lineList_filename = 'OneObservationFlow_tutorialfiles/LongList_T27000G35.dat'\n",
    "full_mask_filename = 'OneObservationFlow_tutorialfiles/test_output/T27000G35_depth0.02.mask'\n",
    "mask = pol.make_mask(lineList_filename, full_mask_filename, depthCutoff = 0.02, atomsOnly = True)\n",
    "\n",
    "# using default regions for cleaning\n",
    "velrange = 100\n",
    "ExcludeRegions = pol.get_Balmer_regions_default(velrange) + pol.get_telluric_regions_default()\n",
    "\n",
    "# cleaning and saving the mask\n",
    "clean_mask_filename = 'OneObservationFlow_tutorialfiles/test_output/hd46328_test_depth0.02_clean.mask'\n",
    "mask.clean(ExcludeRegions).save(clean_mask_filename)\n",
    "\n",
    "# optionally, you can interactively clean lines from the line mask with\n",
    "# pol.cleanMaskUI(full_mask_filename, observation_filename, clean_mask_filename)"
   ]
  },
  {
   "cell_type": "markdown",
   "metadata": {},
   "source": [
    "## 2. Create LSD Profile\n",
    "\n",
    "Here, we create the LSD files for all three spectra file by looping over the file names."
   ]
  },
  {
   "cell_type": "code",
   "execution_count": 3,
   "metadata": {
    "scrolled": true
   },
   "outputs": [
    {
     "name": "stdout",
     "output_type": "stream",
     "text": [
      "Modified line mask, removed 75 too closely spaced lines\n",
      "Average observed spec velocity spacing: 1.808983 km/s\n",
      "using a 78 point profile with 2.600000 km/s pixels\n",
      "mean mask depth 0.103397 wl 493.199 Lande 1.182459 (from 1047 lines)\n",
      "mean mask norm weightI 0.516987 weightV 0.490160\n",
      "saving model spectrum to  ...\n",
      "I reduced chi2 429.9520 (chi2 33840233.42 constraints 78785 dof 78)\n",
      " Rescaling error bars by: 20.735284\n",
      "V reduced chi2 1.1238 (chi2 88450.48 constraints 78785 dof 78)\n",
      " Rescaling error bars by: 1.060092\n",
      " removing profile continuum pol: -8.1249e-06 +/- 8.2428e-09 (avg err 9.0520e-05)\n",
      "N1 reduced chi2 1.1036 (chi2 86861.21 constraints 78785 dof 78)\n",
      " Rescaling error bars by: 1.050525\n",
      " removing profile continuum pol: -1.3950e-06 +/- 8.0947e-09 (avg err 8.9703e-05)\n",
      "line range estimate -14.200000000000188 42.99999999999969 km/s\n",
      "V in line reduced chi^2 92.875851 (chi2 2043.268716) \n",
      " detect prob 1.000000 (fap 0.000000e+00)\n",
      " Detection! V (fap 0.000000e+00)\n",
      " V outside line reduced chi^2 1.649182 (chi2  82.459085) \n",
      " detect prob 0.997383 (fap 2.616922e-03)\n",
      "N1 in line reduced chi^2 0.990253 (chi2  21.785560) \n",
      " detect prob 0.527251 (fap 4.727489e-01)\n",
      " Non-detection N1 (fap 4.727489e-01)\n",
      " N1 outside line reduced chi^2 0.967857 (chi2  48.392864) \n",
      " detect prob 0.461935 (fap 5.380647e-01)\n",
      "Modified line mask, removed 75 too closely spaced lines\n",
      "Average observed spec velocity spacing: 1.808985 km/s\n",
      "using a 78 point profile with 2.600000 km/s pixels\n",
      "mean mask depth 0.103397 wl 493.199 Lande 1.182459 (from 1047 lines)\n",
      "mean mask norm weightI 0.516987 weightV 0.490160\n",
      "saving model spectrum to  ...\n",
      "I reduced chi2 424.1779 (chi2 33387040.06 constraints 78788 dof 78)\n",
      " Rescaling error bars by: 20.595579\n",
      "V reduced chi2 1.1191 (chi2 88082.86 constraints 78788 dof 78)\n",
      " Rescaling error bars by: 1.057866\n",
      " removing profile continuum pol: -1.6080e-05 +/- 8.2009e-09 (avg err 9.0340e-05)\n",
      "N1 reduced chi2 1.1073 (chi2 87151.72 constraints 78788 dof 78)\n",
      " Rescaling error bars by: 1.052260\n",
      " removing profile continuum pol: -1.2283e-05 +/- 8.1142e-09 (avg err 8.9861e-05)\n",
      "(possible Stokes I uncertainty underestimate 2.3138e-02 vs 1.8071e-03)\n",
      "line range estimate 37.7999999999997 45.59999999999968 km/s\n",
      "V in line reduced chi^2 18.150806 (chi2  54.452417) \n",
      " detect prob 1.000000 (fap 8.985146e-12)\n",
      " Detection! V (fap 8.985146e-12)\n",
      " V outside line reduced chi^2 47.170542 (chi2 3254.767401) \n",
      " detect prob 1.000000 (fap 0.000000e+00)\n",
      "N1 in line reduced chi^2 0.735507 (chi2   2.206522) \n",
      " detect prob 0.469335 (fap 5.306648e-01)\n",
      " Non-detection N1 (fap 5.306648e-01)\n",
      " N1 outside line reduced chi^2 1.118024 (chi2  77.143663) \n",
      " detect prob 0.765452 (fap 2.345481e-01)\n",
      "Modified line mask, removed 75 too closely spaced lines\n",
      "Average observed spec velocity spacing: 1.808885 km/s\n",
      "using a 78 point profile with 2.600000 km/s pixels\n",
      "mean mask depth 0.103397 wl 493.199 Lande 1.182459 (from 1047 lines)\n",
      "mean mask norm weightI 0.516987 weightV 0.490160\n",
      "saving model spectrum to  ...\n",
      "I reduced chi2 426.7559 (chi2 33589529.29 constraints 78787 dof 78)\n",
      " Rescaling error bars by: 20.658071\n",
      "V reduced chi2 1.1436 (chi2 90011.83 constraints 78787 dof 78)\n",
      " Rescaling error bars by: 1.069394\n",
      " removing profile continuum pol: -3.4450e-06 +/- 8.7984e-09 (avg err 9.3525e-05)\n",
      "N1 reduced chi2 1.1110 (chi2 87447.80 constraints 78787 dof 78)\n",
      " Rescaling error bars by: 1.054052\n",
      " removing profile continuum pol: -6.7904e-06 +/- 8.5478e-09 (avg err 9.2184e-05)\n",
      "(possible Stokes I uncertainty underestimate 2.4637e-03 vs 1.8858e-03)\n",
      "line range estimate -6.400000000000205 42.99999999999969 km/s\n",
      "V in line reduced chi^2 106.970402 (chi2 2032.437640) \n",
      " detect prob 1.000000 (fap 0.000000e+00)\n",
      " Detection! V (fap 0.000000e+00)\n",
      " V outside line reduced chi^2 2.090947 (chi2 110.820212) \n",
      " detect prob 0.999994 (fap 5.727391e-06)\n",
      "N1 in line reduced chi^2 1.121809 (chi2  21.314365) \n",
      " detect prob 0.680307 (fap 3.196934e-01)\n",
      " Non-detection N1 (fap 3.196934e-01)\n",
      " N1 outside line reduced chi^2 1.246701 (chi2  66.075175) \n",
      " detect prob 0.892876 (fap 1.071239e-01)\n"
     ]
    }
   ],
   "source": [
    "# creating a template for the filenames\n",
    "obsfile = 'OneObservationFlow_tutorialfiles/hd46328_test_{}.s'\n",
    "lsdfile = 'OneObservationFlow_tutorialfiles/test_output/hd46328_test_{}.lsd'\n",
    "\n",
    "for i in range(0,3):\n",
    "    # here we generate file names from a template\n",
    "    # you could also iterate over a list of filenames\n",
    "    lsd, mod = pol.run_lsdpy(obs = obsfile.format(i+1), \n",
    "            mask = clean_mask_filename, outName = lsdfile.format(i+1), \n",
    "            velStart = - 100.0, velEnd = 100.0, velPixel = 2.6, \n",
    "            normDepth = 0.2, normLande = 1.2, normWave = 500.0,\n",
    "            fLSDPlotImg=0)"
   ]
  },
  {
   "cell_type": "markdown",
   "metadata": {},
   "source": [
    "We can also output a .pdf with all the LSD plots for each observation which is useful for ensuring that the LSD profiles look as expected. \n",
    "\n",
    "(Note that `%%capture` suppresses the cell's output.)"
   ]
  },
  {
   "cell_type": "code",
   "execution_count": 4,
   "metadata": {},
   "outputs": [],
   "source": [
    "%%capture\n",
    "with PdfPages('OneObservationFlow_tutorialfiles/test_output/hd46328_test.pdf') as pdf:\n",
    "\n",
    "    file = 'OneObservationFlow_tutorialfiles/hd46328_test_{}.s'\n",
    "    outfile = 'OneObservationFlow_tutorialfiles/test_output/hd46328_test_{}.lsd'\n",
    "\n",
    "    for i in range(0,3):\n",
    "\n",
    "        lsd = pol.read_lsd(outfile.format(i+1))\n",
    "        fig, ax = lsd.plot()\n",
    "\n",
    "        fig.suptitle('HD46328 test' + '-'+ str(i+1), y = 0.92)\n",
    "        pdf.savefig(fig)"
   ]
  },
  {
   "cell_type": "markdown",
   "metadata": {},
   "source": [
    "## 3. Bz Calculation\n",
    "\n",
    "We can then repeat the above steps for the Bz calculation. Note that each observation has a different `vrad`. One method to resolve this is to make a `vrad` array and put that inside the loop as done below. "
   ]
  },
  {
   "cell_type": "code",
   "execution_count": 5,
   "metadata": {},
   "outputs": [
    {
     "name": "stdout",
     "output_type": "stream",
     "text": [
      "using AUTO method for the normalization\n",
      "  using the median of the continuum outside of the line\n",
      "using AUTO method for the normalization\n",
      "  using the median of the continuum outside of the line\n",
      "using AUTO method for the normalization\n",
      "  using the median of the continuum outside of the line\n",
      "V bz (G) -114.81548297369285 V bz sig (G) 4.910790155719071\n",
      "V bz (G) -114.68157502794334 V bz sig (G) 5.19882079315512\n",
      "V bz (G) -105.49863227107238 V bz sig (G) 5.042137716559499\n"
     ]
    }
   ],
   "source": [
    "# Bz calculation using manual cog selection\n",
    "star = 'hd46328'\n",
    "vsini = 20\n",
    "vrad = [12, 42, 16]\n",
    "\n",
    "Bz_list = []\n",
    "for i in range(3):\n",
    "    lsdpath = 'OneObservationFlow_tutorialfiles/test_output/hd46328_test_{}.lsd'\n",
    "    velrange = [vrad[i]-30, vrad[i]+30]\n",
    "    bzwidth = 20\n",
    "    lsd = pol.read_lsd(lsdpath.format(i+1))\n",
    "    \n",
    "    Bz = lsd.calc_bz(cog = 'I', velrange = velrange, plot = False, bzwidth = bzwidth)\n",
    "    Bz_list += [Bz]\n",
    "    \n",
    "for Bz in Bz_list:\n",
    "    print('V bz (G)', Bz['V bz (G)'], 'V bz sig (G)', Bz['V bz sig (G)'])"
   ]
  },
  {
   "cell_type": "markdown",
   "metadata": {},
   "source": [
    "Often times we also want to output a single table of all the Bz outputs for each observation rather than a different table for each observation. This can be done conveinently with pandas. Below is a single output table with the Bz outputs for every observation in the loop."
   ]
  },
  {
   "cell_type": "code",
   "execution_count": 6,
   "metadata": {},
   "outputs": [
    {
     "name": "stdout",
     "output_type": "stream",
     "text": [
      "using AUTO method for the normalization\n",
      "  using the median of the continuum outside of the line\n",
      "using AUTO method for the normalization\n",
      "  using the median of the continuum outside of the line\n",
      "using AUTO method for the normalization\n",
      "  using the median of the continuum outside of the line\n"
     ]
    },
    {
     "data": {
      "text/html": [
       "<div>\n",
       "<style scoped>\n",
       "    .dataframe tbody tr th:only-of-type {\n",
       "        vertical-align: middle;\n",
       "    }\n",
       "\n",
       "    .dataframe tbody tr th {\n",
       "        vertical-align: top;\n",
       "    }\n",
       "\n",
       "    .dataframe thead th {\n",
       "        text-align: right;\n",
       "    }\n",
       "</style>\n",
       "<table border=\"1\" class=\"dataframe\">\n",
       "  <thead>\n",
       "    <tr style=\"text-align: right;\">\n",
       "      <th></th>\n",
       "      <th>Star</th>\n",
       "      <th>Ic</th>\n",
       "      <th>cog</th>\n",
       "      <th>Bzwidth min</th>\n",
       "      <th>Bzwidth max</th>\n",
       "      <th>V bz (G)</th>\n",
       "      <th>V bz sig (G)</th>\n",
       "      <th>V FAP</th>\n",
       "      <th>N1 bz (G)</th>\n",
       "      <th>N1 bz sig (G)</th>\n",
       "      <th>N1 FAP</th>\n",
       "      <th>N2 bz (G)</th>\n",
       "      <th>N2 bz sig (G)</th>\n",
       "      <th>N2 FAP</th>\n",
       "    </tr>\n",
       "  </thead>\n",
       "  <tbody>\n",
       "    <tr>\n",
       "      <th>0</th>\n",
       "      <td>hd46328</td>\n",
       "      <td>0.992552</td>\n",
       "      <td>11.842090</td>\n",
       "      <td>-8.157910</td>\n",
       "      <td>31.842090</td>\n",
       "      <td>-114.815483</td>\n",
       "      <td>4.910790</td>\n",
       "      <td>0.0</td>\n",
       "      <td>-4.336335</td>\n",
       "      <td>4.797427</td>\n",
       "      <td>0.340356</td>\n",
       "      <td>0.0</td>\n",
       "      <td>0.0</td>\n",
       "      <td>0.0</td>\n",
       "    </tr>\n",
       "    <tr>\n",
       "      <th>1</th>\n",
       "      <td>hd46328</td>\n",
       "      <td>0.991432</td>\n",
       "      <td>41.339359</td>\n",
       "      <td>21.339359</td>\n",
       "      <td>61.339359</td>\n",
       "      <td>-114.681575</td>\n",
       "      <td>5.198821</td>\n",
       "      <td>0.0</td>\n",
       "      <td>-0.722152</td>\n",
       "      <td>5.107832</td>\n",
       "      <td>0.463876</td>\n",
       "      <td>0.0</td>\n",
       "      <td>0.0</td>\n",
       "      <td>0.0</td>\n",
       "    </tr>\n",
       "    <tr>\n",
       "      <th>2</th>\n",
       "      <td>hd46328</td>\n",
       "      <td>0.992430</td>\n",
       "      <td>16.414456</td>\n",
       "      <td>-3.585544</td>\n",
       "      <td>36.414456</td>\n",
       "      <td>-105.498632</td>\n",
       "      <td>5.042138</td>\n",
       "      <td>0.0</td>\n",
       "      <td>2.778290</td>\n",
       "      <td>4.911537</td>\n",
       "      <td>0.214058</td>\n",
       "      <td>0.0</td>\n",
       "      <td>0.0</td>\n",
       "      <td>0.0</td>\n",
       "    </tr>\n",
       "  </tbody>\n",
       "</table>\n",
       "</div>"
      ],
      "text/plain": [
       "      Star        Ic        cog  Bzwidth min  Bzwidth max    V bz (G)  \\\n",
       "0  hd46328  0.992552  11.842090    -8.157910    31.842090 -114.815483   \n",
       "1  hd46328  0.991432  41.339359    21.339359    61.339359 -114.681575   \n",
       "2  hd46328  0.992430  16.414456    -3.585544    36.414456 -105.498632   \n",
       "\n",
       "   V bz sig (G)  V FAP  N1 bz (G)  N1 bz sig (G)    N1 FAP  N2 bz (G)  \\\n",
       "0      4.910790    0.0  -4.336335       4.797427  0.340356        0.0   \n",
       "1      5.198821    0.0  -0.722152       5.107832  0.463876        0.0   \n",
       "2      5.042138    0.0   2.778290       4.911537  0.214058        0.0   \n",
       "\n",
       "   N2 bz sig (G)  N2 FAP  \n",
       "0            0.0     0.0  \n",
       "1            0.0     0.0  \n",
       "2            0.0     0.0  "
      ]
     },
     "execution_count": 6,
     "metadata": {},
     "output_type": "execute_result"
    }
   ],
   "source": [
    "# Bz calculation using manual cog selection\n",
    "star = 'hd46328'\n",
    "vsini = 20\n",
    "vrad = vrad = [12, 42, 16]\n",
    "\n",
    "start = 0\n",
    "for i in range(3):\n",
    "    lsdpath = 'OneObservationFlow_tutorialfiles/test_output/hd46328_test_{}.lsd'\n",
    "    velrange = [vrad[i]-30, vrad[i]+30]\n",
    "    bzwidth = 20\n",
    "    lsd = pol.read_lsd(lsdpath.format(i+1))\n",
    "    Bz = lsd.calc_bz(cog = 'I', velrange = velrange, plot = False, bzwidth = bzwidth)\n",
    "    Bz = pd.DataFrame.from_dict(Bz, 'index').T\n",
    "    Bz.insert(0, \"Star\", star, True)\n",
    "    if start == 0:\n",
    "        Bz_table = copy.copy(Bz)\n",
    "        start = 1\n",
    "    else:\n",
    "        Bz_table = pd.concat([Bz_table, Bz], ignore_index = True)\n",
    "\n",
    "Bz_table"
   ]
  },
  {
   "cell_type": "markdown",
   "metadata": {},
   "source": [
    "As before, we can also make a .pdf for all the Bz plots."
   ]
  },
  {
   "cell_type": "code",
   "execution_count": 7,
   "metadata": {},
   "outputs": [],
   "source": [
    "%%capture\n",
    "start = 0\n",
    "with PdfPages('OneObservationFlow_tutorialfiles/test_output/hd46328_test_Bz.pdf') as pdf:\n",
    "\n",
    "    # Bz calculation using manual cog selection\n",
    "    star = 'hd46328'\n",
    "\n",
    "    vsini = 20\n",
    "    vrad = vrad = [12, 42, 16]\n",
    "\n",
    "    for i in range(3):\n",
    "        lsdpath = 'OneObservationFlow_tutorialfiles/test_output/hd46328_test_{}.lsd'\n",
    "        velrange = [vrad[i]-30, vrad[i]+30]\n",
    "        bzwidth = 20\n",
    "        lsd = pol.read_lsd(lsdpath.format(i+1))\n",
    "        Bz, fig = lsd.calc_bz(cog = 'I', velrange = velrange, plot = True, bzwidth = bzwidth)\n",
    "        \n",
    "        Bz = pd.DataFrame.from_dict(Bz, 'index').T\n",
    "        Bz.insert(0, \"Star\", star, True)\n",
    "        if start == 0:\n",
    "            Bz_table = copy.copy(Bz)\n",
    "            start = 1\n",
    "        else:\n",
    "            Bz_table = pd.concat([Bz_table, Bz], ignore_index = True)\n",
    "        fig.suptitle('{} - {}'.format(star,i+1), fontsize = 20, y = 0.92)\n",
    "        \n",
    "        pdf.savefig(fig)\n"
   ]
  }
 ],
 "metadata": {
  "celltoolbar": "Tags",
  "kernelspec": {
   "display_name": "Python 3 (ipykernel)",
   "language": "python",
   "name": "python3"
  },
  "language_info": {
   "codemirror_mode": {
    "name": "ipython",
    "version": 3
   },
   "file_extension": ".py",
   "mimetype": "text/x-python",
   "name": "python",
   "nbconvert_exporter": "python",
   "pygments_lexer": "ipython3",
   "version": "3.10.12"
  },
  "vscode": {
   "interpreter": {
    "hash": "0d105923ff2751b07541a5477823aa5d88058b2fa83b28e1bf4a447aeb52c9df"
   }
  }
 },
 "nbformat": 4,
 "nbformat_minor": 2
}
