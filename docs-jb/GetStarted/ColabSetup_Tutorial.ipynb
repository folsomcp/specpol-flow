{
  "cells": [
    {
      "cell_type": "markdown",
      "id": "b611b96d",
      "metadata": {
        "id": "b611b96d"
      },
      "source": [
        "# Using with Google Colab"
      ]
    },
    {
      "cell_type": "markdown",
      "id": "93743871",
      "metadata": {},
      "source": [
        "<a target=\"_blank\" href=\"https://colab.research.google.com/github/folsomcp/specpolFlow/blob/main/docs-jb/GetStarted/ColabSetup_Tutorial.ipynb\">\n",
        "  <img src=\"https://colab.research.google.com/assets/colab-badge.svg\" alt=\"Open In Colab\"/>\n",
        "</a>"
      ]
    },
    {
      "cell_type": "markdown",
      "id": "852685f4",
      "metadata": {},
      "source": [
        "SpecpolFlow can be used inside [Google Colab](https://colab.research.google.com/), Google's web-based Jupyter Notebook service.\n",
        "\n",
        ":::{margin}\n",
        "We recommend using pip to install the most recent stable release of `SpecpolFlow`;\n",
        "however, the following commands can be used to install `SpecpolFLow` in Google Colab directly from GitHub.\n",
        "\n",
        "To install `SpecpolFlow` directly from the main GitHub repository, use\n",
        "\n",
        "```\n",
        "!pip install \"git+https://github.com/folsomcp/specpolFlow\"\n",
        "```\n",
        "\n",
        "To install any version of `SpecpolFlow` released on GitHub, use\n",
        "\n",
        "```\n",
        "!pip install \"git+https://github.com/folsomcp/specpolFlow/INSERT_RELEASE_TAG\"\n",
        "```\n",
        ":::"
      ]
    },
    {
      "cell_type": "markdown",
      "id": "5ZlkLs80yf5i",
      "metadata": {
        "id": "5ZlkLs80yf5i"
      },
      "source": [
        "The most recent release of `SpecpolFlow` can be installed in the Colab environment using pip:"
      ]
    },
    {
      "cell_type": "code",
      "execution_count": null,
      "id": "5868a49f",
      "metadata": {
        "colab": {
          "base_uri": "https://localhost:8080/"
        },
        "id": "5868a49f",
        "outputId": "d9b940f6-3fb2-4d7c-f9dd-681d5013392a"
      },
      "outputs": [],
      "source": [
        "!pip install specpolFlow"
      ]
    },
    {
      "cell_type": "markdown",
      "id": "rx0ZFjNUzaFV",
      "metadata": {
        "id": "rx0ZFjNUzaFV"
      },
      "source": [
        "Then, `SpecpolFlow` can then be imported into a Python session as usual:"
      ]
    },
    {
      "cell_type": "code",
      "execution_count": null,
      "id": "xVZkjkUIzb1t",
      "metadata": {
        "colab": {
          "base_uri": "https://localhost:8080/"
        },
        "id": "xVZkjkUIzb1t",
        "outputId": "7cf31c22-ec6f-40d5-be75-1ef80a778fb9"
      },
      "outputs": [],
      "source": [
        "import specpolFlow as pol"
      ]
    },
    {
      "cell_type": "markdown",
      "id": "8e554acf",
      "metadata": {
        "id": "8e554acf"
      },
      "source": [
        "To check the version of `SpecpolFlow` being accessed, type"
      ]
    },
    {
      "cell_type": "code",
      "execution_count": null,
      "id": "0cfe0efe",
      "metadata": {
        "colab": {
          "base_uri": "https://localhost:8080/"
        },
        "id": "0cfe0efe",
        "outputId": "412cf32c-3112-4e7f-c5b0-6320b9952d70"
      },
      "outputs": [],
      "source": [
        "print(pol.__version__)"
      ]
    },
    {
      "cell_type": "markdown",
      "id": "7d7cd5eb",
      "metadata": {},
      "source": [
        "To check a docstring from a function, type"
      ]
    },
    {
      "cell_type": "code",
      "execution_count": null,
      "id": "492e50e6",
      "metadata": {},
      "outputs": [],
      "source": [
        "help(pol.read_lsd)"
      ]
    },
    {
      "cell_type": "markdown",
      "id": "53ef3fe4",
      "metadata": {},
      "source": [
        "The functions that open interactive graphical UIs (`normPlot` and `cleanMaskUI`) don't full work in Colab since Colab dosen't support opening new windows; all other routines are fully supported, though."
      ]
    },
    {
      "cell_type": "markdown",
      "id": "1f3c9822",
      "metadata": {},
      "source": []
    }
  ],
  "metadata": {
    "colab": {
      "include_colab_link": true,
      "name": "Tutorial1.ipynb",
      "provenance": []
    },
    "interpreter": {
      "hash": "294a0b9bfc79ce88e29f56e11670a78bb3a231581d3d3954ad0b1fa1a01a617d"
    },
    "kernelspec": {
      "display_name": "Python 3.9.7 64-bit ('base': conda)",
      "name": "python3"
    },
    "language_info": {
      "codemirror_mode": {
        "name": "ipython",
        "version": 3
      },
      "file_extension": ".py",
      "mimetype": "text/x-python",
      "name": "python",
      "nbconvert_exporter": "python",
      "pygments_lexer": "ipython3",
      "version": "3.9.7"
    }
  },
  "nbformat": 4,
  "nbformat_minor": 5
}
