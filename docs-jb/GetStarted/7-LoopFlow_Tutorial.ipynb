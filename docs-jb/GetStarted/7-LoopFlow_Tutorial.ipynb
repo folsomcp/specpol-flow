{
 "cells": [
  {
   "attachments": {},
   "cell_type": "markdown",
   "metadata": {},
   "source": [
    "# Example of a workflow building for large sample\n",
    "\n",
    "When a star has multiple observations, it is useful to make a loop over all of the spectra files rather than running each one individually. To obtain outputs of interest, only one cleaned line mask is necessary since all the spectra files are from the same star. With the cleaned mask and .s files, you must loop over the `run_lsdpy` function to calculate outputs for each inputted spectra file.\n",
    "\n",
    "In the below tutorial, we will be walking you through how to calculate data from multiple spectra files for the same star. It is recomended you first look through the `OneObservationFlow_Tutorial` for additional background on individual steps. We have provided three spectra files: hd46328_test_1.s, hd46328_test_2.s, and hd46328_test_3.s for $\\xi^1$ CMa (HD 46328; [Erba et al. 2021](https://doi.org/10.1093/mnras/stab1454)) and the long list (LongList_T27000G35.dat) from the Vienna Atomic Line Database (VALD; [Ryabchikova et al. 2015](https://ui.adsabs.harvard.edu/abs/2015PhyS...90e4005R/abstract))."
   ]
  },
  {
   "attachments": {},
   "cell_type": "markdown",
   "metadata": {},
   "source": [
    "## 0. Importing specpolFlow and other packages"
   ]
  },
  {
   "cell_type": "code",
   "execution_count": null,
   "metadata": {},
   "outputs": [],
   "source": [
    "import numpy as np\n",
    "import pandas as pd\n",
    "import astropy.units as u\n",
    "import astropy.constants as const\n",
    "import specpolFlow as pol\n",
    "import LSDpy\n",
    "\n",
    "import copy\n",
    "import matplotlib.pyplot as plt\n",
    "from matplotlib.backends.backend_pdf import PdfPages"
   ]
  },
  {
   "attachments": {},
   "cell_type": "markdown",
   "metadata": {},
   "source": [
    "## 1. Creating & Cleaning LSD Line Mask\n",
    "\n",
    "Below, we specify the name of the VALD long list (only one is needed since all observations are for the same star) and the name and location of our created mask. Next, we remove regions 100 km $\\text{s}^{-1}$ (specific to this example) around the Balmer series and Balmer gap. "
   ]
  },
  {
   "cell_type": "code",
   "execution_count": null,
   "metadata": {},
   "outputs": [],
   "source": [
    "# making the mask file from the VALD line list\n",
    "input_filename = 'OneObservationFlow_tutorialfiles/LongList_T27000G35.dat'\n",
    "output_filename = 'OneObservationFlow_tutorialfiles/test_output/T27000G35_depth0.02.mask'\n",
    "mask = pol.make_mask(input_filename, output_filename, depthCutoff = 0.02, atomsOnly = True)\n",
    "\n",
    "# using default regions for cleaning\n",
    "velrange = 100\n",
    "ExcludeRegions = pol.get_Balmer_regions_default(velrange) + pol.get_telluric_regions_default()\n",
    "\n",
    "# cleaning and saving the mask\n",
    "clean_mask_filename = 'OneObservationFlow_tutorialfiles/test_output/hd46328_test_depth0.02_clean.mask'\n",
    "mask.clean(ExcludeRegions).save(clean_mask_filename)"
   ]
  },
  {
   "attachments": {},
   "cell_type": "markdown",
   "metadata": {},
   "source": [
    "## 2. Create LSD Profile\n",
    "\n",
    "Here, we create the LSD files for all three spectra file by looping over the file names."
   ]
  },
  {
   "cell_type": "code",
   "execution_count": null,
   "metadata": {},
   "outputs": [],
   "source": [
    "# creating a template for the filenames\n",
    "obsfile = 'OneObservationFlow_tutorialfiles/hd46328_test_{}.s'\n",
    "lsdfile = 'OneObservationFlow_tutorialfiles/test_output/hd46328_test_{}.lsd'\n",
    "\n",
    "for i in range(0,3):\n",
    "    lsd, mod = pol.run_lsdpy(obs = obsfile.format(i+1), \n",
    "            mask = clean_mask_filename, outName = lsdfile.format(i+1), \n",
    "            velStart = - 100.0, velEnd = 100.0, velPixel = 2.6, \n",
    "            normDepth = 0.2, normLande = 1.2, normWave = 500.0,\n",
    "            fLSDPlotImg=0)"
   ]
  },
  {
   "attachments": {},
   "cell_type": "markdown",
   "metadata": {},
   "source": [
    "We can also output a .pdf with all the LSD plots for each observation which is useful for ensuring that the LSD profiles look as expected. \n",
    "\n",
    "Note that `%%capture` suppresses the cell's output."
   ]
  },
  {
   "cell_type": "code",
   "execution_count": null,
   "metadata": {},
   "outputs": [],
   "source": [
    "%%capture\n",
    "with PdfPages('OneObservationFlow_tutorialfiles/test_output/hd46328_test.pdf') as pdf:\n",
    "\n",
    "    file = 'OneObservationFlow_tutorialfiles/hd46328_test_{}.s'\n",
    "    outfile = 'OneObservationFlow_tutorialfiles/test_output/hd46328_test_{}.lsd'\n",
    "\n",
    "    for i in range(0,3):\n",
    "\n",
    "        lsd = pol.read_lsd(outfile.format(i+1))\n",
    "        fig, ax = lsd.plot()\n",
    "\n",
    "        fig.suptitle('HD46328 test' + '-'+ str(i+1),y = 0.92)\n",
    "        pdf.savefig(fig)"
   ]
  },
  {
   "attachments": {},
   "cell_type": "markdown",
   "metadata": {},
   "source": [
    "## 3. Bz Calculation\n",
    "\n",
    "We can then repeat the above steps for the Bz calculation. Note that each observation has a different `vrad`. One method to resolve this is to make a `vrad` array and put that inside the loop as done below. "
   ]
  },
  {
   "cell_type": "code",
   "execution_count": null,
   "metadata": {},
   "outputs": [],
   "source": [
    "# Bz calculation using manual cog selection\n",
    "star = 'hd46328'\n",
    "vsini = 20\n",
    "vrad = [12,42,16]\n",
    "\n",
    "for i in range(3):\n",
    "    lsdpath = 'OneObservationFlow_tutorialfiles/test_output/hd46328_test_{}.lsd'\n",
    "    velrange = [vrad[i]-30,vrad[i]+30]\n",
    "    bzwidth = 20\n",
    "    lsd = pol.read_lsd(lsdpath.format(i+1))\n",
    "    \n",
    "    Bz, fig = lsd.calc_bz(cog = vrad[i], velrange = velrange, plot = True, bzwidth = bzwidth)"
   ]
  },
  {
   "cell_type": "code",
   "execution_count": null,
   "metadata": {},
   "outputs": [],
   "source": [
    "# Bz calculation using manual cog selection\n",
    "star = 'hd46328'\n",
    "vsini = 20\n",
    "vrad = vrad = [12,42,16]\n",
    "\n",
    "start = 0\n",
    "for i in range(3):\n",
    "    lsdpath = 'OneObservationFlow_tutorialfiles/test_output/hd46328_test_{}.lsd'\n",
    "    velrange = [vrad[i]-30,vrad[i]+30]\n",
    "    bzwidth = 20\n",
    "    lsd = pol.read_lsd(lsdpath.format(i+1))\n",
    "    Bz, fig = lsd.calc_bz(cog = vrad[i], velrange = velrange, plot = True, bzwidth = bzwidth)\n",
    "    Bz = pd.DataFrame.from_dict(Bz,'index').T\n",
    "    Bz.insert(0,\"Star\", star, True)\n",
    "    if start == 0:\n",
    "        Bz_table = copy.copy(Bz)\n",
    "        start = 1\n",
    "    else:\n",
    "        Bz_table = pd.concat([Bz_table, Bz], ignore_index = True)"
   ]
  },
  {
   "attachments": {},
   "cell_type": "markdown",
   "metadata": {},
   "source": [
    "As before, we can also make a .pdf for all the Bz plots."
   ]
  },
  {
   "cell_type": "code",
   "execution_count": null,
   "metadata": {},
   "outputs": [],
   "source": [
    "%%capture\n",
    "start = 0\n",
    "with PdfPages('OneObservationFlow_tutorialfiles/test_output/hd46328_test_Bz.pdf') as pdf:\n",
    "\n",
    "    # Bz calculation using manual cog selection\n",
    "    star = 'hd46328'\n",
    "\n",
    "    vsini = 20\n",
    "    vrad = vrad = [12,42,16]\n",
    "\n",
    "    for i in range(3):\n",
    "        lsdpath = 'OneObservationFlow_tutorialfiles/test_output/hd46328_test_{}.lsd'\n",
    "        velrange = [vrad[i]-30,vrad[i]+30]\n",
    "        bzwidth = 20\n",
    "        lsd = pol.read_lsd(lsdpath.format(i+1))\n",
    "        Bz, fig = lsd.calc_bz(cog = vrad[i], velrange = velrange, plot = True, bzwidth = bzwidth)\n",
    "        \n",
    "        Bz = pd.DataFrame.from_dict(Bz,'index').T\n",
    "        Bz.insert(0,\"Star\", star, True)\n",
    "        if start == 0:\n",
    "            Bz_table = copy.copy(Bz)\n",
    "            start = 1\n",
    "        else:\n",
    "            Bz_table = pd.concat([Bz_table, Bz], ignore_index = True)\n",
    "        fig.suptitle('{} - {}'.format(star,i+1),fontsize = 20,y = 0.92)\n",
    "            \n",
    "        pdf.savefig(fig)\n"
   ]
  },
  {
   "cell_type": "markdown",
   "metadata": {},
   "source": [
    "Often times we also want to output a single table of all the Bz outputs for each observation rather than a different table for each observation. Below is a single output table with the Bz outputs for every observation in the loop."
   ]
  },
  {
   "cell_type": "code",
   "execution_count": null,
   "metadata": {},
   "outputs": [],
   "source": [
    "Bz_table"
   ]
  }
 ],
 "metadata": {
  "kernelspec": {
   "display_name": "Python 3.9.15 ('py39')",
   "language": "python",
   "name": "python3"
  },
  "language_info": {
   "codemirror_mode": {
    "name": "ipython",
    "version": 3
   },
   "file_extension": ".py",
   "mimetype": "text/x-python",
   "name": "python",
   "nbconvert_exporter": "python",
   "pygments_lexer": "ipython3",
   "version": "3.9.15"
  },
  "orig_nbformat": 4,
  "vscode": {
   "interpreter": {
    "hash": "0d105923ff2751b07541a5477823aa5d88058b2fa83b28e1bf4a447aeb52c9df"
   }
  }
 },
 "nbformat": 4,
 "nbformat_minor": 2
}
