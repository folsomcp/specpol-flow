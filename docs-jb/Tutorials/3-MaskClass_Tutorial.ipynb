{
 "cells": [
  {
   "attachments": {},
   "cell_type": "markdown",
   "metadata": {},
   "source": [
    "# How to use Mask objects\n",
    "\n",
    "In this tutorial, we go over the importance of masks and how they are made and used. \n",
    "\n",
    "First import `specpolFlow` and any other packages."
   ]
  },
  {
   "cell_type": "code",
   "execution_count": 2,
   "metadata": {
    "tags": [
     "hide-cell"
    ]
   },
   "outputs": [],
   "source": [
    "## Importing Necessary Packages\n",
    "import pandas as pd\n",
    "import specpolFlow as pol\n",
    "\n",
    "import matplotlib.pyplot as plt\n",
    "import numpy as np\n"
   ]
  },
  {
   "attachments": {},
   "cell_type": "markdown",
   "metadata": {},
   "source": [
    "## What is a Mask?\n",
    "\n",
    "Analytically, a mask is a function with Dirac deltas at wavelengths corresponding to specific spectral lines. The amplitude of the Dirac delta function corresponds to the line depth. Numerically, a mask is an array of zeros with a depth at the center of each line. Thus, a **mask tells us the location and depth of all lines** in a spectrum but does not tell us about the shape of the lines of the spectrum as a whole.\n",
    "\n",
    "## Why do we care?\n",
    "\n",
    "Given an LSD profile and a mask, we can convolve the LSD profile with the mask to get the spectrum. Typically, though, we have the spectrum and a mask but want the LSD profile. This process of going from a spectrum and a line mask to an LSD profile can be done by doing the reverse operation called deconvolution. **We need a mask to help us weigh each spectral line in the spectrum so that they can be averaged together in an LSD**.\n",
    "\n",
    "```{note}\n",
    "Hydrogen lines are automatically excluded when `atomsOnly = True`. This is done because the hydrogen lines, due to their broad wings, have a different shape than all the other lines in the spectrum.\n",
    "```\n",
    "\n",
    "## Mask creation \n",
    "\n",
    "We will use the `make_mask` function to create a mask. You will usually only use the arguments *lineListFile* and *maskFile*, as well as two optional arguments, *depthCutoff* and *atomsOnly*.\n",
    "\n",
    "```{margin}\n",
    "\n",
    ":::{seealso}\n",
    "You can see the [Mask API](https://folsomcp.github.io/specpolFlow/API/Mask_API.html) for more information on available kwargs.\n",
    ":::\n",
    "\n",
    "```\n",
    "\n",
    "- `lineListFile` is the name of the file containing the line list;\n",
    "- `maskFile` is the name of the file to write the output mask to;\n",
    "- `depthCutoff` is a float that only include lines in the mask that are deeper than this value;\n",
    "- `atomsOnly` is a boolead that decides whether to include only atomic lines (no molecular lines and no H-lines).\n",
    "\n",
    "The input line list is a VALD line list file obtained from the [VALD website](http://vald.astro.uu.se). More details about VALD are given in the tutorial {doc}`../GetStarted/OneObservationFlow_Tutorial`. In the example case used below, we use all atomic lines in the line list except those without effective Lande factors and the H-lines. "
   ]
  },
  {
   "cell_type": "code",
   "execution_count": 19,
   "metadata": {
    "tags": [
     "hide-output"
    ]
   },
   "outputs": [
    {
     "name": "stdout",
     "output_type": "stream",
     "text": [
      "missing Lande factors for 160 lines (skipped) from:\n",
      "['He 2', 'O 2']\n",
      "skipped all lines for species:\n",
      "['H 1']\n"
     ]
    }
   ],
   "source": [
    "LineList_file_name = '../GetStarted/OneObservationFlow_tutorialfiles/LongList_T27000G35.dat'\n",
    "Mask_file_name = '../GetStarted/OneObservationFlow_tutorialfiles/test_output/T27000G35_depth0.02.mask'\n",
    "\n",
    "mask_clean = pol.make_mask(LineList_file_name, Mask_file_name, \n",
    "                           depthCutoff = 0.02, atomsOnly = True)"
   ]
  },
  {
   "cell_type": "markdown",
   "metadata": {},
   "source": [
    "```{warning}\n",
    "The `make_mask` function will automatically attempt to calculate the **effective Lande factor** for lines that are not given. \n",
    "\n",
    "However, if one is unable to be calculated it will be excluded if `includeNoLande = False` or it will equal the `DefaultLande` value if `includeNoLande = True`.\n",
    "```"
   ]
  },
  {
   "attachments": {},
   "cell_type": "markdown",
   "metadata": {},
   "source": [
    "## Mask Cleaning\n",
    "\n",
    "After obtaining our mask, the next step is to clean it. **Mask cleaning** involves removing lines that we do not want to use in the computation of LSD profiles. Typically, we exclude lines that fall within the **Telluric regions** and those within the **H wings**. The lines within the Telluric regions are contaminated by Earth's atmosphere and are therefore unusable. The lines in the H wings are blended with Hydrogen lines, and hence, they are also contaminated and unusable because they have a different shape that can affect averaging. Additionally, when dealing with stars with emission, care should be taken to **exclude emission lines** as they have different shapes.\n",
    "\n",
    "\n",
    "This tutorial will clean the mask using some already defined regions (see {doc}`./4-ExcludeMaskRegionClass_Tutorial` for more details)."
   ]
  },
  {
   "cell_type": "code",
   "execution_count": 4,
   "metadata": {},
   "outputs": [
    {
     "data": {
      "text/html": [
       "<div>\n",
       "<style scoped>\n",
       "    .dataframe tbody tr th:only-of-type {\n",
       "        vertical-align: middle;\n",
       "    }\n",
       "\n",
       "    .dataframe tbody tr th {\n",
       "        vertical-align: top;\n",
       "    }\n",
       "\n",
       "    .dataframe thead th {\n",
       "        text-align: right;\n",
       "    }\n",
       "</style>\n",
       "<table border=\"1\" class=\"dataframe\">\n",
       "  <thead>\n",
       "    <tr style=\"text-align: right;\">\n",
       "      <th></th>\n",
       "      <th>start</th>\n",
       "      <th>stop</th>\n",
       "      <th>type</th>\n",
       "    </tr>\n",
       "  </thead>\n",
       "  <tbody>\n",
       "    <tr>\n",
       "      <th>0</th>\n",
       "      <td>654.967529</td>\n",
       "      <td>657.594471</td>\n",
       "      <td>Halpha</td>\n",
       "    </tr>\n",
       "    <tr>\n",
       "      <th>1</th>\n",
       "      <td>485.167047</td>\n",
       "      <td>487.112953</td>\n",
       "      <td>Hbeta</td>\n",
       "    </tr>\n",
       "    <tr>\n",
       "      <th>2</th>\n",
       "      <td>433.181299</td>\n",
       "      <td>434.918701</td>\n",
       "      <td>Hgamma</td>\n",
       "    </tr>\n",
       "    <tr>\n",
       "      <th>3</th>\n",
       "      <td>409.349092</td>\n",
       "      <td>410.990908</td>\n",
       "      <td>Hdelta</td>\n",
       "    </tr>\n",
       "    <tr>\n",
       "      <th>4</th>\n",
       "      <td>396.215430</td>\n",
       "      <td>397.804570</td>\n",
       "      <td>Hepsilon</td>\n",
       "    </tr>\n",
       "    <tr>\n",
       "      <th>5</th>\n",
       "      <td>360.000000</td>\n",
       "      <td>392.000000</td>\n",
       "      <td>Hjump</td>\n",
       "    </tr>\n",
       "    <tr>\n",
       "      <th>6</th>\n",
       "      <td>587.500000</td>\n",
       "      <td>592.000000</td>\n",
       "      <td>telluric</td>\n",
       "    </tr>\n",
       "    <tr>\n",
       "      <th>7</th>\n",
       "      <td>627.500000</td>\n",
       "      <td>632.500000</td>\n",
       "      <td>telluric</td>\n",
       "    </tr>\n",
       "    <tr>\n",
       "      <th>8</th>\n",
       "      <td>684.000000</td>\n",
       "      <td>705.300000</td>\n",
       "      <td>telluric</td>\n",
       "    </tr>\n",
       "    <tr>\n",
       "      <th>9</th>\n",
       "      <td>717.000000</td>\n",
       "      <td>735.000000</td>\n",
       "      <td>telluric</td>\n",
       "    </tr>\n",
       "    <tr>\n",
       "      <th>10</th>\n",
       "      <td>757.000000</td>\n",
       "      <td>771.000000</td>\n",
       "      <td>telluric</td>\n",
       "    </tr>\n",
       "    <tr>\n",
       "      <th>11</th>\n",
       "      <td>790.000000</td>\n",
       "      <td>795.000000</td>\n",
       "      <td>telluric</td>\n",
       "    </tr>\n",
       "    <tr>\n",
       "      <th>12</th>\n",
       "      <td>809.000000</td>\n",
       "      <td>990.000000</td>\n",
       "      <td>telluric</td>\n",
       "    </tr>\n",
       "  </tbody>\n",
       "</table>\n",
       "</div>"
      ],
      "text/plain": [
       "         start        stop      type\n",
       "0   654.967529  657.594471    Halpha\n",
       "1   485.167047  487.112953     Hbeta\n",
       "2   433.181299  434.918701    Hgamma\n",
       "3   409.349092  410.990908    Hdelta\n",
       "4   396.215430  397.804570  Hepsilon\n",
       "5   360.000000  392.000000     Hjump\n",
       "6   587.500000  592.000000  telluric\n",
       "7   627.500000  632.500000  telluric\n",
       "8   684.000000  705.300000  telluric\n",
       "9   717.000000  735.000000  telluric\n",
       "10  757.000000  771.000000  telluric\n",
       "11  790.000000  795.000000  telluric\n",
       "12  809.000000  990.000000  telluric"
      ]
     },
     "execution_count": 4,
     "metadata": {},
     "output_type": "execute_result"
    }
   ],
   "source": [
    "# inputs\n",
    "velrange = 600 # units are in km/s\n",
    "excluded_regions = pol.get_Balmer_regions_default(velrange) + pol.get_telluric_regions_default()\n",
    "\n",
    "# display the excluded regions using Pandas\n",
    "pd.DataFrame(excluded_regions.to_dict())"
   ]
  },
  {
   "attachments": {},
   "cell_type": "markdown",
   "metadata": {},
   "source": [
    "Once we have our excluded regions, we can clean the mask using the `mask.clean` function. This function takes in the name of the uncleaned mask, the name of the output mask file, and the dictionary containing the excluded regions. The output is a cleaned line mask, in which lines that fall within the `excluded_regions` have been removed.\n"
   ]
  },
  {
   "cell_type": "code",
   "execution_count": 9,
   "metadata": {},
   "outputs": [],
   "source": [
    "# reading in the mask that we created earlier\n",
    "mask = pol.read_mask('../GetStarted/OneObservationFlow_tutorialfiles/test_output/T27000G35_depth0.02.mask')\n",
    "\n",
    "# applying the ExcludeMaskRegions that we created\n",
    "mask_clean = mask.clean(excluded_regions)\n",
    "\n",
    "# saving the new mask to a file\n",
    "mask_clean.save('../GetStarted/OneObservationFlow_tutorialfiles/test_output/hd46328_test_depth0.02_clean.mask')"
   ]
  },
  {
   "cell_type": "markdown",
   "metadata": {},
   "source": [
    "## Other useful tools"
   ]
  },
  {
   "attachments": {},
   "cell_type": "markdown",
   "metadata": {},
   "source": [
    "1. **Interactive Line Cleaning**\n",
    "\n",
    "    SpecpolFlow also includes an interactive tool to visually inspect a spectrum, select/deselect lines, and compare with the model spectrum from an LSD profile calculated on the fly.\n",
    "\n",
    "1.  **Prune**\n",
    "\n",
    "    Additionally, the Mask class has functions to `prune` the mask object, removing all lines from the list that have `iuse = 0`."
   ]
  },
  {
   "cell_type": "code",
   "execution_count": 10,
   "metadata": {},
   "outputs": [
    {
     "name": "stdout",
     "output_type": "stream",
     "text": [
      "Number of lines in the clean mask with iuse = 0: 533\n",
      "Number of lines in the pruned mask with iuse = 0: 0\n"
     ]
    }
   ],
   "source": [
    "# reading in the cleaned mask that we created earlier\n",
    "mask_clean = pol.read_mask('../GetStarted/OneObservationFlow_tutorialfiles/test_output/hd46328_test_depth0.02_clean.mask')\n",
    "print('Number of lines in the clean mask with iuse = 0: {}'.format(mask_clean[np.where(mask_clean.iuse==0)].iuse.size))\n",
    "\n",
    "mask_clean_prune=mask_clean.prune()\n",
    "print('Number of lines in the pruned mask with iuse = 0: {}'.format(mask_clean_prune[np.where(mask_clean_prune.iuse==0)].iuse.size))"
   ]
  },
  {
   "cell_type": "markdown",
   "metadata": {},
   "source": [
    "````{margin}\n",
    "```{attention}\n",
    "Here, lines with `iuse = 0` are also included, so make sure to prune the mask beforehand. \n",
    "```\n",
    "````\n",
    "\n",
    "3. **Get Line Weights**\n",
    "\n",
    "    We can calculate the LSD weight of all lines in the mask using the `get_weights` function. This function requires the following inputs:\n",
    "    * `normDepth`: the normalizing line depth;\n",
    "    * `normWave`: the normalizing wavelength in nm; \n",
    "    * `normLande`: the normalizing effective Lande factor.\n",
    "    \n",
    "    The function then outputs two arrays, the weight of the stokes I lines, and the weight of the stokes V lines."
   ]
  },
  {
   "cell_type": "code",
   "execution_count": 18,
   "metadata": {},
   "outputs": [
    {
     "name": "stdout",
     "output_type": "stream",
     "text": [
      "[1.735 1.99  0.14  ... 0.25  0.285 0.335]\n",
      "[1.51113292 1.52142026 0.08239234 ... 0.39070416 0.4466502  0.52675226]\n"
     ]
    }
   ],
   "source": [
    "weightI, weightV = mask_clean_prune.get_weights(normDepth=0.2,normWave=500.0,normLande=1.2)\n",
    "\n",
    "print(weightI)\n",
    "print(weightV)"
   ]
  }
 ],
 "metadata": {
  "interpreter": {
   "hash": "294a0b9bfc79ce88e29f56e11670a78bb3a231581d3d3954ad0b1fa1a01a617d"
  },
  "kernelspec": {
   "display_name": "Python 3.9.7 64-bit ('base': conda)",
   "name": "python3"
  },
  "language_info": {
   "codemirror_mode": {
    "name": "ipython",
    "version": 3
   },
   "file_extension": ".py",
   "mimetype": "text/x-python",
   "name": "python",
   "nbconvert_exporter": "python",
   "pygments_lexer": "ipython3",
   "version": "3.11.8"
  },
  "orig_nbformat": 4,
  "vscode": {
   "interpreter": {
    "hash": "0d105923ff2751b07541a5477823aa5d88058b2fa83b28e1bf4a447aeb52c9df"
   }
  }
 },
 "nbformat": 4,
 "nbformat_minor": 2
}
