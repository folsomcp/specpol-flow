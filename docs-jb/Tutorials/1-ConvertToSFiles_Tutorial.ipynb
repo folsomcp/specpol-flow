{
 "cells": [
  {
   "cell_type": "markdown",
   "metadata": {},
   "source": [
    "# How to convert telescope-provided files to the standardized .s format"
   ]
  },
  {
   "cell_type": "markdown",
   "metadata": {},
   "source": [
    "This tutorial demonstrates how to convert files provided by the various telescopes into the standard '.s' format used in `SpecpolFlow`. \n",
    "The .s format is essentially a text format with columns for wavelength, intensity, polarization, two polarimetric nulls, and uncertainties.  This follow the format from LibreESPRIT.\n",
    "\n",
    "Note that .s files from Narval are already in the correct format, and so do not need to be converted!"
   ]
  },
  {
   "cell_type": "markdown",
   "metadata": {},
   "source": [
    "First, import `SpecpolFlow`:"
   ]
  },
  {
   "cell_type": "code",
   "execution_count": 1,
   "metadata": {
    "tags": [
     "hide-cell"
    ]
   },
   "outputs": [],
   "source": [
    "## Import necessary packages:\n",
    "\n",
    "import specpolFlow as pol"
   ]
  },
  {
   "cell_type": "markdown",
   "metadata": {},
   "source": [
    "## ESPaDOnS files from UPENA"
   ]
  },
  {
   "cell_type": "markdown",
   "metadata": {},
   "source": [
    "For spectropolarimetric observations, UPENA provides a `[name]p.fits` file that contains columns for 4 different spectra:\n",
    "* Automatically normalized with radial velocity correction from the telluric lines\n",
    "* Automatically normalized without the radial velocity correction from the telluric lines\n",
    "* Unnormalized with radial velocity correction from the telluric lines\n",
    "* Unnormalized without the radial velocity correction from the telluric lines\n",
    "\n",
    "When a more precise normalization is required, users may prefer to use the unnormalized spectra in order to perform the normalization with tools like [`normPlot`](https://github.com/folsomcp/normPlot). \n",
    "\n",
    "However, the radial velocity correction from the telluric lines performed by UPENA on *unnormalized files* has often been found to be erroneous (probably because the code has been optimized to work with normalized spectra). The radial velocity correction from the telluric lines performed on *normalized files* is reliable.  \n",
    "\n",
    "Therefore, our ESPaDOnS converter will generate two .s files:\n",
    "* `n.s`: The UPENA normalized spectrum, with automated radial velocity corrections from the telluric lines.\n",
    "* `u.s`: The UPENA unnormalized spectrum using the velocity correction from the normalized spectrum. This is done starting from the unnormalized spectrum without the automated radial velocity correction, to which we have applied the radial velocity correction determined from the normalized spectrum.\n",
    "* `.out`: the content of the FITS header in ascii format. \n",
    "\n",
    "The `flistout` keyword is optional: if not provided (or `None`), then the .s files are saved at the same path as the original .fits file. Or it can be set to the first part of a filename, possibly including directories, like `path/root_filename_`, then the files are saved at that path with names like `root_filename_n.s` and `root_filename_u.s`.  Finally, a list of input files can be provided, along with a list of output root filenames, to process several files at once."
   ]
  },
  {
   "cell_type": "markdown",
   "metadata": {},
   "source": [
    "In the example below, we convert the .fits file `normalization_tutorialfiles/2378196p.fits` to the same directory. "
   ]
  },
  {
   "cell_type": "code",
   "execution_count": 2,
   "metadata": {},
   "outputs": [
    {
     "name": "stdout",
     "output_type": "stream",
     "text": [
      "converting  ConvertToSFiles_tutorialfiles/2378196p.fits\n",
      "converting  ConvertToSFiles_tutorialfiles/2378196p.fits\n"
     ]
    }
   ],
   "source": [
    "pol.converters.espadons(['ConvertToSFiles_tutorialfiles/2378196p.fits'])\n",
    "# or specifying the output file name\n",
    "pol.converters.espadons(['ConvertToSFiles_tutorialfiles/2378196p.fits'], \n",
    "                        flistout=['ConvertToSFiles_tutorialfiles/star_name_'])"
   ]
  }
 ],
 "metadata": {
  "interpreter": {
   "hash": "294a0b9bfc79ce88e29f56e11670a78bb3a231581d3d3954ad0b1fa1a01a617d"
  },
  "kernelspec": {
   "display_name": "Python 3.9.7 64-bit ('base': conda)",
   "name": "python3"
  },
  "language_info": {
   "codemirror_mode": {
    "name": "ipython",
    "version": 3
   },
   "file_extension": ".py",
   "mimetype": "text/x-python",
   "name": "python",
   "nbconvert_exporter": "python",
   "pygments_lexer": "ipython3",
   "version": "3.10.12"
  },
  "orig_nbformat": 4,
  "vscode": {
   "interpreter": {
    "hash": "0d105923ff2751b07541a5477823aa5d88058b2fa83b28e1bf4a447aeb52c9df"
   }
  }
 },
 "nbformat": 4,
 "nbformat_minor": 2
}
