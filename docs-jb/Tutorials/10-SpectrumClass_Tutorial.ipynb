{
 "cells": [
  {
   "cell_type": "markdown",
   "metadata": {},
   "source": [
    "# How to use the Spectrum Class"
   ]
  },
  {
   "cell_type": "markdown",
   "metadata": {},
   "source": [
    "SpecpolFlow provides a python class that holds a <a href='../API/Spectrum_API.html#specpolFlow.Spectrum'>`Spectrum`</a> object. \n",
    "\n",
    "In this tutorial, we demonstrate the capabilities of this class. "
   ]
  },
  {
   "cell_type": "markdown",
   "metadata": {},
   "source": [
    "A <a href='../API/Spectrum_API.html#specpolFlow.Spectrum'>`Spectrum`</a> object contains the following data arrays:\n",
    "\n",
    "* wl - wavelengths\n",
    "* specI - Stokes I spectrum\n",
    "* specV - polarized spectrum, usually Stokes V\n",
    "* specN1 - the first polarimetric null spectrum\n",
    "* specN2 - the second polarimetric null spectrum\n",
    "* specSig - the formal uncertainties, which apply to the all spectra.\n",
    "* header - the text in the header of a .s file"
   ]
  },
  {
   "cell_type": "markdown",
   "metadata": {},
   "source": [
    "You will need to load the following packages"
   ]
  },
  {
   "cell_type": "code",
   "execution_count": null,
   "metadata": {
    "tags": [
     "hide-cell"
    ]
   },
   "outputs": [],
   "source": [
    "import specpolFlow as pol\n",
    "import matplotlib.pyplot as plt\n",
    "import numpy as np"
   ]
  },
  {
   "cell_type": "markdown",
   "metadata": {},
   "source": [
    "We will be using this .s file for our demonstrations: [1604052pu.s.norm](https://raw.githubusercontent.com/folsomcp/specpolFlow/main/docs-jb/Tutorials/CalculateBisector_tutorialfiles/1604052pu.s.norm)"
   ]
  },
  {
   "cell_type": "markdown",
   "metadata": {},
   "source": [
    "## How to load and save a Spectrum from a '.s' file"
   ]
  },
  {
   "cell_type": "markdown",
   "metadata": {},
   "source": [
    "::::{margin}\n",
    ":::{note}\n",
    "The <a href='../API/Spectrum_API.html#specpolFlow.read_spectrum'>`read_spectrum`</a> has a few optional advanced keywords that can be used to automatically reject some types of bad data (e.g. negative flux values), and to order the datapoints in order of wavelengths -- see the API for details. \n",
    ":::\n",
    "::::\n",
    "To load in a spectrum in .s format, we can use the <a href='../API/Spectrum_API.html#specpolFlow.read_spectrum'>`read_spectrum`</a> function. "
   ]
  },
  {
   "cell_type": "code",
   "execution_count": null,
   "metadata": {},
   "outputs": [],
   "source": [
    "spec = pol.read_spectrum('CalculateBisector_tutorialfiles/1604052pu.s.norm')\n",
    "\n",
    "# Make a figure of Stokes I\n",
    "fig, ax = plt.subplots(1,1, figsize = (10,5))\n",
    "ax.plot(spec.wl, spec.specI, lw = 0.5)\n",
    "ax.set_ylim(0,1.3)\n",
    "ax.set_xlim(500,600)\n",
    "ax.set_xlabel('Wavelengts (nm)')\n",
    "ax.set_ylabel('Normalized Stokes I')"
   ]
  },
  {
   "cell_type": "markdown",
   "metadata": {},
   "source": [
    "If the '.s' file had a text header, it will be available from the `header` property of the <a href='../API/Spectrum_API.html#specpolFlow.Spectrum'>`Spectrum`</a> object:"
   ]
  },
  {
   "cell_type": "code",
   "execution_count": null,
   "metadata": {},
   "outputs": [],
   "source": [
    "print(spec.header)"
   ]
  },
  {
   "cell_type": "markdown",
   "metadata": {},
   "source": [
    "As you can see here, since the file did not have a header, the `spec.header` is set to `None`"
   ]
  },
  {
   "cell_type": "markdown",
   "metadata": {},
   "source": [
    "A <a href='../API/Spectrum_API.html#specpolFlow.Spectrum'>`Spectrum`</a> object can be saved in a '.s' format with the <a href='../API/Spectrum_API.html#specpolFlow.Spectrum.save'>`spectrum.save`</a> class function.\n",
    "\n",
    "In the example below, we will add a header to the <a href='../API/Spectrum_API.html#specpolFlow.Spectrum'>`Spectrum`</a> object, and save. "
   ]
  },
  {
   "cell_type": "code",
   "execution_count": null,
   "metadata": {},
   "outputs": [],
   "source": [
    "spec.header = 'Spectrum for star HS 123456'\n",
    "\n",
    "spec.save('Output/Spectrum.s', saveHeader = True)\n",
    "# saveHeader = True is the default. \n",
    "# If you would like to skip the '.s' 2-line header, set to False"
   ]
  },
  {
   "cell_type": "markdown",
   "metadata": {},
   "source": [
    ":::{note}\n",
    "The <a href='../API/Spectrum_API.html#specpolFlow.Spectrum'>`Spectrum`</a> class supports 3 types of '.s' file format\n",
    "* Polarimetric spectrum with 6 columns\n",
    "* Spectroscopic spectrum with 3 columns (Wavelength, Flux, uncertainty): in this case the spectrum.specV, spectrum.N1, spectrum.N2 will be set to zero\n",
    "* Spectroscopic spectum with 2 columns (Wavelength, Flux): in this case spectrum.specSig, spectrum.specV, spectrum.N1, spectrum.N2 will be set to zero. \n",
    "\n",
    "The <a href='../API/Spectrum_API.html#specpolFlow.Spectrum.save'>`spectrum.save`</a> function will save the spectrum in a 2, 3, or 5 columns format, if it detects columns that are strickly filled with zeros. \n",
    ":::"
   ]
  },
  {
   "cell_type": "markdown",
   "metadata": {},
   "source": [
    "## How to use indexing and concatenation"
   ]
  },
  {
   "cell_type": "markdown",
   "metadata": {},
   "source": [
    "A <a href='../API/Spectrum_API.html#specpolFlow.Spectrum'>`Spectrum`</a> object can be sliced and indexed using python normal list indexation."
   ]
  },
  {
   "cell_type": "code",
   "execution_count": null,
   "metadata": {},
   "outputs": [],
   "source": [
    "print('The spectrum has {} datapoints'.format(len(spec)))\n",
    "\n",
    "print('The maximum wavelength is {} nm'.format(spec.wl[-1]))\n",
    "\n",
    "cut_spectrum = spec[spec.wl>600]\n",
    "print(cut_spectrum[0].wl)"
   ]
  },
  {
   "cell_type": "markdown",
   "metadata": {},
   "source": [
    "Here's a slighly more advanced example that illustrates how one can assign a <a href='../API/Spectrum_API.html#specpolFlow.Spectrum'>`Spectrum`</a> object to a slice of another <a href='../API/Spectrum_API.html#specpolFlow.Spectrum'>`Spectrum`</a> object. Here, we replace a section of the spectrm with ones for the intensity and zeros for the polarization. Of course, it is also possible to assigned arrays of zeros and ones to each individual arrays of `spec`. \n",
    "````\n",
    "spec.specI[0:1500] = 1.0\n",
    "spec.specV[0:1500] = 0.0\n",
    "...\n",
    "````"
   ]
  },
  {
   "cell_type": "code",
   "execution_count": null,
   "metadata": {},
   "outputs": [],
   "source": [
    "# Create a spectrum object with 1500 datapoints\n",
    "n = 1500\n",
    "replace = pol.Spectrum(spec.wl[0:n], np.ones(n), # wl and specI\n",
    "                       np.zeros(n), np.zeros(n), np.zeros(n), # specV, specN1, and specN2\n",
    "                       np.ones(n)) # specSig\n",
    "\n",
    "spec[0:n] = replace\n",
    "\n",
    "# Make a figure of Stokes I\n",
    "fig, ax = plt.subplots(1,1, figsize = (10,5))\n",
    "ax.plot(spec.wl, spec.specI, lw = 0.5)\n",
    "ax.set_ylim(0,1.3)\n",
    "ax.set_xlim(min(spec.wl),374)\n",
    "ax.set_xlabel('Wavelengts (nm)')\n",
    "ax.set_ylabel('Normalized Stokes I')"
   ]
  },
  {
   "cell_type": "markdown",
   "metadata": {},
   "source": [
    "We can also concatenate mutiple <a href='../API/Spectrum_API.html#specpolFlow.Spectrum'>`Spectrum`</a> object using the <a href='../API/Spectrum_API.html#specpolFlow.Spectrum.contatenate'>`Spectrum.concatenate`</a> class function. \n",
    "\n",
    "In the example below, we create two new <a href='../API/Spectrum_API.html#specpolFlow.Spectrum'>`Spectrum`</a> objects by slicing `spec`, and we then concatenate them together"
   ]
  },
  {
   "cell_type": "code",
   "execution_count": null,
   "metadata": {},
   "outputs": [],
   "source": [
    "spec1 = spec[spec.wl<600]\n",
    "spec2 = spec[np.logical_and(spec.wl>700,spec.wl<800)]\n",
    "spec3 = spec[spec.wl>900]\n",
    "\n",
    "spec_cat = spec1.concatenate([spec2,spec3])\n",
    "\n",
    "# Make a figure of Stokes I\n",
    "fig, ax = plt.subplots(1,1, figsize = (10,5))\n",
    "ax.plot(spec_cat.wl, spec_cat.specI, lw = 0.5)\n",
    "ax.set_ylim(0,1.3)\n",
    "ax.set_xlabel('Wavelengts (nm)')\n",
    "ax.set_ylabel('Normalized Stokes I')"
   ]
  },
  {
   "cell_type": "markdown",
   "metadata": {},
   "source": [
    "## How to coadd multiple spectra"
   ]
  },
  {
   "cell_type": "markdown",
   "metadata": {},
   "source": [
    "## How to extract and merge spectral orders for echelle spectra"
   ]
  }
 ],
 "metadata": {
  "interpreter": {
   "hash": "294a0b9bfc79ce88e29f56e11670a78bb3a231581d3d3954ad0b1fa1a01a617d"
  },
  "kernelspec": {
   "display_name": "Python 3.9.7 64-bit ('base': conda)",
   "name": "python3"
  },
  "language_info": {
   "codemirror_mode": {
    "name": "ipython",
    "version": 3
   },
   "file_extension": ".py",
   "mimetype": "text/x-python",
   "name": "python",
   "nbconvert_exporter": "python",
   "pygments_lexer": "ipython3",
   "version": "3.9.7"
  }
 },
 "nbformat": 4,
 "nbformat_minor": 2
}
