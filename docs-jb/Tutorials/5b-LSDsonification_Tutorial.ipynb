{
 "cells": [
  {
   "cell_type": "markdown",
   "id": "16b0f70c",
   "metadata": {},
   "source": [
    "# Sonifying LSD profiles\n",
    "This tutorial provides information and an example on the use of the sonification of LSD profile data."
   ]
  },
  {
   "cell_type": "markdown",
   "metadata": {},
   "source": [
    "## 0. Importing specpolFlow and other packages"
   ]
  },
  {
   "cell_type": "code",
   "execution_count": null,
   "id": "83d23d40",
   "metadata": {},
   "outputs": [],
   "source": [
    "import astronify as snd\n",
    "import specpolFlow as pol\n",
    "from astropy.table import Table\n",
    "import numpy as np"
   ]
  },
  {
   "cell_type": "markdown",
   "metadata": {},
   "source": [
    "## 1. `sono_lsd` Function"
   ]
  },
  {
   "cell_type": "code",
   "execution_count": null,
   "id": "19beb50c",
   "metadata": {},
   "outputs": [],
   "source": [
    "def sono_lsd(lsd):\n",
    "    ''' \n",
    "    Creates a sonification of a LSD profile object. \n",
    "    '''\n",
    "\n",
    "    # The astronify package requires astropy tables. \n",
    "    # data_table_I = Table({\"vel\":lsd.vel, \"Stokes\":lsd.specI})\n",
    "    # data_table_N1 = Table({\"vel\":lsd.vel, \"Stokes\":lsd.specN1})\n",
    "    # data_table_V = Table({\"vel\":lsd.vel, \"Stokes\":lsd.specV})\n",
    "\n",
    "    sigmaN = np.std(lsd.specN1) # The stdev of N1:\n",
    "    maxV = np.max(np.abs(lsd.specV)) # The max of V\n",
    "    # We clip the sound range at either 5 times the deviation of N\n",
    "    # (in the case where StokesV is not detected) \n",
    "    # or to the max value of Stokes V\n",
    "    clip = np.max([5*sigmaN, maxV])\n",
    "\n",
    "    data_table = Table({\"vel\":lsd.vel, \"Stokes\":lsd.specI})\n",
    "    data_soni = snd.series.SoniSeries(data_table, time_col='vel', val_col='Stokes')\n",
    "    data_soni.note_spacing = 0.02\n",
    "    data_soni.pitch_mapper.pitch_map_args[\"zero_point\"] = 1.0\n",
    "    data_soni.pitch_mapper.pitch_map_args['minmax_value'] = [0.5, 1.5]\n",
    "    data_soni.pitch_mapper.pitch_map_args['pitch_range'] = [100, 700]\n",
    "    data_soni.pitch_mapper.pitch_map_args['center_pitch'] = 400\n",
    "    data_soni.sonify()\n",
    "    data_soni.play() \n",
    "    data_soni.write('I.wav')\n",
    "\n",
    "    for i, Stokes in enumerate([lsd.specN1, lsd.specV]):\n",
    "\n",
    "        data_table = Table({\"vel\":lsd.vel, \"Stokes\":Stokes})\n",
    "        data_soni = snd.series.SoniSeries(data_table, time_col='vel', val_col='Stokes')\n",
    "        data_soni.note_spacing = 0.02\n",
    "        data_soni.pitch_mapper.pitch_map_args[\"zero_point\"] = 0.0\n",
    "        data_soni.pitch_mapper.pitch_map_args['minmax_value'] = [-1*clip, clip]\n",
    "        data_soni.pitch_mapper.pitch_map_args['pitch_range'] = [100, 700]\n",
    "        data_soni.pitch_mapper.pitch_map_args['center_pitch'] = 400\n",
    "        data_soni.sonify()\n",
    "        data_soni.play() \n",
    "        if i==0:\n",
    "            data_soni.write('N1.wav')\n",
    "        else:\n",
    "            data_soni.write('V.wav')\n",
    "\n",
    "    \n",
    "    return(data_soni)"
   ]
  },
  {
   "cell_type": "code",
   "execution_count": null,
   "id": "579ea49e",
   "metadata": {},
   "outputs": [],
   "source": [
    "lsd = pol.read_lsd('CalculateBz_tutorialfiles/SampleLSD.s')\n",
    "lsd = lsd[np.logical_and(lsd.vel>-50,lsd.vel<150)]\n",
    "# lsd.specV = lsd.specN1\n",
    "fig, ax = lsd.plot()\n",
    "\n",
    "\n",
    "data_soni = sono_lsd(lsd)\n",
    "\n",
    "# data_soni.sonify()\n",
    "# data_soni.play() \n",
    "# data_soni.write('N1.wav')"
   ]
  }
 ],
 "metadata": {
  "kernelspec": {
   "display_name": "Python 3.9.15 ('py39')",
   "language": "python",
   "name": "python3"
  },
  "language_info": {
   "codemirror_mode": {
    "name": "ipython",
    "version": 3
   },
   "file_extension": ".py",
   "mimetype": "text/x-python",
   "name": "python",
   "nbconvert_exporter": "python",
   "pygments_lexer": "ipython3",
   "version": "3.9.15"
  },
  "vscode": {
   "interpreter": {
    "hash": "0d105923ff2751b07541a5477823aa5d88058b2fa83b28e1bf4a447aeb52c9df"
   }
  }
 },
 "nbformat": 4,
 "nbformat_minor": 5
}
