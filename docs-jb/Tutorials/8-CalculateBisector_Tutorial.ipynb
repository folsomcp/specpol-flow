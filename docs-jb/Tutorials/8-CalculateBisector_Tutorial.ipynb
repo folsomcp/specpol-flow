{
 "cells": [
  {
   "cell_type": "markdown",
   "id": "e88ea9f7",
   "metadata": {},
   "source": [
    "# Calculating line bisector from LSD profiles and individual lines"
   ]
  },
  {
   "cell_type": "markdown",
   "id": "54b48b1d",
   "metadata": {},
   "source": [
    ":::{Warning}\n",
    "Still under construction\n",
    ":::\n",
    "\n",
    "\n",
    "Line bisectors can be useful to study line asymmetries induced by photospheric convection. One of such examples is the convective blueshift, caused by the imbalance in surface coverage between hot granulues (rising material) and cooler intergranular lanes (downflow material). In this tutorial, we explore how the bisector function <a href='../API/LSD_API.html#specpolFlow.LSD.calc_bis'>`calc_bis`</a>, part of the <a href='../API/LSD_API.html#specpolFlow.LSD'>`LSD`</a> class, can be used to analyse LSD profiles and individual lines as well. \n",
    "\n",
    "First import `specpolFlow` and any other packages."
   ]
  },
  {
   "cell_type": "code",
   "execution_count": null,
   "id": "9957b5f8",
   "metadata": {
    "tags": [
     "hide-cell"
    ]
   },
   "outputs": [],
   "source": [
    "import matplotlib.pyplot as plt\n",
    "import specpolFlow as pol\n",
    "import numpy as np"
   ]
  },
  {
   "cell_type": "markdown",
   "id": "82ca83a9",
   "metadata": {
    "tags": [
     "hidden"
    ]
   },
   "source": [
    "## Computing bisectors on LSD profiles\n",
    "For our first example, we provide an LSD profile ([SampleLSD.lsd](https://github.com/folsomcp/specpolFlow/blob/main/docs-jb/Tutorials/CalculateBz_tutorialfiles/SampleLSD.lsd)) to illustrate the use of bisectors. First, we load the LSD profile, shift it to the stellar reference frame, and adjust the continuum normalization. "
   ]
  },
  {
   "cell_type": "code",
   "execution_count": null,
   "id": "ab6a9c8a",
   "metadata": {},
   "outputs": [],
   "source": [
    "# read the LSD profile\n",
    "lsd = pol.read_lsd(\"CalculateBz_tutorialfiles/SampleLSD.lsd\")\n",
    "# estimating the systemic velocity using the center of \n",
    "# gravity of Stokes I\n",
    "cog = lsd.cog_I() \n",
    "# Doppler shift the profile \n",
    "lsd = lsd.vshift(cog)\n",
    "# continuum normalization\n",
    "lsd = lsd.norm(np.mean(lsd.specI[(lsd.vel < -50.0) | (lsd.vel > 50.0)]))\n",
    "# slice profile to select a smaller window\n",
    "lsd = lsd[np.abs(lsd.vel) < 50.0]\n",
    "fig, ax = lsd.plot(figsize = (5,5))"
   ]
  },
  {
   "cell_type": "markdown",
   "id": "4631566f",
   "metadata": {},
   "source": [
    "We use the `calc_bis` function to compute the line bisector and velocity span following the definition of [Gray (1982)](https://ui.adsabs.harvard.edu/abs/1982ApJ...255..200G/abstract) and [Queloz et al. (2001)](https://www.aanda.org/component/article?access=bibcode&bibcode=&bibcode=2001A%2526A...379..279QFUL), respectively. The `bzwidth` keyword specifies the velocity range around the `cog` (i.e. relative to the line center) that will then be used to compute the bisector. Other possible kwargs are `plotFit` and `fullOutput`.\n",
    "\n",
    "\n",
    "::::{margin}\n",
    ":::{note}\n",
    "The velocity span is the difference from the average velocity at the top and bottom part of the line bisector; this can be viewed as an estimation of the mean slope of the bisector.\n",
    ":::\n",
    "::::\n",
    "\n",
    "By default, `fullOutput = False` and only the velocity span is returned. One can also set `fullOutput = True` to return:\n",
    "- velocity span\n",
    "- top velocity (i.e., within 10–40 per cent of the full line depth)\n",
    "- bottom velocity (i.e., within 60–90 per cent of the full line depth)\n",
    "- line bisector array\n",
    "- intensity levels at which bisectors were computed"
   ]
  },
  {
   "cell_type": "code",
   "execution_count": null,
   "id": "e145bf95",
   "metadata": {},
   "outputs": [],
   "source": [
    "# compute the line bisector in a 40 km/s window around cog\n",
    "biswidth = 40 \n",
    "\n",
    "# Get the velocity span and plot the line bisector\n",
    "vspan = lsd.calc_bis(cog = 0, Ic = 1., biswidth = biswidth, fullOutput = False, plotFit = True)\n",
    "\n",
    "print(\"Velocity span = %1.3f km/s\" %(vspan))"
   ]
  },
  {
   "cell_type": "markdown",
   "id": "a4e96629",
   "metadata": {},
   "source": [
    "The figure above shows a few useful things:\n",
    "- vertical blue line shows the cog used as the line center\n",
    "- black dotted line shows the velocity width used to compute the bisector\n",
    "- horizontal cyan lines in the figure represent the intensity levels used to compute the line bisector - Note that the line profile must be interpolated at the left and right intersections with these levels to compute the bisector\n",
    "- red line illustrates the line bisector scaled up by a factor for illustration purposes. \n",
    "\n",
    "\n",
    ":::{Warning}\n",
    " It is important to adequately set the continuum level `Ic` as the bisector function uses that value as a reference to estimate the velocity span. \n",
    ":::"
   ]
  },
  {
   "cell_type": "markdown",
   "id": "f3a54058",
   "metadata": {},
   "source": [
    "## Computing bisectors on individual line profiles\n",
    "\n",
    "The following example demonstrates how to use bisectors on individual spectral lines. We analyze the spectrum of the main-sequence star 51 Peg, the first star where an exoplanet was detected. Although not covered in this tutorial, bisectors are a valuable tool for determining if radial velocity variations are due to an orbiting planet. As the planet reflex motion should only shift the line bisector without modifying its curvature, correlations between the velocity span and the radial velocity help dismiss a planet candidate."
   ]
  },
  {
   "cell_type": "code",
   "execution_count": null,
   "id": "96dd4dd9",
   "metadata": {},
   "outputs": [],
   "source": [
    "# reading the spectrum\n",
    "spec = pol.read_spectrum(\"CalculateBisector_tutorialfiles/1604052pu.s.norm\")"
   ]
  },
  {
   "cell_type": "markdown",
   "id": "d4a66a74",
   "metadata": {},
   "source": [
    "First create individual line profiles for a couple of iron, sodium and hidrogen lines.  "
   ]
  },
  {
   "cell_type": "code",
   "execution_count": null,
   "id": "d71b8c32",
   "metadata": {},
   "outputs": [],
   "source": [
    "# defining the line parameters\n",
    "line_ref = ['Fe I','Fe I','Fe I','Fe I','Na I','Fe I', 'Ha'] # \n",
    "lambda0 = [538.337, 539.318, 539.713, 543.45232, 589.592424, 630.24932,656.281] \n",
    "\n",
    "# center of gravity from literature \n",
    "cog = -33.129 \n",
    "\n",
    "# compute the line bisector in a biswidth km/s window around cog\n",
    "biswidth = [20, 20, 20, 20,40, 10, 45]\n",
    "\n",
    "prof = []\n",
    "# Loop over each line\n",
    "for il0, ibiswidth in zip(lambda0,biswidth):\n",
    "    lwidth = 150. * il0 / 2.99e5 #width in nm from width in km/s\n",
    "\n",
    "    # getting the profile for that line\n",
    "    iprof = spec.individual_line(il0, lwidth=lwidth)\n",
    "\n",
    "    # chaging to the stellar reference frame \n",
    "    # estimates the systemic velocity from the cog of line core \n",
    "    iprof = iprof.vshift(cog)\n",
    "\n",
    "    # Slice the profile in a 2*ibiswidth km/s window around cog\n",
    "    iUseVelRange = np.abs(iprof.vel) < 2*ibiswidth\n",
    "    iprof = iprof[iUseVelRange]\n",
    "\n",
    "    # normalize the profile for the bisector computation\n",
    "    Ic = np.mean(iprof.specI[np.abs(iprof.vel) > ibiswidth])\n",
    "    iprof = iprof.norm(Ic)\n",
    "    prof.append(iprof)"
   ]
  },
  {
   "cell_type": "markdown",
   "id": "562bdd01",
   "metadata": {},
   "source": [
    "We provied a list of `biswidth` in the example above. These values were chosen after inspecting each of the selected lines. Remember to carefully select this parameter when running a similar analysis, as wiggles around the continuum might confuse the bisector function. By construction, the bisector function attempts to prevent that issue by removing 5% of the line profile near the continuum from the line bisector calculation.\n",
    "\n",
    "We can now loop over the individual line profiles and call the <a href='../API/LSD_API.html#specpolFlow.LSD.calc_bis'>`calc_bis`</a> function. The code below illustrates the line profiles computed for the list of individual lines defined above."
   ]
  },
  {
   "cell_type": "code",
   "execution_count": null,
   "id": "f27ccb5a",
   "metadata": {
    "tags": [
     "hide-input"
    ]
   },
   "outputs": [],
   "source": [
    "ncols = 3\n",
    "nrows = int(np.ceil(len(lambda0)/ncols))\n",
    "\n",
    "fig, grid = plt.subplots(nrows,ncols, figsize = (9,9), sharey = True)\n",
    "axes = grid.flatten()\n",
    "\n",
    "vspan = np.zeros(len(lambda0))\n",
    "vtop = np.zeros(len(lambda0))\n",
    "vbottom = np.zeros(len(lambda0))\n",
    "for id in range(len(lambda0)):\n",
    "    # Get the line bisector and velocity span. \n",
    "    # Note that fullOutput is set to true in this example.\n",
    "    vspan[id], vtop[id], vbottom[id], bisector, intensity_levels = prof[id].calc_bis(cog = 0, Ic = 1, biswidth = biswidth[id], fullOutput = True, plotFit = False)\n",
    "\n",
    "    #### Plot ###\n",
    "    axes[id].errorbar(prof[id].vel, prof[id].specI, yerr = prof[id].specSigI, c = 'k', lw = 0.8, zorder = 1)\n",
    "    scale_bisector = 20 # arbitrary scale\n",
    "    axes[id].plot(bisector*scale_bisector, intensity_levels, 'r.', label = r'BIS$\\times %d$' %scale_bisector, zorder = 2)\n",
    "    axes[id].plot(bisector*scale_bisector, intensity_levels, 'r-', lw = 0.2, zorder = 2)\n",
    "    axes[id].axvline(biswidth[id], c = 'k', ls = ':', label = 'biswidth', zorder = 0)\n",
    "    axes[id].axvline(-biswidth[id], c = 'k', ls = ':', zorder = 0)\n",
    "    axes[id].axvline(0, c = 'k', ls = '--', zorder = 0)\n",
    "    axes[id].hlines(intensity_levels, xmin = -biswidth[id],xmax = biswidth[id], alpha = 1/3, color = 'c', zorder = 0)\n",
    "    axes[id].set_title('%s @ %1.2f nm'%(line_ref[id],lambda0[id]), fontsize='medium')\n",
    "    axes[id].set_xlabel(r'$\\upsilon$ (km/s)', fontsize = 'medium')\n",
    "    if id == 0:\n",
    "        axes[id].legend()\n",
    "\n",
    "for id in range(nrows):\n",
    "    grid[id,0].set_ylabel(r'Relative intensity', fontsize = 'medium')\n",
    "\n",
    "for id in range(len(lambda0),len(axes)):\n",
    "    axes[id].set_axis_off()\n",
    "\n",
    "plt.tight_layout()"
   ]
  }
 ],
 "metadata": {
  "interpreter": {
   "hash": "294a0b9bfc79ce88e29f56e11670a78bb3a231581d3d3954ad0b1fa1a01a617d"
  },
  "kernelspec": {
   "display_name": "Python 3.9.7 64-bit ('base': conda)",
   "name": "python3"
  },
  "language_info": {
   "codemirror_mode": {
    "name": "ipython",
    "version": 3
   },
   "file_extension": ".py",
   "mimetype": "text/x-python",
   "name": "python",
   "nbconvert_exporter": "python",
   "pygments_lexer": "ipython3",
   "version": "3.11.8"
  },
  "vscode": {
   "interpreter": {
    "hash": "0d105923ff2751b07541a5477823aa5d88058b2fa83b28e1bf4a447aeb52c9df"
   }
  }
 },
 "nbformat": 4,
 "nbformat_minor": 5
}
