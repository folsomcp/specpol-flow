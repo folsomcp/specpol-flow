{
 "cells": [
  {
   "cell_type": "markdown",
   "id": "be918f58",
   "metadata": {},
   "source": [
    "# How to do analysis on individual spectral lines\n",
    "\n",
    "Many of the tools in SpecpolFlow can be applied to a single line in an observed spectrum.  In this example we analyze a few emission lines in the spectrum of a T Tauri star."
   ]
  },
  {
   "cell_type": "markdown",
   "id": "823a70db",
   "metadata": {},
   "source": [
    ":::{Warning}\n",
    "Still under construction\n",
    ":::"
   ]
  },
  {
   "cell_type": "markdown",
   "id": "e7be17f0-f5fb-4d9e-a2c0-3fb6e368838d",
   "metadata": {},
   "source": [
    "First, import SpecpolFlow and some packages that will help with data visualization."
   ]
  },
  {
   "cell_type": "code",
   "execution_count": null,
   "id": "98e915b9-ef2d-469a-a08a-56c4bdc196cd",
   "metadata": {},
   "outputs": [],
   "source": [
    "import specpolFlow as pol\n",
    "\n",
    "import pandas as pd\n",
    "import matplotlib.pyplot as plt"
   ]
  },
  {
   "cell_type": "markdown",
   "id": "ec5da2c3-4590-46b7-b7f8-471f477c0faa",
   "metadata": {},
   "source": [
    "## 1 . Create individual line file\n",
    "\n",
    "In this tutorial, we use the UPENA normalized spectrum `IndividualLine_tutorialfiles/1423137pn.s` of the active cool star BP Tau.\n",
    "\n",
    "We first load in the spectrum. "
   ]
  },
  {
   "cell_type": "code",
   "execution_count": null,
   "id": "cbf1e3be-7a98-43ab-a8bc-bce203f1626b",
   "metadata": {},
   "outputs": [],
   "source": [
    "spec = pol.read_spectrum(\"IndividualLine_tutorialfiles/1423137pn.s\")"
   ]
  },
  {
   "cell_type": "markdown",
   "id": "f498b27b-8c43-47bd-94be-7bd0ea845fcb",
   "metadata": {},
   "source": [
    "To create the individual line file, we have to define the transition wavelength `lambda0` and its range with respect to the line center. In the example below, we select the HeI line at 667.815 nm in a 0.6 nm window."
   ]
  },
  {
   "cell_type": "code",
   "execution_count": null,
   "id": "f5620f88-0460-4494-90f8-cdbd7d62c4a0",
   "metadata": {},
   "outputs": [],
   "source": [
    "# Create individual line profile \n",
    "lambda0 = 667.815;  geff = 1.0 # He i 667.815 nm\n",
    "lwidth = 0.3 \n",
    "\n",
    "prof = spec.individual_line(lambda0 = lambda0, lwidth = lwidth)"
   ]
  },
  {
   "cell_type": "markdown",
   "id": "88096d75-f9ce-4b9a-8cee-c3e8776fa8b6",
   "metadata": {},
   "source": [
    "The object `prof` inherits all the atributes from the LSD class. Therefore, you can use all the functionality discussed in the LSD Class Tutorial (i.e., one can normalize, slice, or shift the emission line profile).\n",
    "\n",
    "Below, we visualize the individual line using the `plot` class function. "
   ]
  },
  {
   "cell_type": "code",
   "execution_count": null,
   "id": "f34ad7cd-e876-4808-874f-b84adc196e34",
   "metadata": {},
   "outputs": [],
   "source": [
    "fig, axes = prof.plot()\n",
    "axes[-1].axhline(1, color ='k', ls = '--')"
   ]
  },
  {
   "cell_type": "markdown",
   "id": "66bfd3f0-0687-4914-9989-09786fdc52d2",
   "metadata": {},
   "source": [
    "## 2. Calculate Bz\n",
    "\n",
    "Below, we demonstrate how to compute the longitudinal field (Bz) of the individual line. "
   ]
  },
  {
   "cell_type": "code",
   "execution_count": null,
   "id": "52211b33-ecc9-4e0c-967c-8613c219240f",
   "metadata": {},
   "outputs": [],
   "source": [
    "# Define the limits for the continuum normalization\n",
    "cmin = -50.0; cmax = 80.0\n",
    "\n",
    "# Compute Bz in a 45 km/s window\n",
    "Bz, fig = prof.calc_bz(norm = 'auto', cog = 'I', \n",
    "                   velrange = [cmin, cmax], bzwidth = 45.0, \n",
    "                   geff = geff, lambda0 = lambda0,\n",
    "                   plot = True)"
   ]
  },
  {
   "cell_type": "markdown",
   "id": "81fbe97e-6c31-42da-828c-bdc0f8f03b4a",
   "metadata": {},
   "source": [
    "We can then display the results using the pandas dataframa. For this particular line, we find Bz $= 1.2 \\pm 0.1$kG."
   ]
  },
  {
   "cell_type": "code",
   "execution_count": null,
   "id": "2384f575-197e-41d8-91fe-5fc4f7db9f5e",
   "metadata": {},
   "outputs": [],
   "source": [
    "Bz = pd.DataFrame(data = [Bz])\n",
    "\n",
    "# Simple display of the pandas dataframe\n",
    "Bz.style"
   ]
  },
  {
   "cell_type": "markdown",
   "id": "a1ab8852-1271-4f1f-953d-32c8dd8034d3",
   "metadata": {},
   "source": [
    "## 3. Normalize the individual line\n",
    "\n",
    "In the figure above, we can promptly note that `calc_bz` improved the continuum normalization, taking the median of the continuum outside of the line. \n",
    "Therefore, we propagate this normalization in the `prof` object before saving the individual line profile into a file."
   ]
  },
  {
   "cell_type": "code",
   "execution_count": null,
   "id": "e2c72f6f-543a-4790-a0a8-07e74769819e",
   "metadata": {},
   "outputs": [],
   "source": [
    "# Renormalize prof using the continuum value obtained by calc_bz\n",
    "prof_norm = prof.norm(Bz['Ic'][0])\n",
    "\n",
    "# Display the profile\n",
    "fig, axes = prof_norm.plot()\n",
    "axes[-1].axhline(1, color = 'k', ls = '--')"
   ]
  },
  {
   "cell_type": "markdown",
   "id": "348a317d-bfaf-4bd4-8bb2-81bb185d182a",
   "metadata": {},
   "source": [
    "## 4. Saving individual lines\n",
    "\n",
    "Finally, you can save the individual line into a file running the code below."
   ]
  },
  {
   "cell_type": "code",
   "execution_count": null,
   "id": "1cf3c247-587d-4dbd-b415-cb39f5d18528",
   "metadata": {},
   "outputs": [],
   "source": [
    "prof_norm.save(\"IndividualLine_tutorialfiles/1423137.Helium\")"
   ]
  },
  {
   "cell_type": "markdown",
   "id": "d3de8c3e",
   "metadata": {},
   "source": [
    "## 5. Dealing with order overlaps"
   ]
  },
  {
   "cell_type": "markdown",
   "id": "59a5d950",
   "metadata": {},
   "source": [
    "Now, let's do the same for the Halpha line:"
   ]
  },
  {
   "cell_type": "code",
   "execution_count": null,
   "id": "32a6989c",
   "metadata": {},
   "outputs": [],
   "source": [
    "# reading the spectrum\n",
    "spec = pol.read_spectrum(\"IndividualLine_tutorialfiles/1423137pn.s\")\n",
    "# defining the line parameters\n",
    "lambda0 = 656.281 ;  geff = 1.0 # Halpha\n",
    "lwidth = 700. * lambda0 / 2.99e5 #width in nm from width in km/s\n",
    "# getting the profile for that line\n",
    "prof = spec.individual_line(lambda0 = lambda0, lwidth = lwidth)\n",
    "\n",
    "# Define the limits for the continuum normalization\n",
    "# Compute Bz in a 300 km/s window around the cog\n",
    "cogRange = [-400., 400.]\n",
    "intRange = 200.\n",
    "Bz, fig = prof.calc_bz(norm = 'auto', cog = 'I', \n",
    "                       velrange = cogRange, bzwidth = intRange, \n",
    "                       geff = geff, lambda0 = lambda0,\n",
    "                       plot = True)   \n",
    "\n",
    "# Creating a dataframe to record the result of the different methods in this section\n",
    "d = {'Merge type':'None'}\n",
    "d.update(Bz)\n",
    "df_results = pd.DataFrame(data = [d])\n",
    "df_results.style"
   ]
  },
  {
   "cell_type": "markdown",
   "id": "cad78d3c",
   "metadata": {},
   "source": [
    "### 5.1 Option 1: Selecting only one order"
   ]
  },
  {
   "cell_type": "code",
   "execution_count": null,
   "id": "3a67e785",
   "metadata": {},
   "outputs": [],
   "source": [
    "## Selecting only one order\n",
    "orders = spec.get_orders_in_range(lambda0)\n",
    "print('There are {} orders with Halpha in them'.format(len(orders)))\n",
    "\n",
    "# Illustration of the order overlap\n",
    "fig, ax = plt.subplots(1,1)\n",
    "ax.plot(orders[0].wl, orders[0].specI, label = 'Lower order')\n",
    "ax.plot(orders[1].wl, orders[1].specI, label = 'Higher order')\n",
    "ax.set_xlabel('Wavelength (nm)')\n",
    "ax.set_ylabel('Stokes I / Ic')\n",
    "ax.legend(loc = 0)\n",
    "\n",
    "# Making a loop over the \n",
    "for ord, type in zip(orders,['lower only', 'higher only']):\n",
    "\n",
    "# getting the profile for that line\n",
    "    prof = ord.individual_line(lambda0 = lambda0, lwidth = lwidth)\n",
    "\n",
    "    # Compute Bz, in the defined velocity window around the cog\n",
    "    Bz, fig = prof.calc_bz(norm = 'auto', cog = 'I', \n",
    "                           velrange = cogRange, bzwidth = intRange, \n",
    "                           geff = geff, lambda0 = lambda0,\n",
    "                           plot = True)\n",
    "    d = {'Merge type':type}\n",
    "    d.update(Bz)\n",
    "    df = pd.DataFrame(data=[d])\n",
    "    df_results = pd.concat([df_results,df], ignore_index=True)\n",
    "\n",
    "# Display the Bz result as a dataframe\n",
    "df_results.style"
   ]
  },
  {
   "cell_type": "markdown",
   "id": "953073ed",
   "metadata": {},
   "source": [
    "### 5.2 Option 2: merging the orders"
   ]
  },
  {
   "cell_type": "code",
   "execution_count": null,
   "id": "bc943276",
   "metadata": {},
   "outputs": [],
   "source": [
    "## Merging using the trim method\n",
    "merge = spec.merge_orders(mode = 'trim', midpoint = 0.5)\n",
    "\n",
    "prof = merge.individual_line(lambda0 = lambda0, lwidth = lwidth)\n",
    "Bz, fig = prof.calc_bz(norm = 'auto', cog = 'I', \n",
    "                       velrange = cogRange, bzwidth = intRange, \n",
    "                       geff = geff, lambda0 = lambda0,\n",
    "                       plot = True)\n",
    "d = {'Merge type':'trim at mid-point'}\n",
    "d.update(Bz)\n",
    "df = pd.DataFrame(data = [d])\n",
    "df_results = pd.concat([df_results,df], ignore_index=True)\n",
    "\n",
    "\n",
    "## Merging using the coadd method\n",
    "merge = spec.merge_orders(mode='coadd')\n",
    "\n",
    "prof = merge.individual_line(lambda0 = lambda0, lwidth = lwidth)\n",
    "Bz, fig = prof.calc_bz(norm = 'auto', cog = 'I', \n",
    "                       velrange = cogRange, bzwidth = intRange, \n",
    "                       geff = geff, lambda0 = lambda0,\n",
    "                       plot = True)\n",
    "d = {'Merge type':'coadd'}\n",
    "d.update(Bz)\n",
    "df = pd.DataFrame(data = [d])\n",
    "df_results = pd.concat([df_results,df], ignore_index = True)\n",
    "\n",
    "# Display the Bz result as a dataframe\n",
    "df_results.style"
   ]
  },
  {
   "cell_type": "markdown",
   "id": "8a7af8fd",
   "metadata": {},
   "source": [
    "The Halpha line is somewhat complicated to analyze, in that it has a very broad emission component from regions not associated with the magnetic field.  This makes the correct velocity range to use for integration in the Bz calculation ambiguous.\n",
    "\n",
    "For a somewhat cleaner example that is still in a region where two spectral orders overlap, we can look at the He I 587.56 nm line."
   ]
  },
  {
   "cell_type": "code",
   "execution_count": null,
   "id": "25f7a939",
   "metadata": {},
   "outputs": [],
   "source": [
    "# reading the spectrum\n",
    "spec = pol.read_spectrum(\"IndividualLine_tutorialfiles/1423137pn.s\")\n",
    "# defining the line parameters\n",
    "lambda0 = 587.56 ;  geff = 1.0 # He I, really a multiplet (so geff is rather approximate)\n",
    "lwidth = 500. * lambda0 / 2.99e5 #width in nm from width in km/s\n",
    "# getting the profile for that line\n",
    "prof = spec.individual_line(lambda0 = lambda0, lwidth = lwidth)\n",
    "\n",
    "# Define the limits for the continuum normalization\n",
    "# Compute Bz in a 300 km/s window around the cog\n",
    "cogRange = [-100., 150.]\n",
    "intRange = 50.\n",
    "Bz, fig = prof.calc_bz(norm = 'auto', cog = 'I', \n",
    "                       velrange = cogRange, bzwidth = intRange, \n",
    "                       geff = geff, lambda0 = lambda0,\n",
    "                       plot = True)   \n",
    "\n",
    "# Creating a dataframe to record the result of the different methods in this section\n",
    "d = {'Merge type':'None'}\n",
    "d.update(Bz)\n",
    "df_results = pd.DataFrame(data = [d])\n",
    "\n",
    "orders = spec.get_orders_in_range(lambda0)\n",
    "# Making a loop over the individual orders\n",
    "for ord, type in zip(orders,['lower only', 'higher only']):\n",
    "    # getting the profile for that line\n",
    "    prof = ord.individual_line(lambda0 = lambda0, lwidth = lwidth)\n",
    "    Bz = prof.calc_bz(norm = 'auto', cog = 'I', \n",
    "                           velrange = cogRange, bzwidth = intRange, \n",
    "                           geff = geff, lambda0 = lambda0,\n",
    "                           plot = False)\n",
    "    d = {'Merge type':type}\n",
    "    d.update(Bz)\n",
    "    df = pd.DataFrame(data = [d])\n",
    "    df_results = pd.concat([df_results,df], ignore_index=True)\n",
    "\n",
    "# Merging using the trim method\n",
    "merge = spec.merge_orders(mode = 'trim', midpoint = 0.5)\n",
    "prof = merge.individual_line(lambda0 = lambda0, lwidth = lwidth)\n",
    "Bz = prof.calc_bz(norm = 'auto', cog = 'I', \n",
    "                  velrange = cogRange, bzwidth = intRange, \n",
    "                  geff = geff, lambda0 = lambda0,\n",
    "                  plot = False)\n",
    "d = {'Merge type':'trim at mid-point'}\n",
    "d.update(Bz)\n",
    "df = pd.DataFrame(data = [d])\n",
    "df_results = pd.concat([df_results,df], ignore_index=True)\n",
    "\n",
    "## Merging using the coadd method\n",
    "merge = spec.merge_orders(mode = 'coadd')\n",
    "prof = merge.individual_line(lambda0 = lambda0, lwidth = lwidth)\n",
    "Bz = prof.calc_bz(norm = 'auto', cog = 'I', \n",
    "                  velrange = cogRange, bzwidth = intRange, \n",
    "                  geff = geff, lambda0 = lambda0,\n",
    "                  plot = False)\n",
    "d = {'Merge type':'coadd'}\n",
    "d.update(Bz)\n",
    "df = pd.DataFrame(data = [d])\n",
    "df_results = pd.concat([df_results,df], ignore_index=True)\n",
    "\n",
    "# Display the Bz result as a dataframe\n",
    "df_results.style"
   ]
  }
 ],
 "metadata": {
  "interpreter": {
   "hash": "294a0b9bfc79ce88e29f56e11670a78bb3a231581d3d3954ad0b1fa1a01a617d"
  },
  "kernelspec": {
   "display_name": "Python 3.9.7 64-bit ('base': conda)",
   "name": "python3"
  },
  "language_info": {
   "codemirror_mode": {
    "name": "ipython",
    "version": 3
   },
   "file_extension": ".py",
   "mimetype": "text/x-python",
   "name": "python",
   "nbconvert_exporter": "python",
   "pygments_lexer": "ipython3",
   "version": "3.9.7"
  }
 },
 "nbformat": 4,
 "nbformat_minor": 5
}
