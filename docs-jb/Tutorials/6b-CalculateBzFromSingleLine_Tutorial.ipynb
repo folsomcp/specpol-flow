{
 "cells": [
  {
   "cell_type": "markdown",
   "id": "e88ea9f7",
   "metadata": {},
   "source": [
    "# Calculating the longitudinal field (Bz) and False Alarm Probability (FAP) from an individual line"
   ]
  },
  {
   "cell_type": "markdown",
   "id": "54b48b1d",
   "metadata": {},
   "source": [
    "In construction"
   ]
  }
 ],
 "metadata": {
  "interpreter": {
   "hash": "294a0b9bfc79ce88e29f56e11670a78bb3a231581d3d3954ad0b1fa1a01a617d"
  },
  "kernelspec": {
   "display_name": "Python 3.9.7 64-bit ('base': conda)",
   "name": "python3"
  },
  "language_info": {
   "codemirror_mode": {
    "name": "ipython",
    "version": 3
   },
   "file_extension": ".py",
   "mimetype": "text/x-python",
   "name": "python",
   "nbconvert_exporter": "python",
   "pygments_lexer": "ipython3",
   "version": "3.9.7"
  },
  "vscode": {
   "interpreter": {
    "hash": "0d105923ff2751b07541a5477823aa5d88058b2fa83b28e1bf4a447aeb52c9df"
   }
  }
 },
 "nbformat": 4,
 "nbformat_minor": 5
}
